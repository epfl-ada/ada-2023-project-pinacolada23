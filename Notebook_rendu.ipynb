{
 "cells": [
  {
   "cell_type": "markdown",
   "id": "05eac20b",
   "metadata": {},
   "source": [
    "# Evolution of actors careers post-blockbuster in the film industry\n",
    "How does a significant box office success impact an actor's subsequent choices and overall career path ?\n",
    "\n",
    "##  Context\n",
    "\n",
    "Analyze career trajectories of actors following their roles in high-grossing films using the CMU Movie Dataset\n",
    "\n",
    "More specifically, explore the following research questions: \n",
    "- Does a high-grossing film consistently lead to **continued box office success** for its actors in their subsequent films?\n",
    "- Is there a noticeable **change in genre or type of characters** portrayed by actors after a significant hit?\n",
    "- What are the long-term career impacts on actors who have starred in blockbuster hits?"
   ]
  },
  {
   "cell_type": "code",
   "execution_count": 1,
   "id": "5de28eb0",
   "metadata": {},
   "outputs": [],
   "source": [
    "# External imports\n",
    "import pandas as pd\n",
    "import numpy as np\n",
    "import matplotlib.pyplot as plt\n",
    "import seaborn as sns"
   ]
  },
  {
   "cell_type": "markdown",
   "id": "4015c2e7",
   "metadata": {},
   "source": [
    "## 1) Loading data:"
   ]
  },
  {
   "cell_type": "code",
   "execution_count": 2,
   "id": "000ce76d",
   "metadata": {},
   "outputs": [],
   "source": [
    "# Load data\n",
    "DATA_FOLDER = './MovieSummaries'\n",
    "CHARACTER_DATASET = DATA_FOLDER + '/character.metadata.tsv'\n",
    "MOVIE_DATASET = DATA_FOLDER + '/movie.metadata.tsv'\n",
    "NAME_DATASET = DATA_FOLDER + '/name.clusters.txt'\n",
    "PLOT_DATASET = DATA_FOLDER + '/plot_summaries.txt'\n",
    "TVTROPES_DATASET = DATA_FOLDER + '/tvtropes.clusters.txt'\n",
    "\n",
    "characters_columns = ['wikiID', 'movieID', 'releaseDate', 'charactName', 'birth', 'gender', 'height', 'ethnicity',\n",
    "                      'name_actor', 'age', 'charActID', 'charID', 'actID']\n",
    "movies_columns = ['wikiID', 'movieID', 'name_movie', 'releaseDate', 'revenue', 'runtime', 'languages',\n",
    "                  'countries', 'genres']\n",
    "\n",
    "characters = pd.read_table(CHARACTER_DATASET, header=None, names=characters_columns)\n",
    "movies = pd.read_table(MOVIE_DATASET, header=None, names=movies_columns)\n"
   ]
  },
  {
   "cell_type": "code",
   "execution_count": 3,
   "id": "93af7b02",
   "metadata": {
    "scrolled": true
   },
   "outputs": [
    {
     "data": {
      "text/html": [
       "<div>\n",
       "<style scoped>\n",
       "    .dataframe tbody tr th:only-of-type {\n",
       "        vertical-align: middle;\n",
       "    }\n",
       "\n",
       "    .dataframe tbody tr th {\n",
       "        vertical-align: top;\n",
       "    }\n",
       "\n",
       "    .dataframe thead th {\n",
       "        text-align: right;\n",
       "    }\n",
       "</style>\n",
       "<table border=\"1\" class=\"dataframe\">\n",
       "  <thead>\n",
       "    <tr style=\"text-align: right;\">\n",
       "      <th></th>\n",
       "      <th>wikiID</th>\n",
       "      <th>movieID</th>\n",
       "      <th>releaseDate</th>\n",
       "      <th>charactName</th>\n",
       "      <th>birth</th>\n",
       "      <th>gender</th>\n",
       "      <th>height</th>\n",
       "      <th>ethnicity</th>\n",
       "      <th>name_actor</th>\n",
       "      <th>age</th>\n",
       "      <th>charActID</th>\n",
       "      <th>charID</th>\n",
       "      <th>actID</th>\n",
       "    </tr>\n",
       "  </thead>\n",
       "  <tbody>\n",
       "    <tr>\n",
       "      <th>0</th>\n",
       "      <td>975900</td>\n",
       "      <td>/m/03vyhn</td>\n",
       "      <td>2001-08-24</td>\n",
       "      <td>Akooshay</td>\n",
       "      <td>1958-08-26</td>\n",
       "      <td>F</td>\n",
       "      <td>1.620</td>\n",
       "      <td>NaN</td>\n",
       "      <td>Wanda De Jesus</td>\n",
       "      <td>42.0</td>\n",
       "      <td>/m/0bgchxw</td>\n",
       "      <td>/m/0bgcj3x</td>\n",
       "      <td>/m/03wcfv7</td>\n",
       "    </tr>\n",
       "    <tr>\n",
       "      <th>1</th>\n",
       "      <td>975900</td>\n",
       "      <td>/m/03vyhn</td>\n",
       "      <td>2001-08-24</td>\n",
       "      <td>Lieutenant Melanie Ballard</td>\n",
       "      <td>1974-08-15</td>\n",
       "      <td>F</td>\n",
       "      <td>1.780</td>\n",
       "      <td>/m/044038p</td>\n",
       "      <td>Natasha Henstridge</td>\n",
       "      <td>27.0</td>\n",
       "      <td>/m/0jys3m</td>\n",
       "      <td>/m/0bgchn4</td>\n",
       "      <td>/m/0346l4</td>\n",
       "    </tr>\n",
       "    <tr>\n",
       "      <th>2</th>\n",
       "      <td>975900</td>\n",
       "      <td>/m/03vyhn</td>\n",
       "      <td>2001-08-24</td>\n",
       "      <td>Desolation Williams</td>\n",
       "      <td>1969-06-15</td>\n",
       "      <td>M</td>\n",
       "      <td>1.727</td>\n",
       "      <td>/m/0x67</td>\n",
       "      <td>Ice Cube</td>\n",
       "      <td>32.0</td>\n",
       "      <td>/m/0jys3g</td>\n",
       "      <td>/m/0bgchn_</td>\n",
       "      <td>/m/01vw26l</td>\n",
       "    </tr>\n",
       "    <tr>\n",
       "      <th>3</th>\n",
       "      <td>975900</td>\n",
       "      <td>/m/03vyhn</td>\n",
       "      <td>2001-08-24</td>\n",
       "      <td>Sgt Jericho Butler</td>\n",
       "      <td>1967-09-12</td>\n",
       "      <td>M</td>\n",
       "      <td>1.750</td>\n",
       "      <td>NaN</td>\n",
       "      <td>Jason Statham</td>\n",
       "      <td>33.0</td>\n",
       "      <td>/m/02vchl6</td>\n",
       "      <td>/m/0bgchnq</td>\n",
       "      <td>/m/034hyc</td>\n",
       "    </tr>\n",
       "    <tr>\n",
       "      <th>4</th>\n",
       "      <td>975900</td>\n",
       "      <td>/m/03vyhn</td>\n",
       "      <td>2001-08-24</td>\n",
       "      <td>Bashira Kincaid</td>\n",
       "      <td>1977-09-25</td>\n",
       "      <td>F</td>\n",
       "      <td>1.650</td>\n",
       "      <td>NaN</td>\n",
       "      <td>Clea DuVall</td>\n",
       "      <td>23.0</td>\n",
       "      <td>/m/02vbb3r</td>\n",
       "      <td>/m/0bgchp9</td>\n",
       "      <td>/m/01y9xg</td>\n",
       "    </tr>\n",
       "  </tbody>\n",
       "</table>\n",
       "</div>"
      ],
      "text/plain": [
       "   wikiID    movieID releaseDate                 charactName       birth  \\\n",
       "0  975900  /m/03vyhn  2001-08-24                    Akooshay  1958-08-26   \n",
       "1  975900  /m/03vyhn  2001-08-24  Lieutenant Melanie Ballard  1974-08-15   \n",
       "2  975900  /m/03vyhn  2001-08-24         Desolation Williams  1969-06-15   \n",
       "3  975900  /m/03vyhn  2001-08-24          Sgt Jericho Butler  1967-09-12   \n",
       "4  975900  /m/03vyhn  2001-08-24             Bashira Kincaid  1977-09-25   \n",
       "\n",
       "  gender  height   ethnicity          name_actor   age   charActID  \\\n",
       "0      F   1.620         NaN      Wanda De Jesus  42.0  /m/0bgchxw   \n",
       "1      F   1.780  /m/044038p  Natasha Henstridge  27.0   /m/0jys3m   \n",
       "2      M   1.727     /m/0x67            Ice Cube  32.0   /m/0jys3g   \n",
       "3      M   1.750         NaN       Jason Statham  33.0  /m/02vchl6   \n",
       "4      F   1.650         NaN         Clea DuVall  23.0  /m/02vbb3r   \n",
       "\n",
       "       charID       actID  \n",
       "0  /m/0bgcj3x  /m/03wcfv7  \n",
       "1  /m/0bgchn4   /m/0346l4  \n",
       "2  /m/0bgchn_  /m/01vw26l  \n",
       "3  /m/0bgchnq   /m/034hyc  \n",
       "4  /m/0bgchp9   /m/01y9xg  "
      ]
     },
     "execution_count": 3,
     "metadata": {},
     "output_type": "execute_result"
    }
   ],
   "source": [
    "# Visualize characters data table\n",
    "characters.head()"
   ]
  },
  {
   "cell_type": "code",
   "execution_count": 4,
   "id": "3e48c693",
   "metadata": {
    "scrolled": true
   },
   "outputs": [
    {
     "data": {
      "text/html": [
       "<div>\n",
       "<style scoped>\n",
       "    .dataframe tbody tr th:only-of-type {\n",
       "        vertical-align: middle;\n",
       "    }\n",
       "\n",
       "    .dataframe tbody tr th {\n",
       "        vertical-align: top;\n",
       "    }\n",
       "\n",
       "    .dataframe thead th {\n",
       "        text-align: right;\n",
       "    }\n",
       "</style>\n",
       "<table border=\"1\" class=\"dataframe\">\n",
       "  <thead>\n",
       "    <tr style=\"text-align: right;\">\n",
       "      <th></th>\n",
       "      <th>wikiID</th>\n",
       "      <th>movieID</th>\n",
       "      <th>name_movie</th>\n",
       "      <th>releaseDate</th>\n",
       "      <th>revenue</th>\n",
       "      <th>runtime</th>\n",
       "      <th>languages</th>\n",
       "      <th>countries</th>\n",
       "      <th>genres</th>\n",
       "    </tr>\n",
       "  </thead>\n",
       "  <tbody>\n",
       "    <tr>\n",
       "      <th>0</th>\n",
       "      <td>975900</td>\n",
       "      <td>/m/03vyhn</td>\n",
       "      <td>Ghosts of Mars</td>\n",
       "      <td>2001-08-24</td>\n",
       "      <td>14010832.0</td>\n",
       "      <td>98.0</td>\n",
       "      <td>{\"/m/02h40lc\": \"English Language\"}</td>\n",
       "      <td>{\"/m/09c7w0\": \"United States of America\"}</td>\n",
       "      <td>{\"/m/01jfsb\": \"Thriller\", \"/m/06n90\": \"Science...</td>\n",
       "    </tr>\n",
       "    <tr>\n",
       "      <th>1</th>\n",
       "      <td>3196793</td>\n",
       "      <td>/m/08yl5d</td>\n",
       "      <td>Getting Away with Murder: The JonBenét Ramsey ...</td>\n",
       "      <td>2000-02-16</td>\n",
       "      <td>NaN</td>\n",
       "      <td>95.0</td>\n",
       "      <td>{\"/m/02h40lc\": \"English Language\"}</td>\n",
       "      <td>{\"/m/09c7w0\": \"United States of America\"}</td>\n",
       "      <td>{\"/m/02n4kr\": \"Mystery\", \"/m/03bxz7\": \"Biograp...</td>\n",
       "    </tr>\n",
       "    <tr>\n",
       "      <th>2</th>\n",
       "      <td>28463795</td>\n",
       "      <td>/m/0crgdbh</td>\n",
       "      <td>Brun bitter</td>\n",
       "      <td>1988</td>\n",
       "      <td>NaN</td>\n",
       "      <td>83.0</td>\n",
       "      <td>{\"/m/05f_3\": \"Norwegian Language\"}</td>\n",
       "      <td>{\"/m/05b4w\": \"Norway\"}</td>\n",
       "      <td>{\"/m/0lsxr\": \"Crime Fiction\", \"/m/07s9rl0\": \"D...</td>\n",
       "    </tr>\n",
       "    <tr>\n",
       "      <th>3</th>\n",
       "      <td>9363483</td>\n",
       "      <td>/m/0285_cd</td>\n",
       "      <td>White Of The Eye</td>\n",
       "      <td>1987</td>\n",
       "      <td>NaN</td>\n",
       "      <td>110.0</td>\n",
       "      <td>{\"/m/02h40lc\": \"English Language\"}</td>\n",
       "      <td>{\"/m/07ssc\": \"United Kingdom\"}</td>\n",
       "      <td>{\"/m/01jfsb\": \"Thriller\", \"/m/0glj9q\": \"Erotic...</td>\n",
       "    </tr>\n",
       "    <tr>\n",
       "      <th>4</th>\n",
       "      <td>261236</td>\n",
       "      <td>/m/01mrr1</td>\n",
       "      <td>A Woman in Flames</td>\n",
       "      <td>1983</td>\n",
       "      <td>NaN</td>\n",
       "      <td>106.0</td>\n",
       "      <td>{\"/m/04306rv\": \"German Language\"}</td>\n",
       "      <td>{\"/m/0345h\": \"Germany\"}</td>\n",
       "      <td>{\"/m/07s9rl0\": \"Drama\"}</td>\n",
       "    </tr>\n",
       "  </tbody>\n",
       "</table>\n",
       "</div>"
      ],
      "text/plain": [
       "     wikiID     movieID                                         name_movie  \\\n",
       "0    975900   /m/03vyhn                                     Ghosts of Mars   \n",
       "1   3196793   /m/08yl5d  Getting Away with Murder: The JonBenét Ramsey ...   \n",
       "2  28463795  /m/0crgdbh                                        Brun bitter   \n",
       "3   9363483  /m/0285_cd                                   White Of The Eye   \n",
       "4    261236   /m/01mrr1                                  A Woman in Flames   \n",
       "\n",
       "  releaseDate     revenue  runtime                           languages  \\\n",
       "0  2001-08-24  14010832.0     98.0  {\"/m/02h40lc\": \"English Language\"}   \n",
       "1  2000-02-16         NaN     95.0  {\"/m/02h40lc\": \"English Language\"}   \n",
       "2        1988         NaN     83.0  {\"/m/05f_3\": \"Norwegian Language\"}   \n",
       "3        1987         NaN    110.0  {\"/m/02h40lc\": \"English Language\"}   \n",
       "4        1983         NaN    106.0   {\"/m/04306rv\": \"German Language\"}   \n",
       "\n",
       "                                   countries  \\\n",
       "0  {\"/m/09c7w0\": \"United States of America\"}   \n",
       "1  {\"/m/09c7w0\": \"United States of America\"}   \n",
       "2                     {\"/m/05b4w\": \"Norway\"}   \n",
       "3             {\"/m/07ssc\": \"United Kingdom\"}   \n",
       "4                    {\"/m/0345h\": \"Germany\"}   \n",
       "\n",
       "                                              genres  \n",
       "0  {\"/m/01jfsb\": \"Thriller\", \"/m/06n90\": \"Science...  \n",
       "1  {\"/m/02n4kr\": \"Mystery\", \"/m/03bxz7\": \"Biograp...  \n",
       "2  {\"/m/0lsxr\": \"Crime Fiction\", \"/m/07s9rl0\": \"D...  \n",
       "3  {\"/m/01jfsb\": \"Thriller\", \"/m/0glj9q\": \"Erotic...  \n",
       "4                            {\"/m/07s9rl0\": \"Drama\"}  "
      ]
     },
     "execution_count": 4,
     "metadata": {},
     "output_type": "execute_result"
    }
   ],
   "source": [
    "# Visualize movies data table\n",
    "movies.head()"
   ]
  },
  {
   "cell_type": "markdown",
   "id": "8a658291",
   "metadata": {},
   "source": [
    "## 2) Useful data for our problematics\n",
    "\n",
    "From this dataset, we first look at the **amount of information** available for each feature. This will help us determine the feasability of our project and guide us for the selection of a relevant subset of data to work on.\n",
    "\n",
    "With such a large database, it is complex to find a model that both describes the career of an English celebrity in the 40's and that of an actor in Japan in the 2000's. Cultural and economic differences also make it difficult to find a common metric for success. Therefore, we'd like to limit ourselves to a consistent and comprehensible subset of the data.\n",
    "\n",
    "#### Relevant features\n",
    "First of all, we need to select the features we are interested in in the database. We decided to define the success of an actor depending on the number of movies they played and their corresponding box office revenue. It might also be relevant to have an understanding of the time line for the description of the career of an actor. In addition we would like to have information about the actor such as age, gender and ethnicity to mitigate a possible bias comming from a diffence in population distribution in our analysis. \n",
    "\n",
    "For our analysis we are also interested in the character type played by the actors but this will come later on. (Yassine: Cette phrase ne sert a rien ici, il faut plutot la mettre là ou on va parler de character type)\n",
    "\n",
    "Thus the feature we want to check are:\n",
    "* Actor name\n",
    "* Actor date of birth or age at the time of the movie\n",
    "* Actor gender\n",
    "* Actor ethnicity\n",
    "* Movie box office revenue\n",
    "* Movie release date"
   ]
  },
  {
   "cell_type": "code",
   "execution_count": 5,
   "id": "23f4c28f",
   "metadata": {},
   "outputs": [],
   "source": [
    "# Make deep copies to make sure not to change original data\n",
    "characters_copy = characters.copy()\n",
    "movies_copy = movies.copy()"
   ]
  },
  {
   "cell_type": "markdown",
   "id": "30c2654c",
   "metadata": {},
   "source": [
    "We want to populate the characters data set with information on the movie in which characters appear. For this we perfom a left merge on characters_copy with movies_copy"
   ]
  },
  {
   "cell_type": "code",
   "execution_count": 6,
   "id": "e6a5e152",
   "metadata": {},
   "outputs": [],
   "source": [
    "# Populate the character dataset with infromations about the movies\n",
    "character_movies = pd.merge(characters_copy, movies_copy, on=['wikiID', 'movieID', 'releaseDate'] , how='left')"
   ]
  },
  {
   "cell_type": "markdown",
   "id": "83dd70e4",
   "metadata": {},
   "source": [
    "Let's look at the amount of data on movie revenue and movie date that is missing (remeber that a movie can appear multiple times - we can have data about two different actors that appeared in the same movie)"
   ]
  },
  {
   "cell_type": "code",
   "execution_count": 7,
   "id": "deac4cbb",
   "metadata": {},
   "outputs": [
    {
     "name": "stdout",
     "output_type": "stream",
     "text": [
      "The total number of movies we have is: 64330\n",
      "The percentage of movies for which we have the revenue: 12.78%\n",
      "The percentage of movies for which we have the release date: 94.23753%\n"
     ]
    }
   ],
   "source": [
    "# Compute the total number of movies\n",
    "nb_movies = len(character_movies['movieID'].unique())\n",
    "\n",
    "# Compute the number of movies for which we box office revenue\n",
    "character_movies_revenue = character_movies[['movieID', 'revenue']]\n",
    "character_movies_revenue = character_movies_revenue.dropna()\n",
    "nb_movies_revenue = len(character_movies_revenue['movieID'].unique())\n",
    "\n",
    "# Compute the number of movies for which we release date\n",
    "character_movies_date = character_movies[['movieID', 'releaseDate']]\n",
    "character_movies_date = character_movies_date.dropna()\n",
    "nb_movies_date = len(character_movies_date['movieID'].unique())\n",
    "\n",
    "# Print the results\n",
    "print(f\"The total number of movies we have is: {nb_movies}\")\n",
    "print(f\"The percentage of movies for which we have the revenue: {nb_movies_revenue/nb_movies*100 :.2f}%\")\n",
    "print(f\"The percentage of movies for which we have the release date: {nb_movies_date/nb_movies*100 :.5f}%\")"
   ]
  },
  {
   "cell_type": "markdown",
   "id": "28c1655c",
   "metadata": {},
   "source": [
    "As we can see most movies have a release date but only about 13% have information about the box office revenue. Let's look at this percentage per year (with a temporal axis)."
   ]
  },
  {
   "cell_type": "code",
   "execution_count": 8,
   "id": "4182145c",
   "metadata": {},
   "outputs": [],
   "source": [
    "from helpers import complete_date\n",
    "# Make deep copy and keep only the movies for which we have the release date\n",
    "character_movies_filtered = character_movies.copy()\n",
    "character_movies_filtered = character_movies_filtered.dropna(subset='releaseDate')\n",
    "\n",
    "# Apply complete_date function to all release dates\n",
    "character_movies_filtered['releaseDate'] = character_movies_filtered['releaseDate'].apply(complete_date)\n",
    "\n",
    "# Convert to datetime format\n",
    "character_movies_filtered['releaseDate'] = pd.to_datetime(character_movies_filtered['releaseDate'], errors='coerce')"
   ]
  },
  {
   "cell_type": "code",
   "execution_count": 9,
   "id": "3e0e4b7c",
   "metadata": {
    "scrolled": false
   },
   "outputs": [
    {
     "data": {
      "image/png": "[encoded data removed]",
      "text/plain": [
       "<Figure size 720x432 with 1 Axes>"
      ]
     },
     "metadata": {
      "needs_background": "light"
     },
     "output_type": "display_data"
    }
   ],
   "source": [
    "# Add a column with the year of the release date\n",
    "character_movies_filtered['year'] = character_movies_filtered['releaseDate'].dt.year\n",
    "\n",
    "# Count the number of movies per 10 years interval:\n",
    "\n",
    "# For the total number of movies\n",
    "intervals = pd.cut(character_movies_filtered['year'], bins=range(1880, 2016, 10), right=False)\n",
    "nb_movies_per_interval = intervals.value_counts().sort_index()\n",
    "\n",
    "# For movies with the revenue\n",
    "character_movies_filtered_revenue = character_movies_filtered.dropna(subset='revenue')\n",
    "intervals_revenue = pd.cut(character_movies_filtered_revenue['year'], bins=range(1880, 2016, 10), right=False)\n",
    "nb_movies_per_interval_revenue = intervals_revenue.value_counts().sort_index()\n",
    "\n",
    "plt.figure(figsize=(10, 6))\n",
    "\n",
    "# Plot bar plot of number of movies per year\n",
    "tot_bar=plt.bar([f'{b.left}-{b.right-1}' for b in nb_movies_per_interval.index], \n",
    "                nb_movies_per_interval.values, label='Total number of movies')\n",
    "revenue_bar=plt.bar([f'{b.left}-{b.right-1}' for b in nb_movies_per_interval_revenue.index],\n",
    "                    nb_movies_per_interval_revenue.values, label='Number of movies with revenue')\n",
    "\n",
    "plt.title('Number of movies over decades')\n",
    "plt.xlabel('Year')\n",
    "plt.ylabel('Number of movies')\n",
    "plt.tick_params(axis='x', rotation=45)\n",
    "plt.legend()\n",
    "\n",
    "# TODO Yassine : maybe put this in a helper fnction?????\n",
    "# Add the percentage on top of each bar\n",
    "for i, tot_bar in enumerate(tot_bar):\n",
    "    height_tot_bar = tot_bar.get_height()\n",
    "    height_revenue_bar = revenue_bar[i].get_height()\n",
    "    percent = height_revenue_bar/height_tot_bar *100\n",
    "    plt.text(tot_bar.get_x() + tot_bar.get_width() / 2, height_tot_bar + 5, \n",
    "             f'{percent:.2f}%', ha='center', va='bottom')\n",
    "\n",
    "# Show graph\n",
    "plt.show()"
   ]
  },
  {
   "cell_type": "markdown",
   "id": "db4f89d0",
   "metadata": {},
   "source": [
    "From this graph we can see that the percentage of revenue data increases through the year. It might thus be more relevant to perform our analysis on a subset of the years for which the revenue information is more present. We could for example only take movies starting from 1980. (Yassine: We can even take movies starting from 1950 even if from 70 to 80 the percentage is not high?)"
   ]
  },
  {
   "cell_type": "code",
   "execution_count": 10,
   "id": "cfc8ffa3",
   "metadata": {},
   "outputs": [
    {
     "name": "stdout",
     "output_type": "stream",
     "text": [
      "The percentage of movies for which we have the revenue after 1980: 18.83%\n"
     ]
    }
   ],
   "source": [
    "# Remove all movies that where released before 1980\n",
    "character_movies_filtered = character_movies_filtered[character_movies_filtered.year >= 1980]\n",
    "\n",
    "# Look at the percentage of revenue data in this subset:\n",
    "# Compute the total number of movies\n",
    "nb_movies_1980 = len(character_movies_filtered['movieID'].unique())\n",
    "\n",
    "# Compute the number of movies for which we box office revenue\n",
    "character_movies_filtered_revenue_1980 = character_movies_filtered[['movieID', 'revenue']]\n",
    "character_movies_filtered_revenue_1980 = character_movies_filtered_revenue_1980.dropna()\n",
    "nb_movies_1980_revenue = len(character_movies_filtered_revenue_1980['movieID'].unique())\n",
    "\n",
    "print(f\"The percentage of movies for which we have the revenue after 1980: {nb_movies_1980_revenue/nb_movies_1980*100 :.2f}%\")"
   ]
  },
  {
   "cell_type": "markdown",
   "id": "fe0c4404",
   "metadata": {},
   "source": [
    "Let's have a look at the amount of revenue data we have per country"
   ]
  },
  {
   "cell_type": "code",
   "execution_count": 11,
   "id": "78152129",
   "metadata": {},
   "outputs": [],
   "source": [
    "from helpers import sort_words, create_words_database\n",
    "# Make deep copy for the country analysis\n",
    "df_country = character_movies_filtered.copy()\n",
    "\n",
    "# Change countries into a list of String\n",
    "df_country['countries'] = df_country['countries'].str.extract(r'\\\"([\\w\\s]+)\\\"')\n",
    "df_country['countries'] = df_country['countries'].apply(lambda x: [x] if pd.notna(x) else ['Unknown'])\n",
    "\n",
    "# Count the number of movies per country\n",
    "countries_list = df_country['countries'].tolist()\n",
    "# Flaten the list of countries and sort the resulting list\n",
    "stored_countries = sort_words(countries_list)\n",
    "# Count the number of repetition per country\n",
    "nb_movies_per_country = create_words_database(stored_countries)\n",
    "# Sort by ascending order of movies made per country\n",
    "nb_movies_per_country = dict(sorted(nb_movies_per_country.items(), key=lambda item: item[1]))\n",
    "# Remove movies that shot less than 200 movies\n",
    "nb_movies_per_country = {country: nb for country, nb in nb_movies_per_country.items() if nb >= 200}\n",
    "\n",
    "\n",
    "# Count the number of movies with known revenue per country\n",
    "countries_list = df_country.dropna(subset=['revenue'])['countries'].tolist()\n",
    "# Flaten the list of countries and sort the resulting list\n",
    "stored_countries = sort_words(countries_list)\n",
    "# Count the number of repetition per country\n",
    "nb_movies_per_country_revenue = create_words_database(stored_countries)\n",
    "# Sort by ascending order of movies made per country\n",
    "nb_movies_per_country_revenue = dict(sorted(nb_movies_per_country_revenue.items(), key=lambda item: item[1]))\n",
    "\n",
    "\n",
    "# TODO comment these lines (Xenia? j'ai pas entierement compris)\n",
    "country_200_movie = list(nb_movies_per_country.keys())\n",
    "nb_movies_per_country_revenue = {country: nb for country, nb in nb_movies_per_country_revenue.items() if country in country_200_movie}\n",
    "nb_movies_per_country_revenue.update({country: 0 for country in country_200_movie if country not in nb_movies_per_country_revenue})\n",
    "nb_movies_per_country_revenue = {country: nb_movies_per_country_revenue[country] for country in nb_movies_per_country}\n"
   ]
  },
  {
   "cell_type": "code",
   "execution_count": 12,
   "id": "4bf9cba6",
   "metadata": {},
   "outputs": [
    {
     "data": {
      "image/png": "[encoded data removed]",
      "text/plain": [
       "<Figure size 864x432 with 1 Axes>"
      ]
     },
     "metadata": {
      "needs_background": "light"
     },
     "output_type": "display_data"
    }
   ],
   "source": [
    "# Extract the names of the countries and the value from each dictionary\n",
    "country_names = list(nb_movies_per_country.keys())\n",
    "nb_movies_tot = list(nb_movies_per_country.values())\n",
    "nb_movies_revenue = list(nb_movies_per_country_revenue.values())\n",
    "\n",
    "# Make a list of indices for the position of the bars\n",
    "indices = range(len(country_names))\n",
    "\n",
    "# Plot histogram\n",
    "plt.figure(figsize=(12, 6))\n",
    "bars_tot = plt.bar(indices, nb_movies_tot, label='Total number of movies')\n",
    "bars_revenue = plt.bar(indices, nb_movies_revenue, label='Number of movies with revenue')\n",
    "\n",
    "# Add label and title\n",
    "plt.xlabel('Country')\n",
    "plt.ylabel('Number of movies')\n",
    "plt.title('Number of movies per country')\n",
    "plt.xticks(indices, country_names, rotation=90)\n",
    "\n",
    "# Add the percentage on top of each bar\n",
    "for i, bars_tot in enumerate(bars_tot):\n",
    "    height_bars_tot = bars_tot.get_height()\n",
    "    height_bars_revenue = bars_revenue[i].get_height()\n",
    "    percent = height_bars_revenue/height_bars_tot *100\n",
    "    plt.text(bars_tot.get_x() + bars_tot.get_width() / 2, height_bars_tot + 5,\n",
    "             f'{percent:.0f}%', ha='center', va='bottom', size=7)\n",
    "\n",
    "\n",
    "# Show legend and histogram\n",
    "plt.legend()\n",
    "plt.tight_layout()\n",
    "plt.show()\n"
   ]
  },
  {
   "cell_type": "markdown",
   "id": "c918aca0",
   "metadata": {},
   "source": [
    "From this plot we can see that the majority of the movies in our dataset come from the U.S. and they also have a high percentage of revenue information. From this we decided to keep only movies that were made in the U.S."
   ]
  },
  {
   "cell_type": "code",
   "execution_count": 13,
   "id": "97842d52",
   "metadata": {},
   "outputs": [
    {
     "name": "stdout",
     "output_type": "stream",
     "text": [
      "The remaining number of movies after the filtration is: 5341.\n"
     ]
    }
   ],
   "source": [
    "# Keep only movies that where made in the U.S.\n",
    "character_movies_filtered = character_movies_filtered[\n",
    "    character_movies_filtered.countries.apply(lambda x:\"United States of America\" in x)]\n",
    "\n",
    "# Keep only movies for which we have the revenue\n",
    "character_movies_filtered = character_movies_filtered.dropna(subset='revenue')\n",
    "\n",
    "# Compute the number of movies left\n",
    "nb_tot_filtered_movies = len(character_movies_filtered['movieID'].unique())\n",
    "\n",
    "print(f'The remaining number of movies after the filtration is: {nb_tot_filtered_movies}.')"
   ]
  },
  {
   "cell_type": "markdown",
   "id": "6cfa1277",
   "metadata": {},
   "source": [
    "Now that we have filtered our data to have only U.S. movies which where released after the year 1980 (including it) and that have the revenue data we will look at the data we have on the actors."
   ]
  },
  {
   "cell_type": "code",
   "execution_count": 14,
   "id": "cd76c4c9",
   "metadata": {},
   "outputs": [
    {
     "name": "stdout",
     "output_type": "stream",
     "text": [
      "The total number of actors we have is: 26103\n",
      "The percentage of actors for which we have the name is: 99.99617\n",
      "The percentage of actors for which we have the birth date is: 61.56\n",
      "The percentage of actors for which we have the age is: 60.72\n",
      "The percentage of actors for which we have the gender is: 84.85\n",
      "The percentage of actors for which we have the ethnicity is: 15.68\n"
     ]
    }
   ],
   "source": [
    "# Compute the total number of characters and actors\n",
    "nb_actors = len(character_movies_filtered['name_actor'].unique())\n",
    "\n",
    "# Compute the number of actors for which we have the name\n",
    "character_movies_name = character_movies_filtered[['name_actor']]\n",
    "character_movies_name = character_movies_name.dropna()\n",
    "nb_actors_name = len(character_movies_name['name_actor'].unique())\n",
    "\n",
    "# Compute the number of actors for which we have the date of birth\n",
    "character_movies_birth = character_movies_filtered[['birth', 'name_actor']]\n",
    "character_movies_birth = character_movies_birth.dropna()\n",
    "nb_actors_birth = len(character_movies_birth['name_actor'].unique())\n",
    "\n",
    "# Computer the number of actors for which we have the age (positive number)\n",
    "character_movies_age = character_movies_filtered[['age', 'name_actor']]\n",
    "character_movies_age = character_movies_age.dropna()\n",
    "character_movies_age = character_movies_age[character_movies_age.age>=0]\n",
    "nb_actors_age = len(character_movies_age['name_actor'].unique())\n",
    "\n",
    "# Compute the number of actors for which we have the gender\n",
    "character_movies_gender = character_movies_filtered[['gender', 'name_actor']]\n",
    "character_movies_gender = character_movies_gender.dropna()\n",
    "nb_actors_gender = len(character_movies_gender['name_actor'].unique())\n",
    "\n",
    "\n",
    "# Compute the number of actors for which we have the ethnicity\n",
    "character_movies_ethnicity = character_movies_filtered[['ethnicity', 'name_actor']]\n",
    "character_movies_ethnicity = character_movies_ethnicity.dropna()\n",
    "nb_actors_ethnicity = len(character_movies_ethnicity['name_actor'].unique())\n",
    "\n",
    "# Print the results\n",
    "print(f\"The total number of actors we have is: {nb_actors}\")\n",
    "print(f\"The percentage of actors for which we have the name is: {nb_actors_name/nb_actors*100 :.5f}\")\n",
    "print(f\"The percentage of actors for which we have the birth date is: {nb_actors_birth/nb_actors*100 :.2f}\")\n",
    "print(f\"The percentage of actors for which we have the age is: {nb_actors_age/nb_actors*100 :.2f}\")\n",
    "print(f\"The percentage of actors for which we have the gender is: {nb_actors_gender/nb_actors*100 :.2f}\")\n",
    "print(f\"The percentage of actors for which we have the ethnicity is: {nb_actors_ethnicity/nb_actors*100 :.2f}\")"
   ]
  },
  {
   "cell_type": "markdown",
   "id": "8b9cd34d",
   "metadata": {},
   "source": [
    "From this analysis we can see that we have enough information on the gender and on the age (esp. with birth date) of the actors. However ethnicity data is often missing. Thus it might be good to filter only for age and gender."
   ]
  },
  {
   "cell_type": "code",
   "execution_count": 15,
   "id": "d35c9a85",
   "metadata": {},
   "outputs": [
    {
     "name": "stdout",
     "output_type": "stream",
     "text": [
      "The remaining number of movies is: 5317.\n",
      "The remaining number of actors is: 15912.\n"
     ]
    }
   ],
   "source": [
    "# Filter for birth date\n",
    "character_movies_filtered = character_movies_filtered.dropna(subset=['birth'])\n",
    "\n",
    "# Filter for gender (NaN and aberrant values)\n",
    "character_movies_filtered = character_movies_filtered.dropna(subset=['gender'])\n",
    "character_movies_filtered = character_movies_filtered[\n",
    "    (character_movies_filtered.gender=='F') | (character_movies_filtered.gender=='M')]\n",
    "\n",
    "# Compute the remaining number of actors and movies\n",
    "nb_tot_filtered_movies = len(character_movies_filtered['movieID'].unique())\n",
    "nb_tot_filtered_actors = len(character_movies_filtered['name_actor'].unique())\n",
    "\n",
    "print(f'The remaining number of movies is: {nb_tot_filtered_movies}.')\n",
    "print(f'The remaining number of actors is: {nb_tot_filtered_actors}.')"
   ]
  },
  {
   "cell_type": "markdown",
   "id": "fc90d06f",
   "metadata": {},
   "source": [
    "Now that we have reduced our dataset to this smaller subset we can see that data handling will not be a problem.\n",
    "\n",
    "We will need to further filter our dataset to keep only actors that played at least in two movies. Let's first look at the distribution of the number of movies played by actor."
   ]
  },
  {
   "cell_type": "code",
   "execution_count": 16,
   "id": "f73576a9",
   "metadata": {},
   "outputs": [
    {
     "data": {
      "image/png": "[encoded data removed]",
      "text/plain": [
       "<Figure size 432x288 with 1 Axes>"
      ]
     },
     "metadata": {
      "needs_background": "light"
     },
     "output_type": "display_data"
    }
   ],
   "source": [
    "# List all actors name (for filtered data)\n",
    "actors_names = character_movies_filtered['name_actor'].tolist()\n",
    "\n",
    "#count the repertition number of each actor name\n",
    "nb_mov_actor = create_words_database(sorted(actors_names))\n",
    "\n",
    "# Sort the actors by ascending order of movies played\n",
    "nb_mov_actor = dict(sorted(nb_mov_actor.items(), key=lambda item: item[1]))\n",
    "\n",
    "# Define intervals\n",
    "intervals = [1, 3, 6, 9, 12, 15, 18, 21]\n",
    "\n",
    "# Initialize a dictionary to stock the number of actors in each interval\n",
    "actors_per_intervalle = {i: 0 for i in range(len(intervals) + 1)}\n",
    "\n",
    "# Count the number of actors in each interval\n",
    "for actor, index in nb_mov_actor.items():\n",
    "    for i, threshold in enumerate(intervals):\n",
    "        if index <= threshold:\n",
    "            actors_per_intervalle[i] += 1\n",
    "            break\n",
    "    else:\n",
    "        actors_per_intervalle[len(intervals)] += 1\n",
    "\n",
    "# Plot histogram\n",
    "plt.bar(actors_per_intervalle.keys(), actors_per_intervalle.values(), align='center', alpha=0.7)\n",
    "plt.xticks(list(actors_per_intervalle.keys()), [f\"{i+1}-{j}\" for i, j in zip([0] + intervals, intervals + [float('inf')])])\n",
    "plt.xlabel('Number of movies played')\n",
    "plt.ylabel(\"Number of actors\")\n",
    "plt.title('Histogram of the distribution of the number of movies played per actor')\n",
    "plt.show()"
   ]
  },
  {
   "cell_type": "markdown",
   "id": "7de6d167",
   "metadata": {},
   "source": [
    "From this histogram we see that wee many acotrs played in only one movie so we will further decrease the size of our dataset when filtering for actors that played in at least two movies."
   ]
  },
  {
   "cell_type": "code",
   "execution_count": 17,
   "id": "39a9386b",
   "metadata": {},
   "outputs": [
    {
     "ename": "ImportError",
     "evalue": "cannot import name 'at_least_n_movies' from 'helpers' (/Users/yassineabdennadher/Desktop/ada-2023-project-pinacolada23/helpers.py)",
     "output_type": "error",
     "traceback": [
      "\u001b[0;31m---------------------------------------------------------------------------\u001b[0m",
      "\u001b[0;31mImportError\u001b[0m                               Traceback (most recent call last)",
      "Input \u001b[0;32mIn [17]\u001b[0m, in \u001b[0;36m<cell line: 1>\u001b[0;34m()\u001b[0m\n\u001b[0;32m----> 1\u001b[0m \u001b[38;5;28;01mfrom\u001b[39;00m \u001b[38;5;21;01mhelpers\u001b[39;00m \u001b[38;5;28;01mimport\u001b[39;00m at_least_n_movies\n\u001b[1;32m      3\u001b[0m \u001b[38;5;66;03m# Apply filtering function to actor dictionary\u001b[39;00m\n\u001b[1;32m      4\u001b[0m filtered_actors \u001b[38;5;241m=\u001b[39m \u001b[38;5;28mdict\u001b[39m(\u001b[38;5;28mfilter\u001b[39m(at_least_n_movies, nb_mov_actor\u001b[38;5;241m.\u001b[39mitems()))\n",
      "\u001b[0;31mImportError\u001b[0m: cannot import name 'at_least_n_movies' from 'helpers' (/Users/yassineabdennadher/Desktop/ada-2023-project-pinacolada23/helpers.py)"
     ]
    }
   ],
   "source": [
    "from helpers import at_least_n_movies\n",
    "\n",
    "# Apply filtering function to actor dictionary\n",
    "filtered_actors = dict(filter(at_least_n_movies, nb_mov_actor.items()))\n",
    "\n",
    "# Filter dataset\n",
    "character_movies_filtered = character_movies_filtered[character_movies_filtered['name_actor'].isin(filtered_actors.keys())]\n",
    "\n",
    "# Compute the remaining number of actors and movies\n",
    "nb_tot_filtered_movies = len(character_movies_filtered['movieID'].unique())\n",
    "nb_tot_filtered_actors = len(character_movies_filtered['name_actor'].unique())\n",
    "\n",
    "print(f'The remaining number of movies is: {nb_tot_filtered_movies}.')\n",
    "print(f'The remaining number of actors is: {nb_tot_filtered_actors}.')"
   ]
  },
  {
   "cell_type": "markdown",
   "id": "81df4da7",
   "metadata": {},
   "source": [
    "### 3) Character type:\n",
    "\n",
    "TODO: detail how we are going to find the character type of an actor and how we will define the distance between two characters played by an actor."
   ]
  }
 ],
 "metadata": {
  "kernelspec": {
   "display_name": "Python 3 (ipykernel)",
   "language": "python",
   "name": "python3"
  },
  "language_info": {
   "codemirror_mode": {
    "name": "ipython",
    "version": 3
   },
   "file_extension": ".py",
   "mimetype": "text/x-python",
   "name": "python",
   "nbconvert_exporter": "python",
   "pygments_lexer": "ipython3",
   "version": "3.9.18"
  }
 },
 "nbformat": 4,
 "nbformat_minor": 5
}
