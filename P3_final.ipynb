{
 "cells": [
  {
   "cell_type": "markdown",
   "metadata": {},
   "source": [
    "# Evolution of actors careers post-blockbuster in the film industry \n"
   ]
  },
  {
   "cell_type": "markdown",
   "metadata": {},
   "source": [
    "##  Context\n",
    "\n",
    "Analyze career trajectories of actors following their roles in high-grossing films using the CMU Movie Dataset.\n",
    "\n",
    "More specifically, explore the following research questions: \n",
    "- Does a high-grossing film consistently lead to **continued box office success** for its actors in their subsequent films?\n",
    "- Is there a noticeable **change in movie genre or type of characters** portrayed by actors after their first significant hit?\n",
    "- What are **significant features** from actors who have starred in blockbuster hits compared to less well-known actors?\n",
    "\n",
    "In this notebook, we will first start by loading CMU Movies data, then include the external IMDb dataset and finish by inspecting the useful data to answer our problematic."
   ]
  },
  {
   "cell_type": "code",
   "execution_count": 95,
   "metadata": {},
   "outputs": [],
   "source": [
    "# Useful imports\n",
    "import gzip\n",
    "import matplotlib.pyplot as plt\n",
    "import networkx as nx\n",
    "import numpy as np\n",
    "import nltk\n",
    "import os\n",
    "import pandas as pd\n",
    "import seaborn as sns\n",
    "import shutil\n",
    "from nltk.sentiment import SentimentIntensityAnalyzer\n",
    "from tqdm import tqdm\n",
    "import xml.etree.ElementTree as ET\n",
    "import scipy\n",
    "from collections import Counter\n",
    "\n",
    "\n",
    "from helpers import parse_genres, center_on_first_hit, similarity_two_prev_movie, similarity_two_prev_comp\n",
    "\n",
    "\n"
   ]
  },
  {
   "cell_type": "markdown",
   "metadata": {},
   "source": [
    "##  1. Data Preprocessing\n"
   ]
  },
  {
   "cell_type": "markdown",
   "metadata": {},
   "source": [
    "\n",
    "### 1.1 Loading Existent Data\n"
   ]
  },
  {
   "cell_type": "markdown",
   "metadata": {},
   "source": [
    "We start by loading the data from the CMU Movies dataset into two pandas dataframe\n",
    "- characters: dataframe containing information about actors and their associated movie characters\n",
    "- movies: dataframe containing information about movies"
   ]
  },
  {
   "cell_type": "code",
   "execution_count": 2,
   "metadata": {},
   "outputs": [],
   "source": [
    "# Define data paths\n",
    "DATA_FOLDER = './MovieSummaries'\n",
    "CHARACTER_DATASET = DATA_FOLDER + '/character.metadata.tsv'\n",
    "MOVIE_DATASET = DATA_FOLDER + '/movie.metadata.tsv'\n",
    "NAME_DATASET = DATA_FOLDER + '/name.clusters.txt'\n",
    "PLOT_DATASET = DATA_FOLDER + '/plot_summaries.txt'\n",
    "TVTROPES_DATASET = DATA_FOLDER + '/tvtropes.clusters.txt'\n",
    "\n",
    "# Define column names\n",
    "characters_columns = ['wikiID', 'movieID', 'releaseDate', 'charactName', 'birth', 'gender', 'height', 'ethnicity',\n",
    "                      'name_actor', 'age', 'charActID', 'charID', 'actID']\n",
    "movies_columns = ['wikiID', 'movieID', 'name_movie', 'releaseDate', 'revenue', 'runtime', 'languages',\n",
    "                  'countries', 'genres']\n",
    "\n",
    "# Load  data as pandas dataframes\n",
    "characters = pd.read_table(CHARACTER_DATASET, header=None, names=characters_columns)\n",
    "movies = pd.read_table(MOVIE_DATASET, header=None, names=movies_columns)"
   ]
  },
  {
   "cell_type": "code",
   "execution_count": 3,
   "metadata": {},
   "outputs": [
    {
     "data": {
      "text/html": [
       "<div>\n",
       "<style scoped>\n",
       "    .dataframe tbody tr th:only-of-type {\n",
       "        vertical-align: middle;\n",
       "    }\n",
       "\n",
       "    .dataframe tbody tr th {\n",
       "        vertical-align: top;\n",
       "    }\n",
       "\n",
       "    .dataframe thead th {\n",
       "        text-align: right;\n",
       "    }\n",
       "</style>\n",
       "<table border=\"1\" class=\"dataframe\">\n",
       "  <thead>\n",
       "    <tr style=\"text-align: right;\">\n",
       "      <th></th>\n",
       "      <th>wikiID</th>\n",
       "      <th>movieID</th>\n",
       "      <th>releaseDate</th>\n",
       "      <th>charactName</th>\n",
       "      <th>birth</th>\n",
       "      <th>gender</th>\n",
       "      <th>height</th>\n",
       "      <th>ethnicity</th>\n",
       "      <th>name_actor</th>\n",
       "      <th>age</th>\n",
       "      <th>charActID</th>\n",
       "      <th>charID</th>\n",
       "      <th>actID</th>\n",
       "    </tr>\n",
       "  </thead>\n",
       "  <tbody>\n",
       "    <tr>\n",
       "      <th>0</th>\n",
       "      <td>975900</td>\n",
       "      <td>/m/03vyhn</td>\n",
       "      <td>2001-08-24</td>\n",
       "      <td>Akooshay</td>\n",
       "      <td>1958-08-26</td>\n",
       "      <td>F</td>\n",
       "      <td>1.620</td>\n",
       "      <td>NaN</td>\n",
       "      <td>Wanda De Jesus</td>\n",
       "      <td>42.0</td>\n",
       "      <td>/m/0bgchxw</td>\n",
       "      <td>/m/0bgcj3x</td>\n",
       "      <td>/m/03wcfv7</td>\n",
       "    </tr>\n",
       "    <tr>\n",
       "      <th>1</th>\n",
       "      <td>975900</td>\n",
       "      <td>/m/03vyhn</td>\n",
       "      <td>2001-08-24</td>\n",
       "      <td>Lieutenant Melanie Ballard</td>\n",
       "      <td>1974-08-15</td>\n",
       "      <td>F</td>\n",
       "      <td>1.780</td>\n",
       "      <td>/m/044038p</td>\n",
       "      <td>Natasha Henstridge</td>\n",
       "      <td>27.0</td>\n",
       "      <td>/m/0jys3m</td>\n",
       "      <td>/m/0bgchn4</td>\n",
       "      <td>/m/0346l4</td>\n",
       "    </tr>\n",
       "    <tr>\n",
       "      <th>2</th>\n",
       "      <td>975900</td>\n",
       "      <td>/m/03vyhn</td>\n",
       "      <td>2001-08-24</td>\n",
       "      <td>Desolation Williams</td>\n",
       "      <td>1969-06-15</td>\n",
       "      <td>M</td>\n",
       "      <td>1.727</td>\n",
       "      <td>/m/0x67</td>\n",
       "      <td>Ice Cube</td>\n",
       "      <td>32.0</td>\n",
       "      <td>/m/0jys3g</td>\n",
       "      <td>/m/0bgchn_</td>\n",
       "      <td>/m/01vw26l</td>\n",
       "    </tr>\n",
       "    <tr>\n",
       "      <th>3</th>\n",
       "      <td>975900</td>\n",
       "      <td>/m/03vyhn</td>\n",
       "      <td>2001-08-24</td>\n",
       "      <td>Sgt Jericho Butler</td>\n",
       "      <td>1967-09-12</td>\n",
       "      <td>M</td>\n",
       "      <td>1.750</td>\n",
       "      <td>NaN</td>\n",
       "      <td>Jason Statham</td>\n",
       "      <td>33.0</td>\n",
       "      <td>/m/02vchl6</td>\n",
       "      <td>/m/0bgchnq</td>\n",
       "      <td>/m/034hyc</td>\n",
       "    </tr>\n",
       "    <tr>\n",
       "      <th>4</th>\n",
       "      <td>975900</td>\n",
       "      <td>/m/03vyhn</td>\n",
       "      <td>2001-08-24</td>\n",
       "      <td>Bashira Kincaid</td>\n",
       "      <td>1977-09-25</td>\n",
       "      <td>F</td>\n",
       "      <td>1.650</td>\n",
       "      <td>NaN</td>\n",
       "      <td>Clea DuVall</td>\n",
       "      <td>23.0</td>\n",
       "      <td>/m/02vbb3r</td>\n",
       "      <td>/m/0bgchp9</td>\n",
       "      <td>/m/01y9xg</td>\n",
       "    </tr>\n",
       "  </tbody>\n",
       "</table>\n",
       "</div>"
      ],
      "text/plain": [
       "   wikiID    movieID releaseDate                 charactName       birth  \\\n",
       "0  975900  /m/03vyhn  2001-08-24                    Akooshay  1958-08-26   \n",
       "1  975900  /m/03vyhn  2001-08-24  Lieutenant Melanie Ballard  1974-08-15   \n",
       "2  975900  /m/03vyhn  2001-08-24         Desolation Williams  1969-06-15   \n",
       "3  975900  /m/03vyhn  2001-08-24          Sgt Jericho Butler  1967-09-12   \n",
       "4  975900  /m/03vyhn  2001-08-24             Bashira Kincaid  1977-09-25   \n",
       "\n",
       "  gender  height   ethnicity          name_actor   age   charActID  \\\n",
       "0      F   1.620         NaN      Wanda De Jesus  42.0  /m/0bgchxw   \n",
       "1      F   1.780  /m/044038p  Natasha Henstridge  27.0   /m/0jys3m   \n",
       "2      M   1.727     /m/0x67            Ice Cube  32.0   /m/0jys3g   \n",
       "3      M   1.750         NaN       Jason Statham  33.0  /m/02vchl6   \n",
       "4      F   1.650         NaN         Clea DuVall  23.0  /m/02vbb3r   \n",
       "\n",
       "       charID       actID  \n",
       "0  /m/0bgcj3x  /m/03wcfv7  \n",
       "1  /m/0bgchn4   /m/0346l4  \n",
       "2  /m/0bgchn_  /m/01vw26l  \n",
       "3  /m/0bgchnq   /m/034hyc  \n",
       "4  /m/0bgchp9   /m/01y9xg  "
      ]
     },
     "execution_count": 3,
     "metadata": {},
     "output_type": "execute_result"
    }
   ],
   "source": [
    "# Visualize characters data table\n",
    "characters.head()"
   ]
  },
  {
   "cell_type": "code",
   "execution_count": 4,
   "metadata": {},
   "outputs": [
    {
     "data": {
      "text/html": [
       "<div>\n",
       "<style scoped>\n",
       "    .dataframe tbody tr th:only-of-type {\n",
       "        vertical-align: middle;\n",
       "    }\n",
       "\n",
       "    .dataframe tbody tr th {\n",
       "        vertical-align: top;\n",
       "    }\n",
       "\n",
       "    .dataframe thead th {\n",
       "        text-align: right;\n",
       "    }\n",
       "</style>\n",
       "<table border=\"1\" class=\"dataframe\">\n",
       "  <thead>\n",
       "    <tr style=\"text-align: right;\">\n",
       "      <th></th>\n",
       "      <th>wikiID</th>\n",
       "      <th>movieID</th>\n",
       "      <th>name_movie</th>\n",
       "      <th>releaseDate</th>\n",
       "      <th>revenue</th>\n",
       "      <th>runtime</th>\n",
       "      <th>languages</th>\n",
       "      <th>countries</th>\n",
       "      <th>genres</th>\n",
       "    </tr>\n",
       "  </thead>\n",
       "  <tbody>\n",
       "    <tr>\n",
       "      <th>0</th>\n",
       "      <td>975900</td>\n",
       "      <td>/m/03vyhn</td>\n",
       "      <td>Ghosts of Mars</td>\n",
       "      <td>2001-08-24</td>\n",
       "      <td>14010832.0</td>\n",
       "      <td>98.0</td>\n",
       "      <td>{\"/m/02h40lc\": \"English Language\"}</td>\n",
       "      <td>{\"/m/09c7w0\": \"United States of America\"}</td>\n",
       "      <td>{\"/m/01jfsb\": \"Thriller\", \"/m/06n90\": \"Science...</td>\n",
       "    </tr>\n",
       "    <tr>\n",
       "      <th>1</th>\n",
       "      <td>3196793</td>\n",
       "      <td>/m/08yl5d</td>\n",
       "      <td>Getting Away with Murder: The JonBenét Ramsey ...</td>\n",
       "      <td>2000-02-16</td>\n",
       "      <td>NaN</td>\n",
       "      <td>95.0</td>\n",
       "      <td>{\"/m/02h40lc\": \"English Language\"}</td>\n",
       "      <td>{\"/m/09c7w0\": \"United States of America\"}</td>\n",
       "      <td>{\"/m/02n4kr\": \"Mystery\", \"/m/03bxz7\": \"Biograp...</td>\n",
       "    </tr>\n",
       "    <tr>\n",
       "      <th>2</th>\n",
       "      <td>28463795</td>\n",
       "      <td>/m/0crgdbh</td>\n",
       "      <td>Brun bitter</td>\n",
       "      <td>1988</td>\n",
       "      <td>NaN</td>\n",
       "      <td>83.0</td>\n",
       "      <td>{\"/m/05f_3\": \"Norwegian Language\"}</td>\n",
       "      <td>{\"/m/05b4w\": \"Norway\"}</td>\n",
       "      <td>{\"/m/0lsxr\": \"Crime Fiction\", \"/m/07s9rl0\": \"D...</td>\n",
       "    </tr>\n",
       "    <tr>\n",
       "      <th>3</th>\n",
       "      <td>9363483</td>\n",
       "      <td>/m/0285_cd</td>\n",
       "      <td>White Of The Eye</td>\n",
       "      <td>1987</td>\n",
       "      <td>NaN</td>\n",
       "      <td>110.0</td>\n",
       "      <td>{\"/m/02h40lc\": \"English Language\"}</td>\n",
       "      <td>{\"/m/07ssc\": \"United Kingdom\"}</td>\n",
       "      <td>{\"/m/01jfsb\": \"Thriller\", \"/m/0glj9q\": \"Erotic...</td>\n",
       "    </tr>\n",
       "    <tr>\n",
       "      <th>4</th>\n",
       "      <td>261236</td>\n",
       "      <td>/m/01mrr1</td>\n",
       "      <td>A Woman in Flames</td>\n",
       "      <td>1983</td>\n",
       "      <td>NaN</td>\n",
       "      <td>106.0</td>\n",
       "      <td>{\"/m/04306rv\": \"German Language\"}</td>\n",
       "      <td>{\"/m/0345h\": \"Germany\"}</td>\n",
       "      <td>{\"/m/07s9rl0\": \"Drama\"}</td>\n",
       "    </tr>\n",
       "  </tbody>\n",
       "</table>\n",
       "</div>"
      ],
      "text/plain": [
       "     wikiID     movieID                                         name_movie  \\\n",
       "0    975900   /m/03vyhn                                     Ghosts of Mars   \n",
       "1   3196793   /m/08yl5d  Getting Away with Murder: The JonBenét Ramsey ...   \n",
       "2  28463795  /m/0crgdbh                                        Brun bitter   \n",
       "3   9363483  /m/0285_cd                                   White Of The Eye   \n",
       "4    261236   /m/01mrr1                                  A Woman in Flames   \n",
       "\n",
       "  releaseDate     revenue  runtime                           languages  \\\n",
       "0  2001-08-24  14010832.0     98.0  {\"/m/02h40lc\": \"English Language\"}   \n",
       "1  2000-02-16         NaN     95.0  {\"/m/02h40lc\": \"English Language\"}   \n",
       "2        1988         NaN     83.0  {\"/m/05f_3\": \"Norwegian Language\"}   \n",
       "3        1987         NaN    110.0  {\"/m/02h40lc\": \"English Language\"}   \n",
       "4        1983         NaN    106.0   {\"/m/04306rv\": \"German Language\"}   \n",
       "\n",
       "                                   countries  \\\n",
       "0  {\"/m/09c7w0\": \"United States of America\"}   \n",
       "1  {\"/m/09c7w0\": \"United States of America\"}   \n",
       "2                     {\"/m/05b4w\": \"Norway\"}   \n",
       "3             {\"/m/07ssc\": \"United Kingdom\"}   \n",
       "4                    {\"/m/0345h\": \"Germany\"}   \n",
       "\n",
       "                                              genres  \n",
       "0  {\"/m/01jfsb\": \"Thriller\", \"/m/06n90\": \"Science...  \n",
       "1  {\"/m/02n4kr\": \"Mystery\", \"/m/03bxz7\": \"Biograp...  \n",
       "2  {\"/m/0lsxr\": \"Crime Fiction\", \"/m/07s9rl0\": \"D...  \n",
       "3  {\"/m/01jfsb\": \"Thriller\", \"/m/0glj9q\": \"Erotic...  \n",
       "4                            {\"/m/07s9rl0\": \"Drama\"}  "
      ]
     },
     "execution_count": 4,
     "metadata": {},
     "output_type": "execute_result"
    }
   ],
   "source": [
    "# Visualize movies data table\n",
    "movies.head()"
   ]
  },
  {
   "cell_type": "markdown",
   "metadata": {},
   "source": [
    "\n",
    "### 1.2 Data Examination and Filtering"
   ]
  },
  {
   "cell_type": "markdown",
   "metadata": {},
   "source": [
    "With such a large database, it is complex to find a model that both describes the career of an English celebrity in the 40's and that of an actor in Japan in the 2000's. Cultural and economical differences also make it difficult to find a common metric for success. Therefore, we would like to limit ourselves to a consistent and comprehensible subset of the data."
   ]
  },
  {
   "cell_type": "markdown",
   "metadata": {},
   "source": [
    "#### 1.2.1 Feature Selection"
   ]
  },
  {
   "cell_type": "markdown",
   "metadata": {},
   "source": [
    "In order to restrain our dataset to relevant aspects for our analysis, we select certain features from the database. The notion of success of an actor (detailed later in \"Matching\" section) depends on the number of movies they played in and their corresponding box office revenue. We're also interested in time features, to compare and describe timelines in the careers of actors. Finally, we'd like to have general information about the actors such as age, gender and ethnicity to mitigate a possible bias comming from a diffence in population distribution in our analysis\n",
    "\n",
    "Thus, the **selected features** are:\n",
    "* Actor name\n",
    "* Actor date of birth or age at the time of the movie\n",
    "* Actor gender\n",
    "* Actor ethnicity\n",
    "* Movie box office revenue\n",
    "* Movie release date"
   ]
  },
  {
   "cell_type": "code",
   "execution_count": 5,
   "metadata": {},
   "outputs": [],
   "source": [
    "# Make deep copies to preserve original data\n",
    "characters_copy = characters.copy()\n",
    "movies_copy = movies.copy()"
   ]
  },
  {
   "cell_type": "markdown",
   "metadata": {},
   "source": [
    "We'll merge our dataframes to work on a single subset of data. As we're interested in actors careers, we decide to populate the characters dataframe with information on the movies in which they appear. For this, we perfom a left merge on characters_copy with movies_copy"
   ]
  },
  {
   "cell_type": "code",
   "execution_count": 6,
   "metadata": {},
   "outputs": [],
   "source": [
    "# Left merge on characters dataframe with movies dataframe\n",
    "character_movies = pd.merge(characters_copy, movies_copy, on=['wikiID', 'movieID', 'releaseDate'] , how='left')"
   ]
  },
  {
   "cell_type": "markdown",
   "metadata": {},
   "source": [
    "#### 1.2.2 Amount of data"
   ]
  },
  {
   "cell_type": "markdown",
   "metadata": {},
   "source": [
    "We'll now look at the **amount of information** available for each feature."
   ]
  },
  {
   "cell_type": "markdown",
   "metadata": {},
   "source": [
    "##### A. Movie revenue and date\n",
    "Let's first look at the amount of data on **movie revenue** and **movie date** that is missing. We'll keep in mind that a movie can appear multiple times in this dataframe - we can have data about two different actors that appeared in the same movie."
   ]
  },
  {
   "cell_type": "code",
   "execution_count": 7,
   "metadata": {},
   "outputs": [
    {
     "name": "stdout",
     "output_type": "stream",
     "text": [
      "The total number of movies we have is: 64330\n",
      "The percentage of movies for which we have the revenue: 12.78%\n",
      "The percentage of movies for which we have the release date: 94.23753%\n"
     ]
    }
   ],
   "source": [
    "# Compute the total number of movies\n",
    "nb_movies = len(character_movies['movieID'].unique())\n",
    "\n",
    "# Compute the number of movies for which we have \"box office revenue\"\n",
    "character_movies_revenue = character_movies[['movieID', 'revenue']]\n",
    "character_movies_revenue = character_movies_revenue.dropna()\n",
    "nb_movies_revenue = len(character_movies_revenue['movieID'].unique())\n",
    "\n",
    "# Compute the number of movies for which we have \"release date\"\n",
    "character_movies_date = character_movies[['movieID', 'releaseDate']]\n",
    "character_movies_date = character_movies_date.dropna()\n",
    "nb_movies_date = len(character_movies_date['movieID'].unique())\n",
    "\n",
    "# Print the results\n",
    "print(f\"The total number of movies we have is: {nb_movies}\")\n",
    "print(f\"The percentage of movies for which we have the revenue: {nb_movies_revenue/nb_movies*100 :.2f}%\")\n",
    "print(f\"The percentage of movies for which we have the release date: {nb_movies_date/nb_movies*100 :.5f}%\")"
   ]
  },
  {
   "cell_type": "markdown",
   "metadata": {},
   "source": [
    "We can observe that:\n",
    "- most movies have a release date\n",
    "- but only about 13% have information about the box office revenue"
   ]
  },
  {
   "cell_type": "markdown",
   "metadata": {},
   "source": [
    "##### B. Percentage per year\n",
    "Let's look at this **percentage per year** (with a temporal axis)"
   ]
  },
  {
   "cell_type": "code",
   "execution_count": 8,
   "metadata": {},
   "outputs": [],
   "source": [
    "from helpers import complete_date\n",
    "\n",
    "# Make deep copy and keep only the movies for which we have the release date\n",
    "character_movies_filtered = character_movies.copy()\n",
    "character_movies_filtered = character_movies_filtered.dropna(subset=['releaseDate'])\n",
    "\n",
    "# Apply complete_date function to all release dates\n",
    "character_movies_filtered['releaseDate'] = character_movies_filtered['releaseDate'].apply(complete_date)\n",
    "\n",
    "# Convert to datetime format\n",
    "character_movies_filtered['releaseDate'] = pd.to_datetime(character_movies_filtered['releaseDate'], errors='coerce')\n",
    "\n",
    "# Add a column with the year of the release date\n",
    "character_movies_filtered['year'] = character_movies_filtered['releaseDate'].dt.year\n",
    "\n",
    "# Count the number of movies per 10 years interval\n",
    "    # For the total number of movies\n",
    "intervals = pd.cut(character_movies_filtered['year'], bins=range(1880, 2016, 10), right=False)\n",
    "nb_movies_per_interval = intervals.value_counts().sort_index()\n",
    "\n",
    "    # For movies with the revenue\n",
    "character_movies_filtered_revenue = character_movies_filtered.dropna(subset=['revenue'])\n",
    "intervals_revenue = pd.cut(character_movies_filtered_revenue['year'], bins=range(1880, 2016, 10), right=False)\n",
    "nb_movies_per_interval_revenue = intervals_revenue.value_counts().sort_index()"
   ]
  },
  {
   "cell_type": "code",
   "execution_count": 9,
   "metadata": {},
   "outputs": [
    {
     "data": {
      "image/png": "[encoded data removed]",
      "text/plain": [
       "<Figure size 720x432 with 1 Axes>"
      ]
     },
     "metadata": {
      "needs_background": "light"
     },
     "output_type": "display_data"
    }
   ],
   "source": [
    "plt.figure(figsize=(10, 6))\n",
    "\n",
    "# Plot bar plot of number of movies per year\n",
    "tot_bar=plt.bar([f'{b.left}-{b.right-1}' for b in nb_movies_per_interval.index], \n",
    "                nb_movies_per_interval.values, label='Total number of movies')\n",
    "revenue_bar=plt.bar([f'{b.left}-{b.right-1}' for b in nb_movies_per_interval_revenue.index],\n",
    "                    nb_movies_per_interval_revenue.values, label='Number of movies with revenue')\n",
    "\n",
    "plt.title('Number of movies over decades')\n",
    "plt.xlabel('Year')\n",
    "plt.ylabel('Number of movies')\n",
    "plt.tick_params(axis='x', rotation=45)\n",
    "plt.legend()\n",
    "\n",
    "# Add the percentage on top of each bar\n",
    "for i, tot_bar in enumerate(tot_bar):\n",
    "    height_tot_bar = tot_bar.get_height()\n",
    "    height_revenue_bar = revenue_bar[i].get_height()\n",
    "    percent = height_revenue_bar/height_tot_bar *100\n",
    "    plt.text(tot_bar.get_x() + tot_bar.get_width() / 2, height_tot_bar + 5, \n",
    "             f'{percent:.2f}%', ha='center', va='bottom')\n",
    "\n",
    "# Show graph\n",
    "plt.show()"
   ]
  },
  {
   "cell_type": "markdown",
   "metadata": {},
   "source": [
    "The percentage of revenue data increases through the year. It might be more relevant to perform our analysis on a subset of the years for which the revenue information is more present, therefore we decide to take **movies starting from 1950**."
   ]
  },
  {
   "cell_type": "code",
   "execution_count": 10,
   "metadata": {},
   "outputs": [
    {
     "name": "stdout",
     "output_type": "stream",
     "text": [
      "The percentage of movies for which we have the revenue after 1950: 15.99%\n"
     ]
    }
   ],
   "source": [
    "# Remove all movies that where released before 1950\n",
    "character_movies_filtered = character_movies_filtered[character_movies_filtered.year >= 1950]\n",
    "\n",
    "# Look at the percentage of revenue data in this subset:\n",
    "# Compute the total number of movies\n",
    "nb_movies_selec = len(character_movies_filtered['movieID'].unique())\n",
    "\n",
    "# Compute the number of movies for which we box office revenue\n",
    "character_movies_filtered_revenue_selec = character_movies_filtered[['movieID', 'revenue']]\n",
    "character_movies_filtered_revenue_selec = character_movies_filtered_revenue_selec.dropna()\n",
    "nb_movies_selec_revenue = len(character_movies_filtered_revenue_selec['movieID'].unique())\n",
    "\n",
    "print(f\"The percentage of movies for which we have the revenue after 1950: {nb_movies_selec_revenue/nb_movies_selec*100 :.2f}%\")"
   ]
  },
  {
   "cell_type": "markdown",
   "metadata": {},
   "source": [
    "##### C. Percentage per country\n",
    "Let's have a look at the **amount of revenue data per country**. We aggregate our data to obtain a dataframe counting the number of movies with known revenue per country, keeping countries that shot at least 200 movies."
   ]
  },
  {
   "cell_type": "code",
   "execution_count": 11,
   "metadata": {},
   "outputs": [],
   "source": [
    "from helpers import sort_words, create_words_database\n",
    "# Make deep copy for the country analysis\n",
    "df_country = character_movies_filtered.copy()\n",
    "\n",
    "# Change countries into a list of String\n",
    "df_country['countries'] = df_country['countries'].str.extract(r'\\\"([\\w\\s]+)\\\"')\n",
    "df_country['countries'] = df_country['countries'].apply(lambda x: [x] if pd.notna(x) else ['Unknown'])\n",
    "\n",
    "# Count the number of movies per country\n",
    "countries_list = df_country['countries'].tolist()\n",
    "# Flaten the list of countries and sort the resulting list\n",
    "stored_countries = sort_words(countries_list)\n",
    "# Count the number of repetition per country\n",
    "nb_movies_per_country = create_words_database(stored_countries)\n",
    "# Sort by ascending order of movies made per country\n",
    "nb_movies_per_country = dict(sorted(nb_movies_per_country.items(), key=lambda item: item[1]))\n",
    "# Remove countries that shot less than 200 movies\n",
    "nb_movies_per_country = {country: nb for country, nb in nb_movies_per_country.items() if nb >= 200}\n",
    "\n",
    "\n",
    "# Count the number of movies with known revenue per country\n",
    "countries_list = df_country.dropna(subset=['revenue'])['countries'].tolist()\n",
    "# Flaten the list of countries and sort the resulting list\n",
    "stored_countries = sort_words(countries_list)\n",
    "# Count the number of repetition per country\n",
    "nb_movies_per_country_revenue = create_words_database(stored_countries)\n",
    "# Sort by ascending order of movies made per country\n",
    "nb_movies_per_country_revenue = dict(sorted(nb_movies_per_country_revenue.items(), key=lambda item: item[1]))\n",
    "\n",
    "\n",
    "# Keep countries with more than 200 movies and add to nb_movies_per_country_revenue countries without revenue data (set their number of movies to zero)\n",
    "country_200_movie = list(nb_movies_per_country.keys())\n",
    "nb_movies_per_country_revenue = {country: nb for country, nb in nb_movies_per_country_revenue.items() if country in country_200_movie}\n",
    "nb_movies_per_country_revenue.update({country: 0 for country in country_200_movie if country not in nb_movies_per_country_revenue})\n",
    "nb_movies_per_country_revenue = {country: nb_movies_per_country_revenue[country] for country in nb_movies_per_country}"
   ]
  },
  {
   "cell_type": "code",
   "execution_count": 12,
   "metadata": {},
   "outputs": [
    {
     "data": {
      "image/png": "[encoded data removed]",
      "text/plain": [
       "<Figure size 864x432 with 1 Axes>"
      ]
     },
     "metadata": {
      "needs_background": "light"
     },
     "output_type": "display_data"
    }
   ],
   "source": [
    "# Extract the names of the countries and the value from each dictionary\n",
    "country_names = list(nb_movies_per_country.keys())\n",
    "nb_movies_tot = list(nb_movies_per_country.values())\n",
    "nb_movies_revenue = list(nb_movies_per_country_revenue.values())\n",
    "\n",
    "# Make a list of indices for the position of the bars\n",
    "indices = range(len(country_names))\n",
    "\n",
    "# Plot histogram\n",
    "plt.figure(figsize=(12, 6))\n",
    "bars_tot = plt.bar(indices, nb_movies_tot, label='Total number of movies')\n",
    "bars_revenue = plt.bar(indices, nb_movies_revenue, label='Number of movies with revenue')\n",
    "\n",
    "# Add label and title\n",
    "plt.xlabel('Country')\n",
    "plt.ylabel('Number of movies')\n",
    "plt.title('Number of movies per country')\n",
    "plt.xticks(indices, country_names, rotation=90)\n",
    "\n",
    "# Add the percentage on top of each bar\n",
    "for i, bars_tot in enumerate(bars_tot):\n",
    "    height_bars_tot = bars_tot.get_height()\n",
    "    height_bars_revenue = bars_revenue[i].get_height()\n",
    "    percent = height_bars_revenue/height_bars_tot *100\n",
    "    plt.text(bars_tot.get_x() + bars_tot.get_width() / 2, height_bars_tot + 5,\n",
    "             f'{percent:.0f}%', ha='center', va='bottom', size=7)\n",
    "\n",
    "\n",
    "# Show legend and histogram\n",
    "plt.legend()\n",
    "plt.tight_layout()\n",
    "plt.show()"
   ]
  },
  {
   "cell_type": "markdown",
   "metadata": {},
   "source": [
    "From this plot we can see that the majority of the movies in our dataset come from the U.S. and have a high percentage of revenue information. From this we decided to keep only **movies that were made in the U.S.**"
   ]
  },
  {
   "cell_type": "code",
   "execution_count": 13,
   "metadata": {},
   "outputs": [
    {
     "name": "stdout",
     "output_type": "stream",
     "text": [
      "The remaining number of movies after the filtration is: 6520.\n"
     ]
    }
   ],
   "source": [
    "# Keep only movies that where made in the U.S.\n",
    "character_movies_filtered = character_movies_filtered[\n",
    "    character_movies_filtered.countries.apply(lambda x:\"United States of America\" in x)]\n",
    "\n",
    "# Keep only movies for which we have the revenue\n",
    "character_movies_filtered = character_movies_filtered.dropna(subset=['revenue'])\n",
    "\n",
    "# Compute the number of movies left\n",
    "nb_tot_filtered_movies = len(character_movies_filtered['movieID'].unique())\n",
    "\n",
    "print(f'The remaining number of movies after the filtration is: {nb_tot_filtered_movies}.')"
   ]
  },
  {
   "cell_type": "markdown",
   "metadata": {},
   "source": [
    "Now that we have filtered our data to have only **U.S. movies which where released after and including the year 1950** and that have the revenue data, we'll look at the data from the actors."
   ]
  },
  {
   "cell_type": "markdown",
   "metadata": {},
   "source": [
    "#### D. Data from actors"
   ]
  },
  {
   "cell_type": "markdown",
   "metadata": {},
   "source": [
    "We'll look at the amount of data available for the following actors features:\n",
    "- Name\n",
    "- Date of birth\n",
    "- Age\n",
    "- Gender\n",
    "- Ethnicity"
   ]
  },
  {
   "cell_type": "code",
   "execution_count": 14,
   "metadata": {},
   "outputs": [
    {
     "name": "stdout",
     "output_type": "stream",
     "text": [
      "The total number of actors we have is: 29674\n",
      "The percentage of actors for which we have the name is: 99.99663\n",
      "The percentage of actors for which we have the birth date is: 63.55\n",
      "The percentage of actors for which we have the age is: 61.42\n",
      "The percentage of actors for which we have the gender is: 84.89\n",
      "The percentage of actors for which we have the ethnicity is: 14.77\n"
     ]
    }
   ],
   "source": [
    "# Compute the total number of characters and actors\n",
    "nb_actors = len(character_movies_filtered['name_actor'].unique())\n",
    "\n",
    "# Compute the number of actors for which we have the name\n",
    "character_movies_name = character_movies_filtered[['name_actor']]\n",
    "character_movies_name = character_movies_name.dropna()\n",
    "nb_actors_name = len(character_movies_name['name_actor'].unique())\n",
    "\n",
    "# Compute the number of actors for which we have the date of birth\n",
    "character_movies_birth = character_movies_filtered[['birth', 'name_actor']]\n",
    "character_movies_birth = character_movies_birth.dropna()\n",
    "nb_actors_birth = len(character_movies_birth['name_actor'].unique())\n",
    "\n",
    "# Computer the number of actors for which we have the age (positive number)\n",
    "character_movies_age = character_movies_filtered[['age', 'name_actor']]\n",
    "character_movies_age = character_movies_age.dropna()\n",
    "character_movies_age = character_movies_age[character_movies_age.age>=0]\n",
    "nb_actors_age = len(character_movies_age['name_actor'].unique())\n",
    "\n",
    "# Compute the number of actors for which we have the gender\n",
    "character_movies_gender = character_movies_filtered[['gender', 'name_actor']]\n",
    "character_movies_gender = character_movies_gender.dropna()\n",
    "nb_actors_gender = len(character_movies_gender['name_actor'].unique())\n",
    "\n",
    "\n",
    "# Compute the number of actors for which we have the ethnicity\n",
    "character_movies_ethnicity = character_movies_filtered[['ethnicity', 'name_actor']]\n",
    "character_movies_ethnicity = character_movies_ethnicity.dropna()\n",
    "nb_actors_ethnicity = len(character_movies_ethnicity['name_actor'].unique())\n",
    "\n",
    "# Print the results\n",
    "print(f\"The total number of actors we have is: {nb_actors}\")\n",
    "print(f\"The percentage of actors for which we have the name is: {nb_actors_name/nb_actors*100 :.5f}\")\n",
    "print(f\"The percentage of actors for which we have the birth date is: {nb_actors_birth/nb_actors*100 :.2f}\")\n",
    "print(f\"The percentage of actors for which we have the age is: {nb_actors_age/nb_actors*100 :.2f}\")\n",
    "print(f\"The percentage of actors for which we have the gender is: {nb_actors_gender/nb_actors*100 :.2f}\")\n",
    "print(f\"The percentage of actors for which we have the ethnicity is: {nb_actors_ethnicity/nb_actors*100 :.2f}\")"
   ]
  },
  {
   "cell_type": "markdown",
   "metadata": {},
   "source": [
    "From this analysis we can see that we have enough information on the gender and on the age (esp. with birth date) of the actors. However ethnicity data is often missing. Thus, it might be good to **filter only for birth date and gender**."
   ]
  },
  {
   "cell_type": "code",
   "execution_count": 15,
   "metadata": {},
   "outputs": [
    {
     "name": "stdout",
     "output_type": "stream",
     "text": [
      "The remaining number of movies is: 6495.\n",
      "The remaining number of actors is: 18633.\n"
     ]
    }
   ],
   "source": [
    "# Filter for birth date\n",
    "character_movies_filtered = character_movies_filtered.dropna(subset=['birth'])\n",
    "\n",
    "# Apply complete_date function to all birth dates to format them\n",
    "character_movies_filtered['birth'] = character_movies_filtered['birth'].apply(complete_date)\n",
    "character_movies_filtered['birth'] = pd.to_datetime(character_movies_filtered['birth'], format='%Y-%m-%d', errors='coerce')\n",
    "\n",
    "# Get rid of aberrant age values of actors at movie release date\n",
    "character_movies_filtered = character_movies_filtered[character_movies_filtered.birth.dt.year < character_movies_filtered.year]\n",
    "\n",
    "# Filter for gender (NaN and aberrant values)\n",
    "character_movies_filtered = character_movies_filtered.dropna(subset=['gender'])\n",
    "character_movies_filtered = character_movies_filtered[\n",
    "    (character_movies_filtered.gender=='F') | (character_movies_filtered.gender=='M')]\n",
    "\n",
    "# Compute the remaining number of actors and movies\n",
    "nb_tot_filtered_movies = len(character_movies_filtered['movieID'].unique())\n",
    "nb_tot_filtered_actors = len(character_movies_filtered['name_actor'].unique())\n",
    "\n",
    "print(f'The remaining number of movies is: {nb_tot_filtered_movies}.')\n",
    "print(f'The remaining number of actors is: {nb_tot_filtered_actors}.')"
   ]
  },
  {
   "cell_type": "markdown",
   "metadata": {},
   "source": [
    "##### E. Number of movies"
   ]
  },
  {
   "cell_type": "markdown",
   "metadata": {},
   "source": [
    "Now that we have reduced our dataset to this smaller subset we can see that data handling will not be a problem. Finally we'll look at the distribution of the number of movies played by actor."
   ]
  },
  {
   "cell_type": "code",
   "execution_count": 16,
   "metadata": {},
   "outputs": [
    {
     "data": {
      "image/png": "[encoded data removed]",
      "text/plain": [
       "<Figure size 432x288 with 1 Axes>"
      ]
     },
     "metadata": {
      "needs_background": "light"
     },
     "output_type": "display_data"
    }
   ],
   "source": [
    "# List all actors name (for filtered data)\n",
    "actors_names = character_movies_filtered['name_actor'].tolist()\n",
    "\n",
    "#count the repertition number of each actor name\n",
    "nb_mov_actor = create_words_database(sorted(actors_names))\n",
    "\n",
    "# Sort the actors by ascending order of movies played\n",
    "nb_mov_actor = dict(sorted(nb_mov_actor.items(), key=lambda item: item[1]))\n",
    "\n",
    "# Define intervals\n",
    "intervals = [1, 3, 6, 9, 12, 15, 18, 21]\n",
    "\n",
    "# Initialize a dictionary to stock the number of actors in each interval\n",
    "actors_per_interval = {i: 0 for i in range(len(intervals) + 1)}\n",
    "\n",
    "# Count the number of actors in each interval\n",
    "for actor, index in nb_mov_actor.items():\n",
    "    for i, threshold in enumerate(intervals):\n",
    "        if index <= threshold:\n",
    "            actors_per_interval[i] += 1\n",
    "            break\n",
    "    else:\n",
    "        actors_per_interval[len(intervals)] += 1\n",
    "\n",
    "# Plot histogram\n",
    "plt.bar(actors_per_interval.keys(), actors_per_interval.values(), align='center', alpha=0.7)\n",
    "plt.xticks(list(actors_per_interval.keys()), [f\"{i+1}-{j}\" for i, j in zip([0] + intervals, intervals + [float('inf')])])\n",
    "plt.xlabel('Number of movies played')\n",
    "plt.ylabel(\"Number of actors\")\n",
    "plt.title('Histogram of the distribution of the number of movies played per actor')\n",
    "plt.show()"
   ]
  },
  {
   "cell_type": "markdown",
   "metadata": {},
   "source": [
    "From this histogram we see that many actors played in only one movie so we will further decrease the size of our dataset to only keep actors that played in **at least two movies**."
   ]
  },
  {
   "cell_type": "code",
   "execution_count": 17,
   "metadata": {},
   "outputs": [
    {
     "name": "stdout",
     "output_type": "stream",
     "text": [
      "The remaining number of movies is: 6443.\n",
      "The remaining number of actors is: 10001.\n"
     ]
    }
   ],
   "source": [
    "from helpers import at_least_2_movies\n",
    "\n",
    "# Apply filtering function to actor dictionary\n",
    "filtered_actors = dict(filter(at_least_2_movies, nb_mov_actor.items()))\n",
    "\n",
    "# Filter dataset\n",
    "character_movies_filtered = character_movies_filtered[character_movies_filtered['name_actor'].isin(filtered_actors.keys())]\n",
    "\n",
    "# Compute the remaining number of actors and movies\n",
    "nb_tot_filtered_movies = len(character_movies_filtered['movieID'].unique())\n",
    "nb_tot_filtered_actors = len(character_movies_filtered['name_actor'].unique())\n",
    "\n",
    "print(f'The remaining number of movies is: {nb_tot_filtered_movies}.')\n",
    "print(f'The remaining number of actors is: {nb_tot_filtered_actors}.')"
   ]
  },
  {
   "cell_type": "markdown",
   "metadata": {},
   "source": [
    "### 1.3  IMDb dataset integration"
   ]
  },
  {
   "cell_type": "markdown",
   "metadata": {},
   "source": [
    "For further analysis, we'll have to define the notion of success of a movie. For this purpose, we decide to include a measure of public satisfaction given by the IMDb ratings. IMDb is a popular source for movies, TV shows and celebrity content where users can cast a vote from 1 to 10 on every released title in the database.\n",
    "\n",
    "In this part we will take care of loading this new dataset and merging it with our filtered dataset ('character_movies_filtered')\n",
    "- IMDb_ratings: dataframe of ratings\n",
    "- IMDb_basics: dataframe of information including the original name\n",
    "\n",
    "Both datasets are linked by a constant ID 'tconst' that allows us to merge them into a single dataframe."
   ]
  },
  {
   "cell_type": "code",
   "execution_count": 18,
   "metadata": {},
   "outputs": [
    {
     "name": "stderr",
     "output_type": "stream",
     "text": [
      "/var/folders/f0/cfcxfzqn0nv2yms8q65vtvc80000gn/T/ipykernel_50906/3889453638.py:3: DtypeWarning: Columns (4) have mixed types. Specify dtype option on import or set low_memory=False.\n",
      "  IMDb_basics = pd.read_table(DATA_FOLDER +  '/title.basics.tsv.gz')\n"
     ]
    }
   ],
   "source": [
    "# Load IMDb datasets into pandas dataframes\n",
    "IMDb_ratings = pd.read_table(DATA_FOLDER + '/title.ratings.tsv.gz')\n",
    "IMDb_basics = pd.read_table(DATA_FOLDER +  '/title.basics.tsv.gz')\n",
    "\n",
    "# Merge ratings with names\n",
    "IMDb = pd.merge(IMDb_ratings, IMDb_basics, on='tconst')"
   ]
  },
  {
   "cell_type": "markdown",
   "metadata": {},
   "source": [
    "We will now merge the IMDb dataframe with our filtered dataframe 'character_movies_filtered'. As there is no direct ID linking these datasets, we will merge them on the movie name. To ensure that we avoid merging movies having the same name, we'll also merge on the release date of the movie. Let's first store in a list the movies for which we have the same name but different release date (e.g. Twilight)."
   ]
  },
  {
   "cell_type": "code",
   "execution_count": 19,
   "metadata": {},
   "outputs": [],
   "source": [
    "# Get a list of the movie names (name_movie) for which we have multiple releaseDate values\n",
    "subset = character_movies_filtered.drop_duplicates(subset = ['name_movie', 'releaseDate'])\n",
    "grouped = subset.groupby('name_movie').releaseDate.count()\n",
    "list_mlt_dates = list(grouped[grouped>1].index)"
   ]
  },
  {
   "cell_type": "markdown",
   "metadata": {},
   "source": [
    "But by naively removing all movies that do not have a 'startYear' in the IMDb dataset we loose many movies that we could have merged using only the movie name.\n",
    "\n",
    "Further more some movie names in the IMDb ratings have multiple ratings values (e.g. different versions). To deal with this we keep only the rating values for which we have the most votes. \n",
    "\n",
    "Then we set aside movies that have multiple year and merge them witht the IMDb ratings using the movie name and the release year. For the other movies we simply merged on the movie name. This allowed to reduce the loss of movies from ~10% to ~4.6%."
   ]
  },
  {
   "cell_type": "code",
   "execution_count": 20,
   "metadata": {},
   "outputs": [],
   "source": [
    "# For movies with multiple releaseDate: keep only movies with startYear (necessary for the upcoming merge)\n",
    "IMDb_with_year = IMDb[IMDb.originalTitle.isin(list_mlt_dates)]\n",
    "IMDb_with_year = IMDb_with_year.dropna(subset = 'startYear')\n",
    "IMDb_with_year = IMDb_with_year[~(IMDb_with_year.startYear =='\\\\N')]\n",
    "\n",
    "# Convert startYear from string to float (for upcoming merge)\n",
    "IMDb_with_year.startYear = IMDb_with_year.startYear.astype(float)\n",
    "\n",
    "# IMDb dataset with movies that do not have multiple releaseDate values of multiple IMDb ratings\n",
    "IMDb = IMDb[~IMDb.originalTitle.isin(list_mlt_dates)]\n",
    "\n",
    "# If multiple different averageRating for a same movie then keep the value with the most votes (numVotes)\n",
    "IMDb_with_year = IMDb_with_year.sort_values(by='numVotes', ascending=False)\n",
    "IMDb = IMDb.sort_values(by='numVotes', ascending=False)\n",
    "IMDb_with_year = IMDb_with_year.drop_duplicates(subset=['originalTitle', 'startYear'] , keep='first')\n",
    "IMDb = IMDb.drop_duplicates(subset='originalTitle' , keep='first')"
   ]
  },
  {
   "cell_type": "code",
   "execution_count": 21,
   "metadata": {},
   "outputs": [],
   "source": [
    "# Keep only the desired columns\n",
    "IMDb = IMDb[['originalTitle', 'averageRating']]\n",
    "IMDb_with_year = IMDb_with_year[['originalTitle', 'averageRating', 'startYear']]"
   ]
  },
  {
   "cell_type": "code",
   "execution_count": 22,
   "metadata": {},
   "outputs": [],
   "source": [
    "# Populate the characters - movies dataset with the IMDb ratings (movies with multiple averageRating of releaseDate)\n",
    "character_movies_filtered_imdb = pd.merge(character_movies_filtered, IMDb_with_year, how='left',\n",
    "                                          left_on=['name_movie', 'year'], right_on=['originalTitle', 'startYear'])\n",
    "\n",
    "# Remove unwanted columns (duplicated during merge)\n",
    "character_movies_filtered_imdb = character_movies_filtered_imdb.drop(labels = ['originalTitle', 'startYear'], axis=1)\n",
    "\n",
    "# Populate the characters - movies dataset with the IMDb ratings\n",
    "character_movies_filtered_imdb = pd.merge(character_movies_filtered_imdb, IMDb, how='left',\n",
    "                                          left_on='name_movie', right_on='originalTitle')\n",
    "\n",
    "# Combine the two averageRating we got from the merges (replace the null NaN from one column with values form the other)\n",
    "character_movies_filtered_imdb['averageRating'] = character_movies_filtered_imdb.averageRating_x.combine_first(character_movies_filtered_imdb.averageRating_y)\n",
    "character_movies_filtered_imdb = character_movies_filtered_imdb.drop(labels = ['originalTitle', 'averageRating_x', 'averageRating_y'], axis=1)"
   ]
  },
  {
   "cell_type": "markdown",
   "metadata": {},
   "source": [
    "Now we filter our merged dataframe to keep only movies for which we have the IMDb rating. We can then evalutate the number and the impact of the lost movies during this operation."
   ]
  },
  {
   "cell_type": "code",
   "execution_count": 23,
   "metadata": {},
   "outputs": [
    {
     "name": "stdout",
     "output_type": "stream",
     "text": [
      "The number of movies that we lost by adding the IMDb ratings is: 299. This represents a loss of  4.64%\n"
     ]
    }
   ],
   "source": [
    "# Filter for entries that have IMDb ratings\n",
    "character_movies_filtered_imdb = character_movies_filtered_imdb.dropna(subset = 'averageRating')\n",
    "\n",
    "# Look at the movie loss from the IMDb merge\n",
    "lost_movies = len(character_movies_filtered.movieID.unique()) - len(character_movies_filtered_imdb.movieID.unique())\n",
    "\n",
    "print(f'The number of movies that we lost by adding the IMDb ratings is: {lost_movies}. \\\n",
    "This represents a loss of {lost_movies*100/len(character_movies_filtered.movieID.unique()): .2f}%')"
   ]
  },
  {
   "cell_type": "markdown",
   "metadata": {},
   "source": [
    "As we can see the loss is only of 4.64% so it is reasonable and we will carry on with our new dataframe."
   ]
  },
  {
   "cell_type": "markdown",
   "metadata": {},
   "source": [
    "## 2. Matching"
   ]
  },
  {
   "cell_type": "markdown",
   "metadata": {},
   "source": [
    "This section is dedicated to the matching part of the project. Performing matching before an observational study is essential to reduce confounding variables and create balanced treatment and control groups, enhancing the study's internal validity. By ensuring comparability, matching improves the precision of estimates and strengthens the credibility of observed treatment effects. "
   ]
  },
  {
   "cell_type": "markdown",
   "metadata": {},
   "source": [
    "### 2.1 Blockbuster movies definition"
   ]
  },
  {
   "cell_type": "markdown",
   "metadata": {},
   "source": [
    "We'll start by defining what makes a movie a big hit (blockbuster). We'll focus on the revenue as mentioned earlier, but also include the IMDb ratings."
   ]
  },
  {
   "cell_type": "markdown",
   "metadata": {},
   "source": [
    "We first copy the main dataframe "
   ]
  },
  {
   "cell_type": "code",
   "execution_count": 24,
   "metadata": {},
   "outputs": [],
   "source": [
    "# Make deep copy of our prepared dataset\n",
    "df_prepared = character_movies_filtered_imdb.copy()"
   ]
  },
  {
   "cell_type": "markdown",
   "metadata": {},
   "source": [
    "We define the metric for the **success of a movie** as the product of the revenue and the average rating."
   ]
  },
  {
   "cell_type": "code",
   "execution_count": 25,
   "metadata": {},
   "outputs": [],
   "source": [
    "# Add a column to our dataset for this new success metric\n",
    "df_prepared['success'] = df_prepared.revenue * df_prepared.averageRating"
   ]
  },
  {
   "cell_type": "markdown",
   "metadata": {},
   "source": [
    "We'll examine the **evolution of this metric along the years**."
   ]
  },
  {
   "cell_type": "code",
   "execution_count": 26,
   "metadata": {},
   "outputs": [
    {
     "data": {
      "text/plain": [
       "[]"
      ]
     },
     "execution_count": 26,
     "metadata": {},
     "output_type": "execute_result"
    },
    {
     "data": {
      "image/png": "[encoded data removed]",
      "text/plain": [
       "<Figure size 432x288 with 1 Axes>"
      ]
     },
     "metadata": {
      "needs_background": "light"
     },
     "output_type": "display_data"
    }
   ],
   "source": [
    "# Drop duplicate movies\n",
    "unique_movies = df_prepared.drop_duplicates(subset = 'movieID')\n",
    "\n",
    "# Group by year and success\n",
    "success_per_year = unique_movies.groupby(by = 'year')['success']\n",
    "\n",
    "# Get the mean and standard deviation of the success metric for each year\n",
    "avg_success_per_year = success_per_year.mean()\n",
    "std_success_per_year = success_per_year.std()\n",
    "\n",
    "# Plot the results\n",
    "plt.plot(avg_success_per_year)\n",
    "plt.title('Average sucess (movie revenue * IMDb rating) per year')\n",
    "plt.ylabel('movie revenue * IMDb rating')\n",
    "plt.xlabel('Year of release')\n",
    "plt.plot()"
   ]
  },
  {
   "cell_type": "markdown",
   "metadata": {},
   "source": [
    "From this graph we can see a certain fluctuation in the average movie revenue per year.\n",
    "\n",
    "We'll assume that for a movie to be a big hit it, has to be an **outlier** with respect to our previously defined success metric (product of revenue and average rating). The outliers of each year will be labelled as big hits.\n",
    "\n",
    "We define an outlier as: \n",
    "\n",
    "*outlier's success metric > Q3 + 1.5(IQR)*\n",
    "\n",
    "where Q1, Q3 and IQR are respectively the first quantile, the third quantile and the interquantile range."
   ]
  },
  {
   "cell_type": "code",
   "execution_count": 27,
   "metadata": {},
   "outputs": [
    {
     "name": "stdout",
     "output_type": "stream",
     "text": [
      "The number of big hits is: 653\n"
     ]
    },
    {
     "data": {
      "image/png": "[encoded data removed]",
      "text/plain": [
       "<Figure size 432x288 with 1 Axes>"
      ]
     },
     "metadata": {
      "needs_background": "light"
     },
     "output_type": "display_data"
    }
   ],
   "source": [
    "# Compute the first and the third quantile for each year\n",
    "Q1 = success_per_year.quantile(q=0.25)\n",
    "Q3 = success_per_year.quantile(q=0.75)\n",
    "\n",
    "# Compute our ouliner threshold value for each year\n",
    "outlier_thresh = Q3 + 1.5 *(Q3-Q1)\n",
    "outlier_thresh.name = 'threshold'\n",
    "\n",
    "# Filter movie dataset to keep only the big hits\n",
    "movies_merged = pd.merge(df_prepared, outlier_thresh, left_on='year', right_index=True)\n",
    "big_hits = movies_merged[movies_merged['success'] > movies_merged['threshold']]\n",
    "\n",
    "# Plot the mean revenue for big hits compaired to the mean revenue for all movies per year\n",
    "unique_movie_hits = big_hits.drop_duplicates(subset = 'movieID')\n",
    "success_hits_per_year = unique_movie_hits.groupby(by = 'year')['success'].mean()\n",
    "\n",
    "plt.plot(avg_success_per_year, label = 'all movies')\n",
    "plt.plot(success_hits_per_year, label = 'big hits')\n",
    "\n",
    "# Add labels\n",
    "plt.title('Mean success per year')\n",
    "plt.ylabel('Average movie success')\n",
    "plt.xlabel('Year of release')\n",
    "plt.legend()\n",
    "plt.plot()\n",
    "\n",
    "# How many big hits do we have?\n",
    "print(f'The number of big hits is: {len(unique_movie_hits)}')"
   ]
  },
  {
   "cell_type": "markdown",
   "metadata": {},
   "source": [
    "We now divided our movie set between big hits and moderate success movies."
   ]
  },
  {
   "cell_type": "markdown",
   "metadata": {},
   "source": [
    "### 2.2 Blockbuster actors defintion"
   ]
  },
  {
   "cell_type": "markdown",
   "metadata": {},
   "source": [
    "Let's divide our actors dataset into the ones that played in a big hit (treatement group) and the ones that did not (control group)."
   ]
  },
  {
   "cell_type": "code",
   "execution_count": 28,
   "metadata": {},
   "outputs": [
    {
     "name": "stdout",
     "output_type": "stream",
     "text": [
      "The number of actors that played in a big hit is: 4377 (treatement group)\n",
      "The number of actors that did not play in a big hit is: 5624 (control group)\n"
     ]
    }
   ],
   "source": [
    "# Get a set with the names of the actors that played in a big hit\n",
    "unique_actor_hits = big_hits.drop_duplicates(subset = 'name_actor').name_actor\n",
    "\n",
    "# Creat a new column on our main dataframe, a bool for wheter the actors played in a big hit or not\n",
    "df_prepared['big_hit_actor'] = df_prepared.name_actor.isin(unique_actor_hits)\n",
    "\n",
    "# Get a dataframe of actors that played in a big hit (treatement group)\n",
    "actors_big_hit = df_prepared[df_prepared.big_hit_actor]\n",
    "\n",
    "# Get a dataframe of actors that did not play in a big hit (control group)\n",
    "actors_no_big_hit = df_prepared[~df_prepared.big_hit_actor]\n",
    "\n",
    "# Print the number of actors in each group\n",
    "nb_big_hit_actors = len(unique_actor_hits)\n",
    "\n",
    "print(f'The number of actors that played in a big hit is: {nb_big_hit_actors} (treatement group)')\n",
    "print(f'The number of actors that did not play in a big hit is: {nb_tot_filtered_actors-nb_big_hit_actors} (control group)')"
   ]
  },
  {
   "cell_type": "markdown",
   "metadata": {},
   "source": [
    "We now have our treatment and control groups. Let's look at the distribution of different features for which we have information."
   ]
  },
  {
   "cell_type": "markdown",
   "metadata": {},
   "source": [
    "##### A. Gender\n",
    "We can first look at the distribution of gender along these 2 groups."
   ]
  },
  {
   "cell_type": "code",
   "execution_count": 29,
   "metadata": {},
   "outputs": [
    {
     "data": {
      "image/png": "[encoded data removed]",
      "text/plain": [
       "<Figure size 576x432 with 1 Axes>"
      ]
     },
     "metadata": {
      "needs_background": "light"
     },
     "output_type": "display_data"
    }
   ],
   "source": [
    "# Grouping the DataFrame 'df_prepared' by 'big_hit_actor' and 'gender', and counting occurrences of 'gender' within each group\n",
    "group = df_prepared.groupby(['big_hit_actor', 'gender'])['gender'].count()\n",
    "\n",
    "# Unstacking the grouped data to create a pivot table for easier plotting\n",
    "group = group.unstack()\n",
    "\n",
    "# Normalizing the data by dividing each row by the sum of its values to represent proportions\n",
    "group = group.div(group.sum(axis=1), axis=0)\n",
    "\n",
    "# Plotting a bar chart using the normalized data with specific formatting\n",
    "pl = group.plot(kind='bar', figsize=[8,6], rot=0)\n",
    "\n",
    "pl.set_title('Gender')\n",
    "pl.set_ylabel('Participants')\n",
    "pl.set_xlabel('Group')\n",
    "plt.show()\n"
   ]
  },
  {
   "cell_type": "markdown",
   "metadata": {},
   "source": [
    "From this chart, we observe that:\n",
    "- there are **more men than women** both in blockbusters and less popular movies\n",
    "- the **difference is even bigger** in blockbusters\n",
    "\n",
    "This means that gender could be a key factor to look at when studying the difference between actors in big hits and those in other movies."
   ]
  },
  {
   "cell_type": "markdown",
   "metadata": {},
   "source": [
    "##### B. Peak age"
   ]
  },
  {
   "cell_type": "markdown",
   "metadata": {},
   "source": [
    "Now let's have look at the repartition of the **age at the peak of the actors career**.\n",
    "\n",
    "We define the **peak of one actor's carrier** by the year where the product of the number of movies played in with their respective success metric is the highest."
   ]
  },
  {
   "cell_type": "code",
   "execution_count": 30,
   "metadata": {},
   "outputs": [
    {
     "data": {
      "image/png": "[encoded data removed]",
      "text/plain": [
       "<Figure size 576x432 with 1 Axes>"
      ]
     },
     "metadata": {
      "needs_background": "light"
     },
     "output_type": "display_data"
    }
   ],
   "source": [
    "# Calculate the product of the number of movies and respective success metric for each actor and year\n",
    "df_prepared['product'] = df_prepared.groupby(['name_actor', 'year']).movieID.transform('count') * df_prepared.success\n",
    "\n",
    "# Find the row with the maximum product for each actor\n",
    "max_product_rows = df_prepared.loc[df_prepared.groupby('name_actor')['product'].idxmax()]\n",
    "\n",
    "# Extract the actor and the corresponding year for the maximum product\n",
    "result = max_product_rows.loc[:, ['name_actor', 'year', 'birth']]\n",
    "\n",
    "# Correcting the calculation of 'age_at_peak' and merging it into the df_prepared DataFrame\n",
    "result['age_at_peak'] = result['year'] - result['birth'].dt.year\n",
    "df_prepared = pd.merge(df_prepared, result[['name_actor', 'age_at_peak']], on='name_actor', how='left')\n",
    "\n",
    "# Ensuring 'age_at_peak' is calculated correctly\n",
    "df_prepared['age_at_peak'] = df_prepared['year'] - df_prepared['birth'].dt.year\n",
    "\n",
    "# Set the figure size and style for better readability\n",
    "plt.figure(figsize=(8, 6))\n",
    "\n",
    "# Draw a nested boxplot to show career length by actor type\n",
    "sns.boxplot(x='big_hit_actor', y='age_at_peak', \n",
    "            data=df_prepared, \n",
    "            palette=[\"silver\", \"cornflowerblue\"])\n",
    "\n",
    "# Customize the plot with titles and labels\n",
    "plt.grid(True)\n",
    "plt.title('Age At Peak Comparison')\n",
    "plt.xlabel('Big Hit Actor')\n",
    "plt.ylabel('Age at Peak (Years)')\n",
    "plt.xticks([0, 1], ['Control Group', 'Treatment Group'])\n",
    "# Remove the grid lines for a cleaner look\n",
    "sns.despine(bottom=True, left=True)\n",
    "\n",
    "# Show the plot\n",
    "plt.show()"
   ]
  },
  {
   "cell_type": "markdown",
   "metadata": {},
   "source": [
    "The boxplot shows that:\n",
    "- actors in big hits usually hit their peak at an **older age** than those who do not star in big hits\n",
    "- there are quite a few actors who peak at ages that are much higher or lower than average (outliers), especially among those without a big hit\n",
    "\n",
    "In comparing successful actors from big hits to others, the age at which they peaked is an interesting factor to look at. However, we must be careful because actors from different times cannot be easily compared. Success and fame can look different across different eras, so comparing the career trajectories of actors who peaked at different times might not give us a clear picture. It's crucial to remember this when we're analyzing their careers. That's why we will not use age_at_peak for our matching but the age instead."
   ]
  },
  {
   "cell_type": "markdown",
   "metadata": {},
   "source": [
    "### 2.3 Data Matching"
   ]
  },
  {
   "cell_type": "markdown",
   "metadata": {},
   "source": [
    "We will perform the matching on gender, age and the number of movies played in (this last matching variable will be further developed below)."
   ]
  },
  {
   "cell_type": "markdown",
   "metadata": {},
   "source": [
    "##### A. First big hit"
   ]
  },
  {
   "cell_type": "markdown",
   "metadata": {},
   "source": [
    "We will first find the **first big hit** of every blockbuster actor. To do this we filter the df_prepared dataframe to obtain all big hit actors with all their associated big hits. We then group the big hits of every blockbuster actor by year and select the first one."
   ]
  },
  {
   "cell_type": "code",
   "execution_count": 31,
   "metadata": {},
   "outputs": [],
   "source": [
    "# Remove duplicate rows (actors that had multiple roles in the same movie)\n",
    "df_prepared = df_prepared.drop_duplicates(subset=['movieID', 'releaseDate', 'name_actor'])\n",
    "\n",
    "# Define the condition for a movie to be a big hit\n",
    "df_prepared['is_movie_big_hit'] = df_prepared.movieID.isin(unique_movie_hits.movieID)\n",
    "\n",
    "# Filter for blockbuster actors and all of their associated big hits\n",
    "big_hit_actors_df = df_prepared[df_prepared['big_hit_actor'] & df_prepared['is_movie_big_hit']]\n",
    "\n",
    "# Find the year of the first big hit for each actor\n",
    "first_big_hit_year = big_hit_actors_df.groupby('name_actor')['releaseDate'].min().reset_index()\n",
    "\n",
    "# Merge the information back into the original DataFrame\n",
    "df_prepared = pd.merge(df_prepared, first_big_hit_year, on='name_actor', how='left', suffixes=('', '_first_big_hit'))"
   ]
  },
  {
   "cell_type": "markdown",
   "metadata": {},
   "source": [
    "##### B. Count of movies"
   ]
  },
  {
   "cell_type": "markdown",
   "metadata": {},
   "source": [
    "We will now add the counts of movies an actor played in to our dataframe."
   ]
  },
  {
   "cell_type": "code",
   "execution_count": 32,
   "metadata": {},
   "outputs": [],
   "source": [
    "# Count the number of unique movies each actor has played in\n",
    "movies_per_actor = df_prepared.groupby('name_actor')['movieID'].nunique()\n",
    "\n",
    "# Convert the series to a dataframe and reset the index\n",
    "movies_per_actor_df = movies_per_actor.reset_index()\n",
    "movies_per_actor_df.columns = ['name_actor', 'movie_count']\n",
    "\n",
    "# Merge with the main DataFrame to associate the movie count with the big_hit_actor bool\n",
    "df_prepared = df_prepared.merge(movies_per_actor_df, on='name_actor')"
   ]
  },
  {
   "cell_type": "markdown",
   "metadata": {},
   "source": [
    "##### C. Preparing matching data"
   ]
  },
  {
   "cell_type": "markdown",
   "metadata": {},
   "source": [
    "We will now seperate our data into two distinct dataframes:\n",
    "- a dataframe for the information about age, gender and movie counts for actors that played in big hits (treatment group)\n",
    "- a dataframe for the information about age, gender and movie counts for the rest of the actors (control group)"
   ]
  },
  {
   "cell_type": "code",
   "execution_count": 33,
   "metadata": {},
   "outputs": [],
   "source": [
    "# Create a new DataFrame for big hit actors \n",
    "big_hit_actors = df_prepared[df_prepared['big_hit_actor'] == True]\n",
    "\n",
    "# Group by actor's name and calculate movie count before first big hit\n",
    "movie_count_before_hit = big_hit_actors.groupby('name_actor').apply(lambda x: x[x['releaseDate'] < x['releaseDate_first_big_hit']]['movieID'].nunique())\n",
    "\n",
    "# Convert the Series to a DataFrame and reset index\n",
    "movie_count_before_hit = movie_count_before_hit.reset_index(name='movie_count_before_hit')\n",
    "\n",
    "# Merge this count back into the original DataFrame\n",
    "df_prepared = pd.merge(df_prepared, movie_count_before_hit, on='name_actor', how='left')\n",
    "\n",
    "# Set the count to NaN for actors who are not big hit actors\n",
    "df_prepared.loc[df_prepared['big_hit_actor'] == False, 'movie_count_before_hit'] = np.nan\n",
    "\n",
    "# Create a new DataFrame from the drop_duplicates result\n",
    "unique_actors = df_prepared.drop_duplicates(subset='name_actor').copy()\n",
    "\n",
    "# Convert the 'big_hit_actor' column to int\n",
    "unique_actors['big_hit_actor'] = unique_actors['big_hit_actor'].astype(int)\n",
    "\n",
    "# Calculate the movie count afte hit\n",
    "unique_actors['movie_count_after_hit'] = unique_actors['movie_count'] - unique_actors['movie_count_before_hit']\n",
    "\n",
    "actors_big_hit = unique_actors[unique_actors['big_hit_actor'] == 1][['age_at_peak', 'gender', 'movie_count_before_hit', 'movie_count_after_hit']]\n",
    "\n",
    "# Get a dataframe of actors that did not play in a big hit (control group)\n",
    "actors_no_big_hit = unique_actors[unique_actors['big_hit_actor'] == 0][['age_at_peak', 'gender', 'movie_count']]"
   ]
  },
  {
   "cell_type": "markdown",
   "metadata": {},
   "source": [
    "##### D. Perform matching"
   ]
  },
  {
   "cell_type": "markdown",
   "metadata": {},
   "source": [
    "Now that we have the dataframes containing the information about age, gender and movie counts for actors in both groups, we can perform the **matching** between these two groups."
   ]
  },
  {
   "cell_type": "code",
   "execution_count": 34,
   "metadata": {},
   "outputs": [],
   "source": [
    "# Threshold for the condition to add an edge between treatment and control nodes\n",
    "# To be able to compare control and treatment group, we need to satify these two conditions:\n",
    "# 1. contro[movie_count] - treat[movie_before_hit] >=3\n",
    "# 2. treat[movie_after_hit] >=3\n",
    "# These conditions will allow us to compare the carrer after and post big hit\n",
    "th = 3\n",
    "\n",
    "# Drop all big hit actor with less than 3 movies after the big hit\n",
    "actors_big_hit = actors_big_hit[actors_big_hit['movie_count_after_hit']>=3]\n",
    "\n",
    "# Resetting the index of the DataFrame 'actors_big_hit' and converting it to a NumPy array\n",
    "actors_big_hit = actors_big_hit.reset_index()\n",
    "actors_big_hit_numpy = actors_big_hit.to_numpy()\n",
    "\n",
    "# Extracting treatment indices from the NumPy array\n",
    "treat_indices = actors_big_hit_numpy[:, 0]\n",
    "\n",
    "# Resetting the index of the DataFrame 'actors_no_big_hit' and converting it to a NumPy array\n",
    "actors_no_big_hit = actors_no_big_hit.reset_index()\n",
    "actors_no_big_hit_numpy = actors_no_big_hit.to_numpy()\n",
    "\n",
    "# Extracting control indices from the NumPy array\n",
    "control_indices = actors_no_big_hit_numpy[:, 0]\n",
    "\n",
    "# Creating an empty graph using NetworkX\n",
    "B = nx.Graph()\n",
    "\n",
    "# Adding nodes for the treatment group to the graph\n",
    "B.add_nodes_from(treat_indices, bipartite=0)\n",
    "\n",
    "# Adding nodes for the control group to the graph\n",
    "B.add_nodes_from(control_indices, bipartite=1)\n",
    "\n",
    "\n",
    "# Iterating over rows in the treatment and control groups to add edges based on specified conditions\n",
    "for t_row in actors_big_hit_numpy:\n",
    "    for c_row in actors_no_big_hit_numpy:\n",
    "        if abs(t_row[1] - c_row[1]) <= 10 and t_row[2] == c_row[2] and c_row[3] - t_row[3] >= th:\n",
    "            # Adding an edge between treatment and control nodes with the total cost as weight\n",
    "            B.add_edge(t_row[0], c_row[0], weight=0)\n",
    "\n",
    "# Finding the minimum weight matching in the bipartite graph using NetworkX\n",
    "matching = nx.algorithms.matching.min_weight_matching(B)"
   ]
  },
  {
   "cell_type": "code",
   "execution_count": 35,
   "metadata": {},
   "outputs": [
    {
     "data": {
      "text/plain": [
       "2794"
      ]
     },
     "execution_count": 35,
     "metadata": {},
     "output_type": "execute_result"
    }
   ],
   "source": [
    "print(f'The number of match is: {len(matching)}')"
   ]
  },
  {
   "cell_type": "markdown",
   "metadata": {},
   "source": [
    "We will store the values from the matching in a dataframe matched_df to analyse it"
   ]
  },
  {
   "cell_type": "code",
   "execution_count": 36,
   "metadata": {},
   "outputs": [
    {
     "data": {
      "text/html": [
       "<div>\n",
       "<style scoped>\n",
       "    .dataframe tbody tr th:only-of-type {\n",
       "        vertical-align: middle;\n",
       "    }\n",
       "\n",
       "    .dataframe tbody tr th {\n",
       "        vertical-align: top;\n",
       "    }\n",
       "\n",
       "    .dataframe thead th {\n",
       "        text-align: right;\n",
       "    }\n",
       "</style>\n",
       "<table border=\"1\" class=\"dataframe\">\n",
       "  <thead>\n",
       "    <tr style=\"text-align: right;\">\n",
       "      <th></th>\n",
       "      <th>control_index</th>\n",
       "      <th>name_actor_control</th>\n",
       "      <th>treat_index</th>\n",
       "      <th>name_actor_treat</th>\n",
       "    </tr>\n",
       "  </thead>\n",
       "  <tbody>\n",
       "    <tr>\n",
       "      <th>0</th>\n",
       "      <td>49152</td>\n",
       "      <td>Joanna Going</td>\n",
       "      <td>28731</td>\n",
       "      <td>Susan Sarandon</td>\n",
       "    </tr>\n",
       "    <tr>\n",
       "      <th>1</th>\n",
       "      <td>17241</td>\n",
       "      <td>Tristan Wilds</td>\n",
       "      <td>47670</td>\n",
       "      <td>Walton Goggins</td>\n",
       "    </tr>\n",
       "    <tr>\n",
       "      <th>2</th>\n",
       "      <td>56656</td>\n",
       "      <td>Paul Richards</td>\n",
       "      <td>9283</td>\n",
       "      <td>Roger L. Jackson</td>\n",
       "    </tr>\n",
       "    <tr>\n",
       "      <th>3</th>\n",
       "      <td>25034</td>\n",
       "      <td>Seymour Cassel</td>\n",
       "      <td>56698</td>\n",
       "      <td>Peter Gerety</td>\n",
       "    </tr>\n",
       "    <tr>\n",
       "      <th>4</th>\n",
       "      <td>52517</td>\n",
       "      <td>Eva Longoria</td>\n",
       "      <td>57046</td>\n",
       "      <td>Sasha Alexander</td>\n",
       "    </tr>\n",
       "    <tr>\n",
       "      <th>...</th>\n",
       "      <td>...</td>\n",
       "      <td>...</td>\n",
       "      <td>...</td>\n",
       "      <td>...</td>\n",
       "    </tr>\n",
       "    <tr>\n",
       "      <th>2789</th>\n",
       "      <td>46097</td>\n",
       "      <td>Alec McCowen</td>\n",
       "      <td>49425</td>\n",
       "      <td>Wally George</td>\n",
       "    </tr>\n",
       "    <tr>\n",
       "      <th>2790</th>\n",
       "      <td>23317</td>\n",
       "      <td>Ashley Tisdale</td>\n",
       "      <td>39559</td>\n",
       "      <td>Daliah Lavi</td>\n",
       "    </tr>\n",
       "    <tr>\n",
       "      <th>2791</th>\n",
       "      <td>19352</td>\n",
       "      <td>Lea Thompson</td>\n",
       "      <td>45745</td>\n",
       "      <td>Patty Hearst</td>\n",
       "    </tr>\n",
       "    <tr>\n",
       "      <th>2792</th>\n",
       "      <td>31683</td>\n",
       "      <td>Matt Frewer</td>\n",
       "      <td>41655</td>\n",
       "      <td>Abner Biberman</td>\n",
       "    </tr>\n",
       "    <tr>\n",
       "      <th>2793</th>\n",
       "      <td>29057</td>\n",
       "      <td>Ralph Bellamy</td>\n",
       "      <td>23213</td>\n",
       "      <td>Patrick Cranshaw</td>\n",
       "    </tr>\n",
       "  </tbody>\n",
       "</table>\n",
       "<p>2794 rows × 4 columns</p>\n",
       "</div>"
      ],
      "text/plain": [
       "     control_index name_actor_control treat_index  name_actor_treat\n",
       "0            49152       Joanna Going       28731    Susan Sarandon\n",
       "1            17241      Tristan Wilds       47670    Walton Goggins\n",
       "2            56656      Paul Richards        9283  Roger L. Jackson\n",
       "3            25034     Seymour Cassel       56698      Peter Gerety\n",
       "4            52517       Eva Longoria       57046   Sasha Alexander\n",
       "...            ...                ...         ...               ...\n",
       "2789         46097       Alec McCowen       49425      Wally George\n",
       "2790         23317     Ashley Tisdale       39559       Daliah Lavi\n",
       "2791         19352       Lea Thompson       45745      Patty Hearst\n",
       "2792         31683        Matt Frewer       41655    Abner Biberman\n",
       "2793         29057      Ralph Bellamy       23213  Patrick Cranshaw\n",
       "\n",
       "[2794 rows x 4 columns]"
      ]
     },
     "execution_count": 36,
     "metadata": {},
     "output_type": "execute_result"
    }
   ],
   "source": [
    "# Creating a new DataFrame to store the matched pairs with names\n",
    "matched_df = pd.DataFrame(columns=['control_index', 'name_actor_control', 'treat_index', 'name_actor_treat'])\n",
    "\n",
    "for control_idx, treatment_idx in matching:\n",
    "    control_name = unique_actors.loc[control_idx]['name_actor']\n",
    "    treatment_name = unique_actors.loc[treatment_idx]['name_actor']\n",
    "    new_row = pd.DataFrame({\n",
    "        'control_index': control_idx,\n",
    "        'name_actor_control': control_name,\n",
    "        'treat_index': treatment_idx,\n",
    "        'name_actor_treat': treatment_name\n",
    "    }, index=[0])\n",
    "    matched_df = pd.concat([matched_df, new_row], axis=0, ignore_index=True)\n",
    "\n",
    "matched_df"
   ]
  },
  {
   "cell_type": "markdown",
   "metadata": {},
   "source": [
    "Finally, we will selecting the rows from 'unique_actors' based on the matched indices"
   ]
  },
  {
   "cell_type": "code",
   "execution_count": 37,
   "metadata": {},
   "outputs": [],
   "source": [
    "# Extracting the matched indices from the minimum weight matching and combining them into a list\n",
    "matched = [i[0] for i in list(matching)] + [i[1] for i in list(matching)]\n",
    "\n",
    "# Creating a new DataFrame 'balanced_df' by selecting rows from 'unique_actors' based on the matched indices\n",
    "balanced_df = unique_actors.loc[matched]"
   ]
  },
  {
   "cell_type": "markdown",
   "metadata": {},
   "source": [
    "The values from the matching will be stored in order to be accessible in other notebooks."
   ]
  },
  {
   "cell_type": "markdown",
   "metadata": {},
   "source": [
    "## 3. Natural Language Processing"
   ]
  },
  {
   "cell_type": "code",
   "execution_count": 38,
   "metadata": {},
   "outputs": [],
   "source": [
    "df_prepared_copie = character_movies_filtered_imdb.copy()\n",
    "liste_wikiID_uniques = df_prepared_copie['wikiID'].unique()\n",
    "# display(df_prepared)"
   ]
  },
  {
   "cell_type": "markdown",
   "metadata": {},
   "source": [
    "### 3.1 Summaries extraction"
   ]
  },
  {
   "cell_type": "markdown",
   "metadata": {},
   "source": [
    "\n",
    "Our primary dataset consists of 42,306 movie plot summaries from the English Wikipedia.\n",
    "These summaries briefly describe the movie plots and include character descriptions. To analyze this data, we used the preexisting Stanford CoreNLP preprocessed summaries. Those files were already tagged, parsed and each token was already associated with its proper Named Entity and coreference. \n",
    "After converting the data from XML files to a structured format, we will be able to extract specific linguistic characteristics associated with each character of the movies that we filtered."
   ]
  },
  {
   "cell_type": "code",
   "execution_count": 39,
   "metadata": {},
   "outputs": [
    {
     "name": "stderr",
     "output_type": "stream",
     "text": [
      "  0%|          | 85/42306 [00:00<01:43, 406.10it/s]"
     ]
    },
    {
     "name": "stderr",
     "output_type": "stream",
     "text": [
      "100%|██████████| 42306/42306 [01:35<00:00, 441.74it/s] "
     ]
    },
    {
     "name": "stdout",
     "output_type": "stream",
     "text": [
      "Extraction complete.\n"
     ]
    },
    {
     "name": "stderr",
     "output_type": "stream",
     "text": [
      "\n"
     ]
    }
   ],
   "source": [
    "# Home directory\n",
    "source_directory = 'corenlp_plot_summaries'\n",
    "\n",
    "# Destination directory for files corresponding to wikiIDs\n",
    "destination_directory = 'MovieSummaries/tried_summaries'\n",
    "\n",
    "# Directory creation\n",
    "if not os.path.exists(destination_directory):\n",
    "    os.makedirs(destination_directory)\n",
    "\n",
    "# Get a list of files in the source directory\n",
    "source_files = os.listdir(source_directory)\n",
    "\n",
    "# Loop through the files in the source directory\n",
    "for files in tqdm(source_files):\n",
    "    # Checks if the file matches a wikiID in the list\n",
    "    wikiID = files.replace('.xml.gz', '')\n",
    "    if int(wikiID) in liste_wikiID_uniques:\n",
    "        # Build complete source and destination file paths\n",
    "        source_path = os.path.join(source_directory, files)\n",
    "        destination_path = os.path.join(destination_directory, f\"{wikiID}.txt.xml\")\n",
    "\n",
    "        # Unzip the gzip file\n",
    "        with gzip.open(source_path, 'rt', encoding='utf-8') as f_in:\n",
    "            # Copy the contents to a .txt.xml file in the new directory\n",
    "            with open(destination_path, 'w', encoding='utf-8') as f_out:\n",
    "                shutil.copyfileobj(f_in, f_out)\n",
    "\n",
    "print(\"Extraction complete.\")\n",
    "# print(len(os.listdir(destination_directory)))"
   ]
  },
  {
   "cell_type": "markdown",
   "metadata": {},
   "source": [
    "### 3.2 Impact of a Hit Film on an Actor's role selection"
   ]
  },
  {
   "cell_type": "markdown",
   "metadata": {},
   "source": [
    "#### PART 1: Analysis of Character Appearances in Plot Summaries\n",
    "Analysis of plot summaries: We will extract the mentioned characters, that is, the names of characters repeated in synopsis (entities labeled as PERSON), and we will determine the percentage of repetition for each name.\n",
    "\n",
    "#### PART 2: Defining Actor Roles Based on Their Context in Plot Summaries\n",
    "A character can be defined in function of their actions and the characteristics that are attributed to them. To find this, we based our method on the one presented in the paper Learning Latent Personas of Film Characters, written by David Bamman, Brendan O’Connor and Noah A. Smith where the classification of characters was as follows.\n",
    "\n",
    "The classification is based on the dependencies and link between words (whether governor or dependent) found in XML files :\n",
    "- *Actions the character has done* : ie the verb has a dependency \"nsubj\" (nominal subject : a noun phrase which is the syntactic subject of a clause) or \"agent\" (agent : complement of a passive verb which is introduced by the preposition “by” and does the\n",
    "action) with character's name\n",
    "- *Actions he is subject to* : ie the verb has a dependency \"nsubjpass\" (nsubjpass : passive nominal subject ie subject of a passive clause), \"iobj\" (iobj : indirect object), \"prep_*\"(if preposition starts with prep) or \"dobj\" (dobj : direct object) with the character's name\n",
    "- *Attributes* : Adjectives and common noun words such that we are in one of these cases\n",
    "    - dependency = \"nsubj\" or \"appos\" / attribute = governor / character's name = dependent\n",
    "    - dependency = \"nsubj\", \"amod\", \"nn\" or \"appos\" / attribute = dependent / character's name = governor\n",
    "    \n",
    "After having associated each character with their actions and attributes, we can perform a sentiment analysis on them to know if they were rather classified with positive or negative actions/attributes.\n",
    "\n",
    "The output of the sentiment analysis is called **coumpound score**. The compound score is the sum of positive, negative & neutral scores which is then normalized between -1(most extreme negative) and +1 (most extreme positive).\n",
    "\n",
    "The more Compound score closer to +1, the higher the positivity of the text."
   ]
  },
  {
   "cell_type": "code",
   "execution_count": 41,
   "metadata": {},
   "outputs": [
    {
     "name": "stderr",
     "output_type": "stream",
     "text": [
      "[nltk_data] Downloading package vader_lexicon to\n",
      "[nltk_data]     /Users/yassineabdennadher/nltk_data...\n",
      "[nltk_data]   Package vader_lexicon is already up-to-date!\n",
      "  0%|          | 1/6008 [00:00<15:11,  6.59it/s]"
     ]
    },
    {
     "name": "stderr",
     "output_type": "stream",
     "text": [
      "100%|██████████| 6008/6008 [09:26<00:00, 10.61it/s]\n"
     ]
    }
   ],
   "source": [
    "repertoire= 'MovieSummaries/tried_summaries'\n",
    "dependencies = [\"nsubj\", \"agent\", \"dobj\", \"nsubjpass\", \"iobj\"]\n",
    "\n",
    "nltk.download('vader_lexicon')\n",
    "sia = SentimentIntensityAnalyzer()\n",
    "\n",
    "for wikiID in tqdm(liste_wikiID_uniques[136:]):\n",
    "    document = os.path.join(repertoire, str(wikiID) + '.txt.xml')\n",
    "    if os.path.exists(document):\n",
    "        # Access to XML file\n",
    "        tree = ET.parse(document)\n",
    "        root = tree.getroot()\n",
    "        \n",
    "        # Find the film's characters\n",
    "        df_movie = df_prepared_copie[df_prepared_copie['wikiID']==wikiID]\n",
    "        df_movie = df_movie.dropna(subset=['charactName'])\n",
    "        characters_names = df_movie['charactName'].tolist()\n",
    "\n",
    "        ##### Finding the characters' names ie entities that have a PERSON label. ##### \n",
    "        # Lists to store sentence IDs, token IDs, and words\n",
    "        sentences_id_PER = []\n",
    "        tokens_id_PER = []\n",
    "        words_PER = []\n",
    "        \n",
    "        entities = []\n",
    "        current_entity = []\n",
    "        prev_sentence_id = None\n",
    "        prev_token_id = None\n",
    "        \n",
    "        \n",
    "        # Retrieve each sentence from the summary\n",
    "        for sentence in root.findall('.//sentence'):\n",
    "            sentence_id = sentence.attrib.get('id')\n",
    "            # Retrieve each word in the sentence\n",
    "            for token in sentence.findall('.//token'):\n",
    "                # Extract PER entities\n",
    "                ner = token.find('NER').text\n",
    "                if ner == \"PERSON\":\n",
    "                    token_id = int(token.get('id'))\n",
    "                    word = token.find('word').text\n",
    "                    \n",
    "                    # Group words into combined entities \n",
    "                    if prev_sentence_id != sentence_id or prev_token_id is None or token_id != prev_token_id + 1:\n",
    "                        if current_entity:\n",
    "                            entities.append(' '.join(current_entity))\n",
    "                            current_entity = []\n",
    "                    current_entity.append(word)\n",
    "                    prev_sentence_id = sentence_id\n",
    "                    prev_token_id = token_id\n",
    "                    \n",
    "        # Add the last entity if it exists\n",
    "        if current_entity:\n",
    "            entities.append(' '.join(current_entity))            \n",
    "\n",
    "        normalized_entities = {}\n",
    "        \n",
    "        if len(entities) != 0:\n",
    "            for name in entities:\n",
    "                #Normalize each entity so that it is the same as the datafream entity\n",
    "                normalized_name = next((char_name for char_name in characters_names if name in char_name), name)\n",
    "                \n",
    "                # Count their number of recurrences\n",
    "                if normalized_name in normalized_entities:\n",
    "                    normalized_entities[normalized_name] += 1\n",
    "                else:\n",
    "                    normalized_entities[normalized_name] = 1\n",
    "                    \n",
    "            # Calculate the total number of appearances\n",
    "            total_appearances = sum(normalized_entities.values())\n",
    "\n",
    "            # Calculate the percentage of appearances for each name\n",
    "            appearance_percentages = {name: round((count / total_appearances) * 100, 2) for name, count in normalized_entities.items()}\n",
    "            \n",
    "            # Calculate the maximal number of appearances\n",
    "            maximal_value = max(normalized_entities.values())\n",
    "            \n",
    "            # Calculate score of appearances for each name\n",
    "            appearance_importance = {name: round((count / maximal_value), 2) for name, count in normalized_entities.items()}\n",
    "                \n",
    "        \n",
    "        \n",
    "        ##### Finding the polarity_scores for each name. ##### \n",
    "        active_actions = {}\n",
    "        passive_actions = {}\n",
    "        attributes = {}\n",
    "        \n",
    "        # Retrieve each sentence from the summary\n",
    "        for sentence in root.findall('.//sentence'):\n",
    "            sentence_id = sentence.attrib.get('id')\n",
    "                \n",
    "            for dep in sentence.findall('.//collapsed-ccprocessed-dependencies/dep'):\n",
    "                all_words = sentence.findall('.//token')\n",
    "\n",
    "                # Get information on dependencies\n",
    "                dep_type = dep.get('type')\n",
    "                governor = dep.find('governor').text\n",
    "                dependent = dep.find('dependent').text\n",
    "                dependent_id = int(dep.find('dependent').get('idx'))\n",
    "                governor_id = int(dep.find('governor').get('idx'))\n",
    "\n",
    "                # Get information on governor\n",
    "                word = all_words[governor_id-1].find('word').text\n",
    "                pos_tag = all_words[governor_id-1].find('POS').text\n",
    "                \n",
    "                if word != governor:\n",
    "                    print('error!!')\n",
    "                    \n",
    "                # Find verbs with particular dependencies\n",
    "                if pos_tag.startswith('V'):\n",
    "                    if (dep_type in dependencies) or dep_type.startswith('prep_') :\n",
    "                        # Find out if the verb is an action of a character\n",
    "                        for name in characters_names:\n",
    "                            if (dep_type == \"nsubj\" or dep_type == \"agent\") and (governor == word) and (dependent in name):\n",
    "                                if name not in active_actions:\n",
    "                                    active_actions[name] = []\n",
    "                                active_actions[name].append(word)\n",
    "                                \n",
    "                            # Find out if the verb is an action on a character\n",
    "                            elif ((dep_type in [\"dobj\", \"nsubjpass\", \"iobj\"]) or dep_type.startswith('prep_')) and (governor == word) and (dependent in name):\n",
    "                                if name not in passive_actions:\n",
    "                                    passive_actions[name] = []\n",
    "                                passive_actions[name].append(word)\n",
    "\n",
    "                # Find the word that describes a character\n",
    "                if (pos_tag == \"JJ\" or pos_tag == \"VBG\" or pos_tag == \"NN\"):\n",
    "                    for name in characters_names:#itérer sur tout les perso\n",
    "                        if ((dep_type == \"nsubj\" or dep_type == \"appos\") and (governor == word) and (dependent in name)):\n",
    "                            if name not in attributes:\n",
    "                                attributes[name] = []\n",
    "                            attributes[name].append(word)\n",
    "                \n",
    "                # Get information on dependent\n",
    "                word = all_words[dependent_id-1].find('word').text\n",
    "                pos_tag = all_words[dependent_id-1].find('POS').text\n",
    "                # Find the word that describes a character\n",
    "                for name in characters_names:\n",
    "                    if (dep_type == \"nsubj\" or dep_type == \"amod\" or dep_type == \"nn\" or dep_type == \"appos\") and (governor in name) and (dependent == word):\n",
    "                        if name not in attributes:\n",
    "                            attributes[name] = []\n",
    "                        attributes[name].append(word)\n",
    "        \n",
    "        # Complete fream data\n",
    "        for index, row in df_movie.iterrows():\n",
    "            df_prepared_copie.loc[index, 'role_summary_percent'] = appearance_percentages.get(row['charactName'], 0)\n",
    "            df_prepared_copie.loc[index, 'role_importance'] = appearance_importance.get(row['charactName'], 0)\n",
    "           \n",
    "            actif_v = \" \".join(active_actions.get(row['charactName'], []))\n",
    "            pasif_v = \" \".join(passive_actions.get(row['charactName'], []))\n",
    "            adj = \" \".join(attributes.get(row['charactName'], []))\n",
    "    \n",
    "            df_prepared_copie.loc[index, 'comp_active'] = sia.polarity_scores(actif_v)[\"compound\"]\n",
    "            df_prepared_copie.loc[index, 'comp_pasive'] = sia.polarity_scores(pasif_v)[\"compound\"]\n",
    "            df_prepared_copie.loc[index, 'comp_attribut'] = sia.polarity_scores(adj)[\"compound\"]"
   ]
  },
  {
   "cell_type": "markdown",
   "metadata": {},
   "source": [
    "## 4. Analysis\n"
   ]
  },
  {
   "cell_type": "markdown",
   "metadata": {},
   "source": [
    "### 4.1 Big Hit vs Non-Big Hit actors"
   ]
  },
  {
   "cell_type": "markdown",
   "metadata": {},
   "source": [
    "This section will explore and compare the career paths of actors, distinguishing between those who have achieved substantial box office success and those who have not"
   ]
  },
  {
   "cell_type": "markdown",
   "metadata": {},
   "source": [
    "We first import the previously preprocessed datasets."
   ]
  },
  {
   "cell_type": "markdown",
   "metadata": {},
   "source": [
    "We will select only the movies that feature the actors we are focusing on."
   ]
  },
  {
   "cell_type": "code",
   "execution_count": 42,
   "metadata": {},
   "outputs": [],
   "source": [
    "# Keep only the matched actors\n",
    "balanced_actors = balanced_df['name_actor']\n",
    "df_movies_balanced = df_prepared[df_prepared['name_actor'].isin(balanced_actors)]\n",
    "\n",
    "# Load nlp dataframe\n",
    "df_nlp = df_prepared_copie.copy()"
   ]
  },
  {
   "cell_type": "code",
   "execution_count": 43,
   "metadata": {},
   "outputs": [],
   "source": [
    "# Keep only wanted columns\n",
    "df_nlp = df_nlp[['movieID', 'name_actor', 'charactName', 'role_summary_percent', 'role_importance', 'comp_active', 'comp_pasive', 'comp_attribut']]\n",
    "df_nlp=df_nlp.drop_duplicates()\n",
    "\n",
    "# Populate our balanced dataframe with information from the nlp analysis\n",
    "df_movies_balanced = pd.merge(df_movies_balanced, df_nlp, on=['movieID', 'name_actor', 'charactName'], how='left')"
   ]
  },
  {
   "cell_type": "markdown",
   "metadata": {},
   "source": [
    "#### 4.1.1 Carrer Longevity\n",
    "\n",
    "#### A. Statiscal Analysis\n",
    "\n",
    "\n",
    "We first start by comparing the carrer longevity between the two groups. We update the movie dataset to show how long each actor has been working, by finding the time between their first and last movies. It changes the date format, calculates each actor's career length, and adds this information back to the main data."
   ]
  },
  {
   "cell_type": "code",
   "execution_count": 44,
   "metadata": {},
   "outputs": [],
   "source": [
    "# Convert releaseDate to DateTime if it's not already the case \n",
    "df_movies_balanced = df_movies_balanced.copy()\n",
    "df_movies_balanced['releaseDate'] = pd.to_datetime(df_movies_balanced['releaseDate'], errors='coerce')\n",
    "\n",
    "# Calculate the start and end of each actor's career\n",
    "career_start = df_movies_balanced.groupby('name_actor')['releaseDate'].min()\n",
    "career_end = df_movies_balanced.groupby('name_actor')['releaseDate'].max()\n",
    "\n",
    "# Convert career duration from days to years\n",
    "career_duration = (career_end - career_start).dt.days / 365.25\n",
    "career_duration_df = career_duration.reset_index()\n",
    "career_duration_df.rename(columns={'releaseDate': 'career_length_in_years'}, inplace=True)\n",
    "\n",
    "# Merge the career duration data back into the original DataFrame\n",
    "df_movies_balanced = pd.merge(df_movies_balanced, career_duration_df, on='name_actor')\n"
   ]
  },
  {
   "cell_type": "code",
   "execution_count": 45,
   "metadata": {},
   "outputs": [
    {
     "name": "stdout",
     "output_type": "stream",
     "text": [
      "The std carrer longevity of actors that played in a big hit is: 11.18 (treatement group)\n",
      "The std carrer longevity of actors that did not play in a big hit is: 10.96 (control group)\n"
     ]
    }
   ],
   "source": [
    "# Analysis standard deviation\n",
    "treatment_group = df_movies_balanced[df_movies_balanced['big_hit_actor'] == True]\n",
    "control_group = df_movies_balanced[df_movies_balanced['big_hit_actor'] == False]\n",
    "\n",
    "mean_career_length_treatment = treatment_group['career_length_in_years'].std()\n",
    "mean_career_length_control = control_group['career_length_in_years'].std()\n",
    "\n",
    "print(f'The std carrer longevity of actors that played in a big hit is: {mean_career_length_treatment:.2f} (treatement group)')\n",
    "print(f'The std carrer longevity of actors that did not play in a big hit is: {mean_career_length_control:.2f} (control group)')"
   ]
  },
  {
   "cell_type": "code",
   "execution_count": 46,
   "metadata": {},
   "outputs": [
    {
     "name": "stdout",
     "output_type": "stream",
     "text": [
      "The mean carrer longevity of actors that played in a big hit is: 22.12 (treatement group)\n",
      "The mean carrer longevity of actors that did not play in a big hit is: 15.73 (control group)\n"
     ]
    }
   ],
   "source": [
    "# Analysis mean\n",
    "treatment_group = df_movies_balanced[df_movies_balanced['big_hit_actor'] == True]\n",
    "control_group = df_movies_balanced[df_movies_balanced['big_hit_actor'] == False]\n",
    "\n",
    "mean_career_length_treatment = treatment_group['career_length_in_years'].mean()\n",
    "mean_career_length_control = control_group['career_length_in_years'].mean()\n",
    "\n",
    "print(f'The mean carrer longevity of actors that played in a big hit is: {mean_career_length_treatment:.2f} (treatement group)')\n",
    "print(f'The mean carrer longevity of actors that did not play in a big hit is: {mean_career_length_control:.2f} (control group)')\n"
   ]
  },
  {
   "cell_type": "markdown",
   "metadata": {},
   "source": [
    "To determine if there is a significant difference in the mean career longevity between actors who played in a big hit (treatment group) and those who did not (control group), we will use **hypothesis testing**.\n",
    "\n",
    "**Null Hypothesis(H0)**: There is no difference in the mean career longevity between the two groups\n",
    "\n",
    "**Alternative Hypothesis(H1)**:  The mean career of the treatment group is greater than the one of the control group.\n"
   ]
  },
  {
   "cell_type": "markdown",
   "metadata": {},
   "source": [
    "For comparing means of two independent groups, we will use a two-sample t-test is commonly used. To do this we want to ensure that the variances of the two groups are roughly equal. \n",
    "\n",
    "For this, we can perform a Levene's test for the equality of variances."
   ]
  },
  {
   "cell_type": "code",
   "execution_count": 47,
   "metadata": {},
   "outputs": [
    {
     "data": {
      "text/plain": [
       "15.720662623958896"
      ]
     },
     "metadata": {},
     "output_type": "display_data"
    },
    {
     "data": {
      "text/plain": [
       "7.352983709795129e-05"
      ]
     },
     "metadata": {},
     "output_type": "display_data"
    }
   ],
   "source": [
    "from scipy.stats import levene\n",
    "\n",
    "t_stat, p_value = levene(treatment_group['career_length_in_years'], control_group['career_length_in_years'])\n",
    "\n",
    "display(t_stat, p_value)"
   ]
  },
  {
   "cell_type": "markdown",
   "metadata": {},
   "source": [
    "Since the p-value is much lower than 0.05, we would reject the null hypothesis of equal variances at significance level .05. This means the variances of the two groups are not equal, which is an important consideration when choosing the type of statistical test for comparing the means of these groups."
   ]
  },
  {
   "cell_type": "markdown",
   "metadata": {},
   "source": [
    "When the variances of two groups are significantly different, as indicated by our Levene's test result, Welch's t-test is an appropriate method to compare the means."
   ]
  },
  {
   "cell_type": "code",
   "execution_count": 48,
   "metadata": {},
   "outputs": [
    {
     "data": {
      "text/plain": [
       "58.010127286866435"
      ]
     },
     "metadata": {},
     "output_type": "display_data"
    },
    {
     "data": {
      "text/plain": [
       "0.0"
      ]
     },
     "metadata": {},
     "output_type": "display_data"
    }
   ],
   "source": [
    "from scipy.stats import ttest_ind\n",
    "\n",
    "# By setting equal_var to False, we perform Welch’s t-test, which does not assume equal population variance\n",
    "t_stat, p_value = ttest_ind(treatment_group['career_length_in_years'], control_group['career_length_in_years'], equal_var=False, alternative='greater')\n",
    "\n",
    "display(t_stat, p_value)"
   ]
  },
  {
   "cell_type": "markdown",
   "metadata": {},
   "source": [
    "Given the results of Welch's t-test:\n",
    "\n",
    "- **Test Statistic (`t_stat`):** 58.02\n",
    "- **P-value (`p_value`):** 0.0\n",
    "\n",
    "These results indicate:\n",
    "\n",
    "1. **Test Statistic:** The large value often signifies a significant difference between group means.\n",
    "2. **P-value:** Extremely small is far below the common alpha level of 0.05. \n",
    "\n",
    "Since the p-value is reported as 0.0, it is actually a value that is too small to be represented by the floating-point precision in the output and is therefore considered to be extremely significant statistically.\n",
    "The null hypothesis of equal means is rejected at significance level .05. This analysis provides robust evidence of a significant difference in mean career longevity between the two groups of actors.\n"
   ]
  },
  {
   "cell_type": "markdown",
   "metadata": {},
   "source": [
    "#### B. Plots\n",
    "\n",
    "\n",
    "Now that we know that there is difference in the mean, let's plot the distribution of this carrer longevity variable"
   ]
  },
  {
   "cell_type": "code",
   "execution_count": 49,
   "metadata": {},
   "outputs": [
    {
     "data": {
      "image/png": "[encoded data removed]",
      "text/plain": [
       "<Figure size 576x432 with 1 Axes>"
      ]
     },
     "metadata": {},
     "output_type": "display_data"
    }
   ],
   "source": [
    "# Set the style\n",
    "sns.set(style=\"whitegrid\")\n",
    "\n",
    "# Plot histograms\n",
    "plt.figure(figsize=(8, 6))\n",
    "plt.xlim([0, 65])\n",
    "plt.grid(False)\n",
    "sns.histplot(treatment_group['career_length_in_years'], color=\"cornflowerblue\", label='Treatment Group', stat='density')\n",
    "sns.histplot(control_group['career_length_in_years'], color=\"silver\", label='Control Group', stat='density')\n",
    "\n",
    "plt.title('Distribution of Career Longevity')\n",
    "plt.xlabel('Career Length (Years)')\n",
    "plt.ylabel('Number of Actors (density)')\n",
    "plt.legend()\n",
    "plt.show()"
   ]
  },
  {
   "cell_type": "markdown",
   "metadata": {},
   "source": [
    "From the histogram, it appears that:\n",
    "\n",
    "- Both distributions have a right-skewed shape, indicating that a larger number of actors have shorter careers, while fewer actors have very long careers.\n",
    "- The Treatment Group (in blue) has a distribution that generally shows longer career lengths compared to the Control Group (in gray).\n",
    "- As careers get longer, there are fewer actors in both groups, but the group of actors who were in a big hit consistently shows more actors at almost every career stage. This suggests that actors who've had a big hit generally enjoy longer careers.\n"
   ]
  },
  {
   "cell_type": "markdown",
   "metadata": {},
   "source": [
    "Let's plot the box plot of this variable between these two groups"
   ]
  },
  {
   "cell_type": "code",
   "execution_count": 50,
   "metadata": {},
   "outputs": [
    {
     "data": {
      "image/png": "[encoded data removed]",
      "text/plain": [
       "<Figure size 576x432 with 1 Axes>"
      ]
     },
     "metadata": {},
     "output_type": "display_data"
    }
   ],
   "source": [
    "# Box plot\n",
    "\n",
    "# Set the style\n",
    "sns.set(style=\"whitegrid\")\n",
    "\n",
    "# Combine the data into a single DataFrame for plotting\n",
    "data_combined = pd.concat([treatment_group.assign(Group=\"Treatment Group\"),\n",
    "                           control_group.assign(Group=\"Control Group\")])\n",
    "\n",
    "# Plot boxplots\n",
    "plt.figure(figsize=(8, 6))\n",
    "sns.boxplot(x='Group', y='career_length_in_years', data=data_combined, palette={\"Treatment Group\": \"cornflowerblue\", \"Control Group\": \"silver\"})\n",
    "plt.grid(False)\n",
    "plt.title('Distribution of Career Longevity')\n",
    "plt.xlabel('Group')\n",
    "plt.ylabel('Career Length (Years)')\n",
    "plt.show()"
   ]
  },
  {
   "cell_type": "markdown",
   "metadata": {},
   "source": [
    "From this boxplot, it appears that:\n",
    "\n",
    "- The median for the Treatment Group's career lengths is above that of the Control Group, implying that, on average, actors in the Treatment Group enjoy longer careers.\n",
    "- The spread of career lengths for the middle half of actors in the Treatment Group is higher up the scale, meaning that a typical actor in this group has a longer career than one in the Control Group.\n",
    "- While both groups have some actors with very long careers, there are more in the Control Group than we might expect. This shows that some actors can still have long careers without starring in a big hit movie.\n"
   ]
  },
  {
   "cell_type": "markdown",
   "metadata": {},
   "source": [
    "#### 4.1.2 Movie counts\n",
    "\n",
    "\n",
    "#### A. Statiscal analysis"
   ]
  },
  {
   "cell_type": "markdown",
   "metadata": {},
   "source": [
    "Next, we will look to the number of unique movieIDs associated with each actor to see if actors in big hits tend to appear in more movies overall"
   ]
  },
  {
   "cell_type": "code",
   "execution_count": 51,
   "metadata": {},
   "outputs": [
    {
     "name": "stdout",
     "output_type": "stream",
     "text": [
      "Standard deviation of number of movies for actors in big hits: 9.955044669840525\n",
      "Standard deviation of number of movies for actors not in big hits: 4.6126138441561935\n"
     ]
    }
   ],
   "source": [
    "# Analysis standard deviation\n",
    "\n",
    "# Calculate the std number of movies for the treatment group\n",
    "std_movies_treatment = treatment_group['movie_count'].std()\n",
    "\n",
    "# Calculate the std number of movies for the control group\n",
    "std_movies_control = control_group['movie_count'].std()\n",
    "\n",
    "print(f'Standard deviation of number of movies for actors in big hits: {std_movies_treatment: .2f}')\n",
    "print(f'Standard deviation of number of movies for actors not in big hits: {std_movies_control: .2f}')"
   ]
  },
  {
   "cell_type": "code",
   "execution_count": 52,
   "metadata": {},
   "outputs": [
    {
     "name": "stdout",
     "output_type": "stream",
     "text": [
      "Average number of movies for actors in big hits: 16.540771691584514\n",
      "Average number of movies for actors not in big hits: 7.2691791845493565\n"
     ]
    }
   ],
   "source": [
    "# Analysis mean\n",
    "\n",
    "# Calculate the average number of movies for the treatment group\n",
    "average_movies_treatment = treatment_group['movie_count'].mean()\n",
    "\n",
    "# Calculate the average number of movies for the control group\n",
    "average_movies_control = control_group['movie_count'].mean()\n",
    "\n",
    "print(f'Average number of movies for actors in big hits: {average_movies_treatment: .2f}')\n",
    "print(f'Average number of movies for actors not in big hits: {average_movies_control: .2f}')\n"
   ]
  },
  {
   "cell_type": "markdown",
   "metadata": {},
   "source": [
    "As we proceeded for carrer longevity, we will perfor a two-sampled t-test to see if there is a difference in the mean between these two groups.\n",
    "\n",
    "**Null Hypothesis(H0)**: There is no difference in the mean movie counts between the two groups\n",
    "\n",
    "**Alternative Hypothesis(H1)**:  There is a difference in the mean movie counts between the two groups"
   ]
  },
  {
   "cell_type": "markdown",
   "metadata": {},
   "source": [
    "Here, we see that the variances of the two groups are significantly different. We will use Welch's t-test to compare the means."
   ]
  },
  {
   "cell_type": "code",
   "execution_count": 53,
   "metadata": {},
   "outputs": [
    {
     "data": {
      "text/plain": [
       "135.79235663612255"
      ]
     },
     "metadata": {},
     "output_type": "display_data"
    },
    {
     "data": {
      "text/plain": [
       "0.0"
      ]
     },
     "metadata": {},
     "output_type": "display_data"
    }
   ],
   "source": [
    "# By setting equal_var to False, we perform Welch’s t-test, which does not assume equal population variance\n",
    "t_stat, p_value = ttest_ind(treatment_group['movie_count'], control_group['movie_count'], equal_var=False, alternative='greater')\n",
    "\n",
    "print(f'{t_stat : .2f}, {p_value: .2f})"
   ]
  },
  {
   "cell_type": "markdown",
   "metadata": {},
   "source": [
    "The result of Welch's t-test suggests a significant difference between the two groups regarding their 'movie_count'. Since the p-value is reported as 0.0, it is actually a value that is too small to be represented by the floating-point precision in the output and is therefore considered to be extremely significant statistically.\n",
    "\n",
    "\n",
    "We can conclude that actors in the treatment group are associated with a significantly different (likely higher, given the context) number of movie appearances compared to the control group, and this difference is not due to random chance according to the test's results"
   ]
  },
  {
   "cell_type": "markdown",
   "metadata": {},
   "source": [
    "#### B. Plot"
   ]
  },
  {
   "cell_type": "markdown",
   "metadata": {},
   "source": [
    "Let's create a boxplot to see how the number of movies is spread out between the two groups."
   ]
  },
  {
   "cell_type": "code",
   "execution_count": 54,
   "metadata": {},
   "outputs": [
    {
     "data": {
      "image/png": "[encoded data removed]",
      "text/plain": [
       "<Figure size 576x432 with 1 Axes>"
      ]
     },
     "metadata": {},
     "output_type": "display_data"
    }
   ],
   "source": [
    "\n",
    "# Box plot\n",
    "\n",
    "# Set the style\n",
    "sns.set(style=\"whitegrid\")\n",
    "\n",
    "# Combine the data into a single DataFrame for plotting\n",
    "data_combined = pd.concat([treatment_group.assign(Group=\"Treatment Group\"),\n",
    "                           control_group.assign(Group=\"Control Group\")])\n",
    "\n",
    "# Plot boxplots\n",
    "plt.figure(figsize=(8, 6))\n",
    "sns.boxplot(x='Group', y='movie_count', data=data_combined, palette={\"Treatment Group\": \"cornflowerblue\", \"Control Group\": \"silver\"})\n",
    "plt.grid(False)\n",
    "plt.xlabel('Group')\n",
    "plt.ylabel('Number of Movies')\n",
    "plt.title('Distribution of Movie Counts for Actors in Big Hits vs. Not in Big Hits')\n",
    "plt.show()"
   ]
  },
  {
   "cell_type": "markdown",
   "metadata": {},
   "source": [
    "From this boxplot, it appears that:\n",
    "\n",
    "- Actors in the Treatment Group typically appear in more movies, as indicated by the higher median (the line within the blue box).\n",
    "- The interquartile range (IQR), which is the range between the first quartile (25th percentile) and the third quartile (75th percentile), is wider for the Treatment Group, suggesting more variability in the number of movies among actors in this group.\n",
    "- The presence of more outliers in the Treatment Group with very high movie counts could indicate that actors who appear in big hits are more likely to have prolific careers."
   ]
  },
  {
   "cell_type": "markdown",
   "metadata": {},
   "source": [
    "#### 4.1.3 Age at peak\n",
    "\n",
    "\n",
    "#### A. Statiscal analysis"
   ]
  },
  {
   "cell_type": "markdown",
   "metadata": {},
   "source": [
    "Next, we will look to the number of age at peak with each actor to compare this with the two groups."
   ]
  },
  {
   "cell_type": "markdown",
   "metadata": {},
   "source": [
    "We define the **peak of one actor's carrier** by the year where the product of the number of movies played in with their respective success metric is the highest."
   ]
  },
  {
   "cell_type": "code",
   "execution_count": 55,
   "metadata": {},
   "outputs": [
    {
     "name": "stdout",
     "output_type": "stream",
     "text": [
      "Standard deviation of age at peak for actors in big hits: 14.164830495912309\n",
      "Standard deviation of age at peak for actors not in big hits: 14.607295264129029\n"
     ]
    }
   ],
   "source": [
    "# Analysis standard deviation\n",
    "\n",
    "# Calculate the std number of movies for the treatment group\n",
    "std_age_treatment = treatment_group['age_at_peak'].std()\n",
    "\n",
    "# Calculate the std number of movies for the control group\n",
    "std_age_control = control_group['age_at_peak'].std()\n",
    "\n",
    "print(f'Standard deviation of age at peak for actors in big hits: {std_age_treatment: .2f}')\n",
    "print(f'Standard deviation of age at peak for actors not in big hits: {std_age_control: .2f}')"
   ]
  },
  {
   "cell_type": "code",
   "execution_count": 56,
   "metadata": {},
   "outputs": [
    {
     "name": "stdout",
     "output_type": "stream",
     "text": [
      "Mean of age at peak for actors in big hits: 41.06966116080172\n",
      "Mean of age at peak for actors not in big hits: 38.40517703862661\n"
     ]
    }
   ],
   "source": [
    "# Analysis standard deviation\n",
    "\n",
    "# Calculate the average number of movies for the treatment group\n",
    "mean_age_treatment = treatment_group['age_at_peak'].mean()\n",
    "\n",
    "# Calculate the average number of movies for the control group\n",
    "mean_age_control = control_group['age_at_peak'].mean()\n",
    "\n",
    "print(f'Mean of age at peak for actors in big hits: {mean_age_treatment: .2f}')\n",
    "print(f'Mean of age at peak for actors not in big hits: {mean_age_control: .2f}')"
   ]
  },
  {
   "cell_type": "markdown",
   "metadata": {},
   "source": [
    "To determine if there is a significant difference in the mean of age at peak between actors who played in a big hit (treatment group) and those who did not (control group), we will use **hypothesis testing**.\n",
    "\n",
    "**Null Hypothesis(H0)**: There is no difference in the mean of age at peak between the two groups\n",
    "\n",
    "**Alternative Hypothesis(H1)**:  There is a difference in the mean of at peak between the two groups\n"
   ]
  },
  {
   "cell_type": "markdown",
   "metadata": {},
   "source": [
    "For this we perform a t-testing assuming that the variance is the same since the difference is negligible."
   ]
  },
  {
   "cell_type": "code",
   "execution_count": 57,
   "metadata": {},
   "outputs": [
    {
     "data": {
      "text/plain": [
       "18.64583363130561"
      ]
     },
     "metadata": {},
     "output_type": "display_data"
    },
    {
     "data": {
      "text/plain": [
       "1.3257936233392053e-77"
      ]
     },
     "metadata": {},
     "output_type": "display_data"
    }
   ],
   "source": [
    "t_stat, p_value = ttest_ind(treatment_group['age_at_peak'], control_group['age_at_peak'], alternative='greater')\n",
    "\n",
    "print(f'{t_stat : .2f}, {p_value: .2f})"
   ]
  },
  {
   "cell_type": "markdown",
   "metadata": {},
   "source": [
    "The extremely low p-value indicates that the probability of observing such a large t-statistic under the null hypothesis (that there is no difference in means or that the mean age at peak of the treatment group is not greater than the control group) is close to zero. Therefore, we can reject the null hypothesis (at significance level .05) in favor of the alternative hypothesis that the mean age at peak of the treatment group is indeed greater than that of the control group with a high degree of confidence.\n",
    "\n"
   ]
  },
  {
   "cell_type": "markdown",
   "metadata": {},
   "source": [
    "#### B. Plot"
   ]
  },
  {
   "cell_type": "code",
   "execution_count": 58,
   "metadata": {},
   "outputs": [
    {
     "data": {
      "image/png": "[encoded data removed]",
      "text/plain": [
       "<Figure size 576x432 with 1 Axes>"
      ]
     },
     "metadata": {},
     "output_type": "display_data"
    }
   ],
   "source": [
    "# Set the style\n",
    "sns.set(style=\"whitegrid\")\n",
    "\n",
    "# Plot histograms\n",
    "plt.figure(figsize=(8, 6))\n",
    "plt.xlim([0, 65])\n",
    "plt.grid(False)\n",
    "sns.histplot(treatment_group['age_at_peak'], color=\"cornflowerblue\", label='Treatment Group', stat='density')\n",
    "sns.histplot(control_group['age_at_peak'], color=\"silver\", label='Control Group', stat='density')\n",
    "\n",
    "plt.title('Distribution of Age At Peak')\n",
    "plt.xlabel('Age (Years)')\n",
    "plt.ylabel('Number of Actors (density)')\n",
    "plt.legend()\n",
    "plt.show()"
   ]
  },
  {
   "cell_type": "markdown",
   "metadata": {},
   "source": [
    "From this histogram, it appears that:\n",
    "\n",
    "- For both groups, there's a concentration of actors who reached their peak in their 30s and early 40s, which appears to be the most common age range for reaching a peak\n",
    "- The Treatment Group has a higher density of actors who reached their peak at a younger age compared to the Control Group. This is particularly noticeable in the age range of about 25 to 35 years.\n",
    "\n",
    "Combining this histogram with the earlier t-test results we provided, we can say that the Treatment Group not only has a significantly higher mean age at peak, but also the distribution of their peak ages tends to include a higher number of younger actors."
   ]
  },
  {
   "cell_type": "markdown",
   "metadata": {},
   "source": [
    "### 4.2 Carrer Post-big hit analysis"
   ]
  },
  {
   "cell_type": "markdown",
   "metadata": {},
   "source": [
    "It is interesting to look at the evolution of the career of actors after their first big hit to see if we can notice any change with their career pre-big hit or with the career of an actor that did not play in a big hit.\n",
    "\n",
    "#### Prepare the dataframe\n",
    "\n",
    "We want compare the before/after big hit career of actors in the treatment group with the ones in the control group. To do so we have to define an event for the actors in the control group that will be used as reference to set the before/after career of those actors (since they did not play in any big hit movie). We decided to attribute a mock-up 'first big hit' to actors in the control group that corresponds to the movie number (ordered in chronological order) of first big hit of their respective matched treatment group actor. So for example, Lou Taylor Pucci is in the control group since he did not play in any big hit movies, he was matched with Leonardo DiCaprio who is in the treatment group. Leonardo DiCaprio had his first big hit after playing in 4 movies, it's 5th movie was his first big hit. Following this, we set the mock-up first big hit of Lou Taylor Pucci to be his 5th movie. In a sense this 'nth' movie represents the most likely movie for the first big hit of control group actors (if they had one)."
   ]
  },
  {
   "cell_type": "markdown",
   "metadata": {},
   "source": [
    "First we want to use the matched dataframe to create a new column on our working dataframe. This column will contain, for each actor, the name of the actor that has been matched with them. "
   ]
  },
  {
   "cell_type": "code",
   "execution_count": 60,
   "metadata": {},
   "outputs": [],
   "source": [
    "# Keep only interesting columns for subsequent analysis\n",
    "col = ['movieID', 'name_movie', 'releaseDate', 'genres',  'revenue', 'success', 'averageRating', 'is_movie_big_hit', 'name_actor',\n",
    "       'birth', 'big_hit_actor', 'movie_count_before_hit', 'role_importance', 'comp_active', 'comp_pasive', 'comp_attribut']\n",
    "df_career_analysis = df_movies_balanced[col].copy()"
   ]
  },
  {
   "cell_type": "code",
   "execution_count": 61,
   "metadata": {},
   "outputs": [],
   "source": [
    "# Keep only name columns from the matched dataframe\n",
    "matched_df = matched_df[['name_actor_control', 'name_actor_treat']]\n",
    "\n",
    "# Create new column with the name of the matched actor (do this for treatment and control group):\n",
    "# First populate our dataframe with the mached treatment actor names for the control group\n",
    "df_career_analysis = pd.merge(df_career_analysis, matched_df, left_on='name_actor', right_on='name_actor_control', how='left')\n",
    "df_career_analysis = df_career_analysis.drop(labels='name_actor_control', axis=1)\n",
    "# Do the same for the treatment group\n",
    "df_career_analysis = pd.merge(df_career_analysis, matched_df, left_on='name_actor', right_on='name_actor_treat', how='left', suffixes=('', '_merge'))\n",
    "df_career_analysis = df_career_analysis.drop(labels='name_actor_treat_merge', axis=1)\n",
    "\n",
    "# Merge the two columns to form only one (matched_name)\n",
    "df_career_analysis['matched_name'] = df_career_analysis['name_actor_treat'].combine_first(df_career_analysis['name_actor_control'])\n",
    "df_career_analysis = df_career_analysis.drop(labels=['name_actor_control', 'name_actor_treat'], axis=1)"
   ]
  },
  {
   "cell_type": "markdown",
   "metadata": {},
   "source": [
    "Then we want to attribute to each control actor the same 'movie_count_before_hit' as the actor they have been matched with."
   ]
  },
  {
   "cell_type": "code",
   "execution_count": 62,
   "metadata": {},
   "outputs": [],
   "source": [
    "# Merge our dataframe (df_career_analysis) with a version of itself (only one row for each acotrs) based on 'matched_name'\n",
    "df_for_merge = df_career_analysis.drop_duplicates(subset='name_actor')\n",
    "merged_df = pd.merge(df_career_analysis, df_for_merge[['name_actor', 'movie_count_before_hit']],\n",
    "                     left_on='matched_name',\n",
    "                     right_on='name_actor',\n",
    "                     how='left',\n",
    "                     suffixes=('', '_matched'))\n",
    "\n",
    "# Fill missing values in 'movie_count_before_hit' with values from the matched actor\n",
    "df_career_analysis['movie_count_before_hit'] = df_career_analysis['movie_count_before_hit'].combine_first(merged_df['movie_count_before_hit_matched'])"
   ]
  },
  {
   "cell_type": "markdown",
   "metadata": {},
   "source": [
    "Now, before going further, we will arrange the movies in a chronological order and assign a number representing the respective position (in the timeline) with respect to the first big-hit movie. This number is named 'n': n<0 if the movie was released before the first big-hit movie, n=0 is the movie is the first big-hit movie and n>0 if the movie was released after the first big-hit movie."
   ]
  },
  {
   "cell_type": "code",
   "execution_count": 63,
   "metadata": {},
   "outputs": [],
   "source": [
    "# Keep only name columns from the matched dataframe\n",
    "matched_df = matched_df[['name_actor_control', 'name_actor_treat']]\n",
    "\n",
    "# Create new column with the name of the matched actor (do this for treatment and control group):\n",
    "# First populate our dataframe with the mached treatment actor names for the control group\n",
    "df_career_analysis = pd.merge(df_career_analysis, matched_df, left_on='name_actor', right_on='name_actor_control', how='left')\n",
    "df_career_analysis = df_career_analysis.drop(labels='name_actor_control', axis=1)\n",
    "# Do the same for the treatment group\n",
    "df_career_analysis = pd.merge(df_career_analysis, matched_df, left_on='name_actor', right_on='name_actor_treat', how='left', suffixes=('', '_merge'))\n",
    "df_career_analysis = df_career_analysis.drop(labels='name_actor_treat_merge', axis=1)\n",
    "\n",
    "# Merge the two columns to form only one (matched_name)\n",
    "df_career_analysis['matched_name'] = df_career_analysis['name_actor_treat'].combine_first(df_career_analysis['name_actor_control'])\n",
    "df_career_analysis = df_career_analysis.drop(labels=['name_actor_control', 'name_actor_treat'], axis=1)"
   ]
  },
  {
   "cell_type": "markdown",
   "metadata": {},
   "source": [
    "Then we want to attribute to each control actor the same 'movie_count_before_hit' as the actor they have been matched with."
   ]
  },
  {
   "cell_type": "code",
   "execution_count": 64,
   "metadata": {},
   "outputs": [],
   "source": [
    "# Merge our dataframe (df_career_analysis) with a version of itself (only one row for each acotrs) based on 'matched_name'\n",
    "df_for_merge = df_career_analysis.drop_duplicates(subset='name_actor')\n",
    "merged_df = pd.merge(df_career_analysis, df_for_merge[['name_actor', 'movie_count_before_hit']],\n",
    "                     left_on='matched_name',\n",
    "                     right_on='name_actor',\n",
    "                     how='left',\n",
    "                     suffixes=('', '_matched'))\n",
    "\n",
    "# Fill missing values in 'movie_count_before_hit' with values from the matched actor\n",
    "df_career_analysis['movie_count_before_hit'] = df_career_analysis['movie_count_before_hit'].combine_first(merged_df['movie_count_before_hit_matched'])"
   ]
  },
  {
   "cell_type": "markdown",
   "metadata": {},
   "source": [
    "Now, before going further, we will arrange the movies in a chronological order and assign a number representing the respective position (in the timeline) with respect to the first big hit movie. This number is named 'n': n<0 if the movie was released before the first big hit movie, n=0 is the movie is the first big hit movie and n>0 if the movie was released after the first big hit movie."
   ]
  },
  {
   "cell_type": "code",
   "execution_count": 67,
   "metadata": {},
   "outputs": [],
   "source": [
    "# Sort by actor name and order by release date and success (for actors that have movies with same release dates)\n",
    "df_career_analysis = df_career_analysis.sort_values(by=['name_actor', 'releaseDate', 'success']).reset_index(drop=True)\n",
    "\n",
    "# Group by actor names and apply the center_on_first_hit function to comptue 'n'\n",
    "grp = df_career_analysis.groupby('name_actor')\n",
    "df_career_analysis['n'] = grp.apply(lambda x: x.apply(lambda row: center_on_first_hit(x, row), axis=1)).reset_index(drop=True)\n",
    "\n",
    "# Get rid of unwanted columns for upcoming analysis\n",
    "df_career_analysis = df_career_analysis.drop(labels='movie_count_before_hit', axis=1)"
   ]
  },
  {
   "cell_type": "markdown",
   "metadata": {},
   "source": [
    "#### 4.2.1 Revenue\n",
    "\n",
    "Now that we have our arranged dataframe with the control group and the treatment group, we can look at their respective career evolution with respect to movie box office revenues, average IMDb ratings and success values."
   ]
  },
  {
   "cell_type": "markdown",
   "metadata": {},
   "source": [
    "One thing we have to care about is the representativity of the values we will plot. For this we have to make sure that, for both the treatment and the control group, we have enough values for each nth-movie plotted. We decided to keep only 'n' indexes for which we have more than 1000 values. "
   ]
  },
  {
   "cell_type": "code",
   "execution_count": 68,
   "metadata": {},
   "outputs": [],
   "source": [
    "# Seperate the control group and the treatement group\n",
    "treat = df_career_analysis[df_career_analysis.big_hit_actor]\n",
    "ctrl = df_career_analysis[~df_career_analysis.big_hit_actor]\n",
    "\n",
    "# Get the number of actors we have for each year n\n",
    "nb_of_actors_for_n_treat = treat.groupby('n')['name_actor'].count()\n",
    "nb_of_actors_for_n_ctrl = ctrl.groupby('n')['name_actor'].count()\n",
    "\n",
    "# Define the indexes we will keep where the number obf actors is representative enough\n",
    "to_plot_indexes_treat = nb_of_actors_for_n_treat[nb_of_actors_for_n_treat.values>=1000].index\n",
    "to_plot_indexes_ctrl = nb_of_actors_for_n_ctrl[nb_of_actors_for_n_ctrl.values>=1000].index\n",
    "\n",
    "# Keep only indexes (n values) where we have enough actors (as computed above)\n",
    "plot_treat = treat[treat.n.isin(to_plot_indexes_treat)]\n",
    "plot_ctrl = ctrl[ctrl.n.isin(to_plot_indexes_ctrl)]\n",
    "\n",
    "# Group by the 'n' value\n",
    "treat_grp = plot_treat.groupby('n')\n",
    "ctrl_grp = plot_ctrl.groupby('n')"
   ]
  },
  {
   "cell_type": "markdown",
   "metadata": {},
   "source": [
    "We will start the analysis by looking at the mean movie box office revenue for each group. \n",
    "\n",
    "It is interesting to get a sense of how this variable is distributed among the two groups. For this we plot the revenue of the first movie after the first big hit."
   ]
  },
  {
   "cell_type": "code",
   "execution_count": 69,
   "metadata": {},
   "outputs": [
    {
     "data": {
      "image/png": "[encoded data removed]",
      "text/plain": [
       "<Figure size 432x288 with 1 Axes>"
      ]
     },
     "metadata": {},
     "output_type": "display_data"
    }
   ],
   "source": [
    "# Get the movies that follow the first big hit\n",
    "first_after_hit_treat = treat[treat.n == 1]\n",
    "first_after_hit_ctrl = ctrl[ctrl.n == 1]\n",
    "\n",
    "# Plot the revenue\n",
    "plt.title('Revenue of movie that follows the first big hit')\n",
    "sns.boxplot(x='big_hit_actor', y='revenue', data=first_after_hit_ctrl, color='silver')\n",
    "sns.boxplot(x='big_hit_actor', y='revenue', data=first_after_hit_treat, color='cornflowerblue')\n",
    "# Plot in log scale to have better visibility \n",
    "plt.yscale('log')\n",
    "plt.grid(False)\n",
    "plt.show()"
   ]
  },
  {
   "cell_type": "markdown",
   "metadata": {},
   "source": [
    "As we can see from this plot the revenue is not normally distributed and it contains many extreme outliers (not the log scale of the y-axis). It also seems that the treatment group revenue value is more skewed than for the control group. So when plotting the revenue for each 'n' we will rather use the median instead of the mean and quantiles instead of standard deviation."
   ]
  },
  {
   "cell_type": "code",
   "execution_count": 70,
   "metadata": {},
   "outputs": [
    {
     "data": {
      "image/png": "[encoded data removed]",
      "text/plain": [
       "<Figure size 576x432 with 1 Axes>"
      ]
     },
     "metadata": {},
     "output_type": "display_data"
    }
   ],
   "source": [
    "# Compute the mean revenue. Then keep only indexes for which we have enough actors\n",
    "to_plot_rev_treat = treat_grp.revenue.median()\n",
    "to_plot_rev_ctrl = ctrl_grp.revenue.median()\n",
    "\n",
    "# Compute the 25th and 75th quantile for the revenue\n",
    "Q75_treat = treat_grp.revenue.quantile(q=0.75)\n",
    "Q25_treat = treat_grp.revenue.quantile(q=0.25)\n",
    "\n",
    "Q75_ctrl = ctrl_grp.revenue.quantile(q=0.75)\n",
    "Q25_ctrl = ctrl_grp.revenue.quantile(q=0.25)\n",
    "\n",
    "# Plot the results\n",
    "plt.figure(figsize=(8,6))\n",
    "plt.fill_between(to_plot_rev_treat.index, Q25_treat, Q75_treat, alpha = 0.5, color = (0.67, 0.757, 1))\n",
    "plt.fill_between(to_plot_rev_ctrl.index, Q25_ctrl, Q75_ctrl, alpha = 0.5, color =  'lightgrey')\n",
    "\n",
    "plt.plot(Q75_ctrl, color='silver')\n",
    "plt.plot(Q25_ctrl, color='silver')\n",
    "\n",
    "plt.plot(to_plot_rev_treat, label = 'Treatement group', color='cornflowerblue')\n",
    "plt.plot(to_plot_rev_ctrl, label = 'Control group', color='grey')\n",
    "\n",
    "plt.axvline(x=0, color='r', label = 'First big hit', linestyle ='--')\n",
    "plt.title('Median revenue per movies')\n",
    "plt.xlabel('Movies in chronological order')\n",
    "plt.ylabel('Median box office revenue')\n",
    "plt.legend()\n",
    "plt.show()"
   ]
  },
  {
   "cell_type": "markdown",
   "metadata": {},
   "source": [
    "This graph shows the evolution of the median box office revenue along the movies arranged in chronological order. The uncertainty is represented using quantiles (the 25th and the 75th). \n",
    "\n",
    "We can see that the median is approximately the same for the two groups before the big hit event. For the big hit movie, as expected, the treatment group (for which the movie was an actual big hit) box office revenue median is much higher than the control group median. What is interesting to see is that, after this first big hit, the median does not fall back to its previous low value but sets, for the next couple of years, to a value that is a bit higher. \n",
    "\n",
    "However, there is a lot of variability in the revenue variable and the interquartile range of the treatment and the control group overlaps. This prevents us from having a clear cut and being able to make a strong statement about a difference in the two groups relying only on this graph. We can however see that amoung the treatment group there is a much wider and variable dirstribution of the movie revenue (as seen in the previous plot with the numerous high value outliers).\n",
    "\n",
    "We will now perform a statistiacl test for the revenue of the movies that comes directly after the first big hit (n=1 and n=2) to see if the difference between the two groups revenue median is significant. However, we will not use a t-test because as we have see our data is not normally distributed and the standard deviation seems to be quite different. We will be using a Wilcoxon signed-rank test instead. One of the reason that we selected this test is that our data is matched."
   ]
  },
  {
   "cell_type": "markdown",
   "metadata": {},
   "source": [
    "**Null Hypothesis(H0)**: There is no difference in the median of the movie revenue between the two groups (for n={1, 2})\n",
    "\n",
    "**Alternative Hypothesis(H1)**:  The median of the movie revenue is bigger for the treatement group than for the control group (for n={1, 2})"
   ]
  },
  {
   "cell_type": "code",
   "execution_count": 71,
   "metadata": {},
   "outputs": [],
   "source": [
    "# Get subset with n = 1 \n",
    "after_hit_treat_1 = treat[treat.n == 1]\n",
    "after_hit_ctrl_1 = ctrl[ctrl.n == 1]\n",
    "\n",
    "# Get subset with n = 2\n",
    "after_hit_treat_2 = treat[treat.n == 2]\n",
    "after_hit_ctrl_2 = ctrl[ctrl.n == 2]"
   ]
  },
  {
   "cell_type": "code",
   "execution_count": 72,
   "metadata": {},
   "outputs": [
    {
     "data": {
      "text/plain": [
       "WilcoxonResult(statistic=2522651.0, pvalue=2.4945913295810143e-41)"
      ]
     },
     "metadata": {},
     "output_type": "display_data"
    }
   ],
   "source": [
    "# Perform one-sided Wilcoxon test for n=1\n",
    "display(scipy.stats.wilcoxon(after_hit_treat_1.revenue, after_hit_ctrl_1.revenue, alternative='greater'))"
   ]
  },
  {
   "cell_type": "code",
   "execution_count": 73,
   "metadata": {},
   "outputs": [
    {
     "data": {
      "text/plain": [
       "WilcoxonResult(statistic=2482183.5, pvalue=2.149710178680272e-36)"
      ]
     },
     "metadata": {},
     "output_type": "display_data"
    }
   ],
   "source": [
    "# Perform one-sided Wilcoxon test for n=2\n",
    "display(scipy.stats.wilcoxon(after_hit_treat_2.revenue, after_hit_ctrl_2.revenue, alternative='greater'))"
   ]
  },
  {
   "cell_type": "markdown",
   "metadata": {},
   "source": [
    "The two p-values of the Wilcoxon tests are well below 0.05 which means that we can reject the null hypothesis with statistical significance level .05. This implies that there is enough evidence in the data to conclude that there is a statistically significant difference (at 0.5 level) between the paired observations for the revenue value (of movies with n={1, 2})."
   ]
  },
  {
   "cell_type": "code",
   "execution_count": 74,
   "metadata": {},
   "outputs": [
    {
     "name": "stdout",
     "output_type": "stream",
     "text": [
      "The median revenue of movies in the treatment group was found to be significantly higher than that of the control group by $9882885.0 for n=1 and by $10911496.5 for n=2. This difference was determined to be statistically significant at the 0.05 level.\n"
     ]
    }
   ],
   "source": [
    "# Compute the median difference for n={1, 2}\n",
    "diff_n1 = after_hit_treat_1.revenue.median()-after_hit_ctrl_1.revenue.median()\n",
    "diff_n2 = after_hit_treat_2.revenue.median()-after_hit_ctrl_2.revenue.median()\n",
    "\n",
    "# Print the result statement\n",
    "print(f'The median revenue of movies in the treatment group was found to be significantly higher than that of the control group by ${diff_n1} for n=1 \\\n",
    "and by ${diff_n2} for n=2. This difference was determined to be statistically significant at the 0.05 level.')"
   ]
  },
  {
   "cell_type": "markdown",
   "metadata": {},
   "source": [
    "In conclusion, our analysis suggests that the movie revenue of actors after they played in their first big hit is higher than the movie revenue of actors that did not play in a big hit movie."
   ]
  },
  {
   "cell_type": "markdown",
   "metadata": {},
   "source": [
    "#### 4.2.2 IMDb average rating\n",
    "Let's move on and do the same analysis for the average IMDb rating."
   ]
  },
  {
   "cell_type": "markdown",
   "metadata": {},
   "source": [
    "Same as before, we will first get a sense of how this variable is distributed among the two groups. For this we plot the average IMDb rating of the first movie after the first big hit."
   ]
  },
  {
   "cell_type": "code",
   "execution_count": 75,
   "metadata": {},
   "outputs": [
    {
     "data": {
      "image/png": "[encoded data removed]",
      "text/plain": [
       "<Figure size 432x288 with 1 Axes>"
      ]
     },
     "metadata": {},
     "output_type": "display_data"
    }
   ],
   "source": [
    "# Plot the average rating for the movie that follows the first big hit in chronological order\n",
    "plt.title('Average rating of movie that follows the first big hit')\n",
    "sns.boxplot(x='big_hit_actor', y='averageRating', data=first_after_hit_ctrl, color='silver')\n",
    "sns.boxplot(x='big_hit_actor', y='averageRating', data=first_after_hit_treat, color='cornflowerblue')\n",
    "plt.grid(False)\n",
    "plt.show()"
   ]
  },
  {
   "cell_type": "markdown",
   "metadata": {},
   "source": [
    "From this plot we can see that the average rating variable seems to be pretty much normally distributed. So we will be using the mean standard deviations for the upcoming plot."
   ]
  },
  {
   "cell_type": "code",
   "execution_count": 76,
   "metadata": {},
   "outputs": [
    {
     "data": {
      "image/png": "[encoded data removed]",
      "text/plain": [
       "<Figure size 576x432 with 1 Axes>"
      ]
     },
     "metadata": {},
     "output_type": "display_data"
    }
   ],
   "source": [
    "# Compute the mean IMDb rating. Then keep only indexes for which we have enough actors\n",
    "to_plot_rating_treat = treat_grp.averageRating.mean()\n",
    "to_plot_rating_ctrl = ctrl_grp.averageRating.mean()\n",
    "\n",
    "# Do the same with the standard deviation\n",
    "std_rating_treat = treat_grp.averageRating.std()\n",
    "std_rating_ctrl = ctrl_grp.averageRating.std()\n",
    "\n",
    "# Plot the results\n",
    "plt.figure(figsize=(8,6))\n",
    "\n",
    "plt.fill_between(to_plot_rating_treat.index, to_plot_rating_treat-std_rating_treat, to_plot_rating_treat+std_rating_treat, alpha = 0.5, color = (0.67, 0.757, 1))\n",
    "plt.fill_between(to_plot_rating_ctrl.index, to_plot_rating_ctrl - std_rating_ctrl, to_plot_rating_ctrl + std_rating_ctrl, alpha = 0.5, color =  'lightgrey')\n",
    "plt.plot((to_plot_rating_ctrl - std_rating_ctrl), color='silver')\n",
    "plt.plot((to_plot_rating_ctrl + std_rating_ctrl), color='silver')\n",
    "\n",
    "plt.plot(to_plot_rating_treat, label = 'Treatement group', color='cornflowerblue')\n",
    "plt.plot(to_plot_rating_ctrl, label = 'Control group', color='grey')\n",
    "\n",
    "\n",
    "plt.axvline(x=0, color='r', label = 'First big hit', linestyle ='--')\n",
    "plt.title('Mean average rating per movies')\n",
    "plt.xlabel('Movies in chronological order')\n",
    "plt.ylabel('Mean average rating')\n",
    "plt.legend()\n",
    "plt.show()"
   ]
  },
  {
   "cell_type": "markdown",
   "metadata": {},
   "source": [
    "This graph shows the evolution of the mean of the average IMDb rating along the movies when arranged in chronological order. The uncertainty is represented using the standard devation. \n",
    "\n",
    "Similarly as with the revenue variable, we can see that the mean is approximately the same for the two groups before the big hit event. At the big hit movie, the treatment group (for which the movie was an actual big hit) IMDb rating mean rises (unsurprisingly) above the control group mean. After the big hit event, the mean of the control group returns to its previous value. This is in contrast with the control group mean which seems to decrease.\n",
    "\n",
    "However, the means of the two groups are always quite close to one another (the difference in average rating is less than 1) and the two group's standard deviation strongly overlap. For this reason we cannot conclude that there is any difference between the two groups. It would be interesting to have more data for the control group to know if the average rating tendency to drop actually continues or if it is only random data variation."
   ]
  },
  {
   "cell_type": "markdown",
   "metadata": {},
   "source": [
    "#### 4.2.3 Success\n",
    "Let's now continue our analysis by looking at the success value.\n",
    "\n",
    "Again, we will first get a sense of how this variable is distributed among the two groups. For this we plot the success value of the first movie after the first big hit."
   ]
  },
  {
   "cell_type": "code",
   "execution_count": 77,
   "metadata": {},
   "outputs": [
    {
     "data": {
      "image/png": "[encoded data removed]",
      "text/plain": [
       "<Figure size 432x288 with 1 Axes>"
      ]
     },
     "metadata": {},
     "output_type": "display_data"
    }
   ],
   "source": [
    "# Plot the average rating for the movie that follows the first big hit in chronological order\n",
    "plt.title('Success of movie that follows the first big hit')\n",
    "sns.boxplot(x='big_hit_actor', y='success', data=first_after_hit_ctrl, color='silver')\n",
    "sns.boxplot(x='big_hit_actor', y='success', data=first_after_hit_treat, color='cornflowerblue')\n",
    "# Plot in log scale to have better visibility \n",
    "plt.yscale('log')\n",
    "plt.grid(False)\n",
    "plt.show()"
   ]
  },
  {
   "cell_type": "markdown",
   "metadata": {},
   "source": [
    "As we can see from this plot the success value is not normally distributed and it contains many extreme outliers (note log scale of the y-axis). It also seems that the treatment group success value is more skewed than for the control group. So when plotting the revenue for each 'n' we will rather use the median instead of the mean and quantiles instead of standard deviation."
   ]
  },
  {
   "cell_type": "code",
   "execution_count": 78,
   "metadata": {},
   "outputs": [
    {
     "data": {
      "image/png": "[encoded data removed]",
      "text/plain": [
       "<Figure size 576x432 with 1 Axes>"
      ]
     },
     "metadata": {},
     "output_type": "display_data"
    }
   ],
   "source": [
    "# Compute the mean success value. Then keep only indexes for which we have enough actors\n",
    "to_plot_success_treat = treat_grp.success.median()[to_plot_indexes_treat]\n",
    "to_plot_success_ctrl = ctrl_grp.success.median()[to_plot_indexes_ctrl]\n",
    "\n",
    "# Compute the 25th and 75th quantile for the success value\n",
    "Q75_treat = treat_grp.success.quantile(q=0.75)\n",
    "Q25_treat = treat_grp.success.quantile(q=0.25)\n",
    "\n",
    "Q75_ctrl = ctrl_grp.success.quantile(q=0.75)\n",
    "Q25_ctrl = ctrl_grp.success.quantile(q=0.25)\n",
    "\n",
    "# Plot the results\n",
    "plt.figure(figsize=(8,6))\n",
    "plt.fill_between(to_plot_success_treat.index, Q25_treat, Q75_treat, alpha = 0.5, color = (0.67, 0.757, 1))\n",
    "plt.fill_between(to_plot_success_ctrl.index, Q25_ctrl, Q75_ctrl, alpha = 0.5, color =  'lightgrey')\n",
    "\n",
    "plt.plot(Q25_ctrl, color='silver')\n",
    "plt.plot(Q75_ctrl, color='silver')\n",
    "\n",
    "plt.plot(to_plot_success_treat, label = 'Treatement group', color='cornflowerblue')\n",
    "plt.plot(to_plot_success_ctrl, label = 'Control group', color='grey')\n",
    "\n",
    "\n",
    "plt.axvline(x=0, color='r', label = 'First big hit', linestyle ='--')\n",
    "plt.title('Mean success value per movies')\n",
    "plt.xlabel('Movies in chronological order')\n",
    "plt.ylabel('Mean average rating')\n",
    "plt.legend()\n",
    "plt.show()"
   ]
  },
  {
   "cell_type": "markdown",
   "metadata": {},
   "source": [
    "This graph shows the evolution of the median success value along the movies arranged in chronological order. The uncertainty is represented using quantiles (the 25th and the 75th). \n",
    "\n",
    "This graph is very similary to the one from the analysis of the revenue evolution. We can also notice that the median is approximately the same for the two groups before the big hit event. For the big hit movie, as expected, the treatment group median success value is much higher than the control group median. Similarily as for the revenue and the IMDb rating analysis we observe that, after this first big hit, the median does not fall back to its previous low value but sets, for the next couple of years, to a value that is a bit higher. \n",
    "\n",
    "However, the two median are close to one another even after the big hit event. Moreover there is a lot of variability in the two groups (especially in the treatment group) and their interquartile range overlaps. This prevents us from having a clear cut and being able to make a strong statement about a difference in the two groups relying only on this graph. We can however see that amoung the treatment group there is a much wider and variable dirstribution of the movie revenue (as seen in the previous plot with the numerous high-value outliers).\n",
    "\n",
    "We will now perform a statistiacl test for the revenue of the movies that comes directly after the first big hit (n=1 and n=2) to see if the difference between the two groups success median is significant. However, we will not use a t-test because as we have see our data is not normally distributed and the standard deviation seems to be quite different. We will be using a Wilcoxon signed-rank test instead. One of the reason that we selected this test is that our data is matched."
   ]
  },
  {
   "cell_type": "markdown",
   "metadata": {},
   "source": [
    "**Null Hypothesis(H0)**: There is no difference in the median of the movie success value between the two groups (for n={1, 2})\n",
    "\n",
    "**Alternative Hypothesis(H1)**:  The median of the movie success value is bigger for the treatement group than for the control group (for n={1, 2})"
   ]
  },
  {
   "cell_type": "code",
   "execution_count": 79,
   "metadata": {},
   "outputs": [
    {
     "data": {
      "text/plain": [
       "WilcoxonResult(statistic=2541043.0, pvalue=6.74624599838967e-44)"
      ]
     },
     "metadata": {},
     "output_type": "display_data"
    }
   ],
   "source": [
    "## Perform one-sided Wilcoxon test for n=1\n",
    "display(scipy.stats.wilcoxon(after_hit_treat_1.success, after_hit_ctrl_1.success, alternative='greater'))"
   ]
  },
  {
   "cell_type": "code",
   "execution_count": 80,
   "metadata": {},
   "outputs": [
    {
     "data": {
      "text/plain": [
       "WilcoxonResult(statistic=2482183.5, pvalue=2.149710178680272e-36)"
      ]
     },
     "metadata": {},
     "output_type": "display_data"
    }
   ],
   "source": [
    "# Perform one-sided Wilcoxon test for n=2\n",
    "display(scipy.stats.wilcoxon(after_hit_treat_2.revenue, after_hit_ctrl_2.revenue, alternative='greater'))"
   ]
  },
  {
   "cell_type": "markdown",
   "metadata": {},
   "source": [
    "The two p-values of the Wilcoxon tests are well below 0.05 which means that we can reject the null hypothesis with statistical significance level .05. This implies that there is enough evidence in the data to conclude that there is a statistically significant difference (at 0.5 level) between the paired observations for the success value (of movies with n={1, 2})."
   ]
  },
  {
   "cell_type": "code",
   "execution_count": 81,
   "metadata": {},
   "outputs": [
    {
     "name": "stdout",
     "output_type": "stream",
     "text": [
      "The median success value of movies in the treatment group was found to be significantly higher than that of the control group by 66886986.65 for n=1 and by 73837455.75 for n=2. This difference was determined to be statistically significant at the 0.05 level.\n"
     ]
    }
   ],
   "source": [
    "# Compute the median difference for n={1, 2}\n",
    "diff_n1 = after_hit_treat_1.success.median()-after_hit_ctrl_1.success.median()\n",
    "diff_n2 = after_hit_treat_2.success.median()-after_hit_ctrl_2.success.median()\n",
    "\n",
    "# Print the result statement\n",
    "print(f'The median success value of movies in the treatment group was found to be significantly higher than that of the control group by {diff_n1:.2f} \\\n",
    "for n=1 and by {diff_n2:.2f} for n=2. This difference was determined to be statistically significant at the 0.05 level.')"
   ]
  },
  {
   "cell_type": "markdown",
   "metadata": {},
   "source": [
    "In conclusion, our analysis suggests that the movie success value of actors after they played in their first big hit is higher than the movie success value of actors that did not play in a big hit movie."
   ]
  },
  {
   "cell_type": "markdown",
   "metadata": {},
   "source": [
    "Out of curiosity let's have a look at those actors who played in multiple outlier big hit movies (with respecto to success)."
   ]
  },
  {
   "cell_type": "code",
   "execution_count": 82,
   "metadata": {},
   "outputs": [
    {
     "data": {
      "text/plain": [
       "name_actor\n",
       "Seth Rogen           10\n",
       "Kevin James           9\n",
       "Christopher Lee       8\n",
       "Julie Walters         8\n",
       "Sacha Baron Cohen     8\n",
       "Ian McShane           8\n",
       "Hugo Weaving          8\n",
       "Bill Nighy            8\n",
       "Conrad Vernon         8\n",
       "Orlando Bloom         8\n",
       "Name: movieID, dtype: int64"
      ]
     },
     "execution_count": 82,
     "metadata": {},
     "output_type": "execute_result"
    }
   ],
   "source": [
    "# Merge Q75_treat_reset with plot_treat to associate the Q75 values with the actors and n values\n",
    "merged_data = pd.merge(plot_treat, Q75_treat, on=['n'], how='left', suffixes=('', '_q75'))\n",
    "\n",
    "# Create a mask for filtering\n",
    "mask = merged_data['success'] > merged_data['success_q75']\n",
    "\n",
    "# Use the mask to filter the original DataFrame\n",
    "filtered_data = merged_data[mask]\n",
    "\n",
    "# Print the names of the actors that have often played in an outlier big hit movie (with respect to success)\n",
    "filtered_data.groupby('name_actor').movieID.count().sort_values(ascending=False)[0:10]"
   ]
  },
  {
   "cell_type": "markdown",
   "metadata": {},
   "source": [
    "In the top of this list we find actors that play in general public blockbusters comedies (such as Kevin James and Seth Rogensuch). We also find actors that played in blockbuster series such as Harry Potter (Tom Felton) and Pirates of the Caribbean (Orlando Bloom)."
   ]
  },
  {
   "cell_type": "markdown",
   "metadata": {},
   "source": [
    "#### 4.2.3 Genres\n",
    "Now let's look at the genres of the different movies actors played in and how they change from one movie to another.\n",
    "\n",
    "We first have to convert the genre column from strings to bags of words. For this we first use the function we defined in helpers called parse_genres which safely parses the genres string and extracts genre names. We then use the Counter function from collections library to finally end up with bags of words."
   ]
  },
  {
   "cell_type": "code",
   "execution_count": 85,
   "metadata": {},
   "outputs": [
    {
     "name": "stdout",
     "output_type": "stream",
     "text": [
      "The number of movies that have no information on genre is: 1, this represents  0.02% of the movies. For those movies the genre was set to \"No genre\"\n"
     ]
    }
   ],
   "source": [
    "# Compute the number of movies that do not have any genre value to assess the amount of missing information\n",
    "nb_movies_no_genre = df_career_analysis[df_career_analysis['genres'] == '{}'].movieID.nunique()\n",
    "\n",
    "# Use the parse_genres function defined in helpers file to parse strings and extract genre names\n",
    "df_career_analysis['parsed_genres'] = df_career_analysis['genres'].apply(parse_genres)\n",
    "\n",
    "# For the gernes column, replace the list by a bag of words using the Counter function\n",
    "df_career_analysis['genres'] = df_career_analysis.parsed_genres.apply(lambda x: Counter(x))\n",
    "\n",
    "# Get rid of unwanted column\n",
    "df_career_analysis = df_career_analysis.drop(labels='parsed_genres', axis=1)\n",
    "\n",
    "# Print the number of movies lost\n",
    "print(f'The number of movies that have no information on genre is: {nb_movies_no_genre}, this represents \\\n",
    "{nb_movies_no_genre*100/df_career_analysis.movieID.nunique(): .2f}% of the movies. For those movies the genre was set to \"No genre\"')"
   ]
  },
  {
   "cell_type": "markdown",
   "metadata": {},
   "source": [
    "There is only one movie for which we do not have genre data. Since this represents only a small fraction of the movies we have, we can ignore this and carry on with our analysis."
   ]
  },
  {
   "cell_type": "markdown",
   "metadata": {},
   "source": [
    "Now we want to compare different genre bag of words. To do so we must define a similarity function to use. The different movies have different level of genre description; some are short bag of words (e.g. {Drama: 1}), some are medium-length bag of words (e.g. {Drama: 1, Romance: 1}), and some are longer bag of words (e.g. {Drama: 1, Horror: 1, War film: 1}). But all three previous bag of words should have the same similarity since they all have only one genre in common and nothing else. Following this reasoning we decided to compute the similarity by simply counting the number of words that are the same in the two bag of words that we are comparing, without penalizing their length. The function that takes care of this is called 'dotproduct_similarity' and can be found in the helpers file"
   ]
  },
  {
   "cell_type": "markdown",
   "metadata": {},
   "source": [
    "We still have to decide which pair of movies we will compare for our analysis. For each movie, we decided to compute the similarity with the two previous movies (in chronological order) and keep the mean value: similarity value for movie[n] = 0.5*(similarity(movie[n], movie[n-1]) + similarity(movie[n], movie[n-2])). "
   ]
  },
  {
   "cell_type": "code",
   "execution_count": 86,
   "metadata": {},
   "outputs": [],
   "source": [
    "# Group our dataframe by the names of the actors\n",
    "grp = df_career_analysis.groupby('name_actor')\n",
    "\n",
    "# Compute the similarity of the genres of each movie with the genres of the two movies that come before in chronological order\n",
    "df_career_analysis['similarity'] = grp.apply(lambda x: x.apply(\n",
    "    lambda row: similarity_two_prev_movie(x, row), axis=1)).reset_index(drop=True)\n",
    "df_career_analysis['similarity'] = df_career_analysis['similarity'].astype(float)"
   ]
  },
  {
   "cell_type": "markdown",
   "metadata": {},
   "source": [
    "Now that we have calculated the similarity values we can plot them. We will use boxplots to have a good representation of the variable distribution."
   ]
  },
  {
   "cell_type": "code",
   "execution_count": 96,
   "metadata": {},
   "outputs": [
    {
     "name": "stdout",
     "output_type": "stream",
     "text": [
      "0.11.2\n"
     ]
    }
   ],
   "source": [
    "print(sns.__version__)"
   ]
  },
  {
   "cell_type": "code",
   "execution_count": 90,
   "metadata": {},
   "outputs": [
    {
     "name": "stderr",
     "output_type": "stream",
     "text": [
      "/usr/local/lib/python3.9/site-packages/seaborn/_decorators.py:36: FutureWarning: Pass the following variable as a keyword arg: x. From version 0.12, the only valid positional argument will be `data`, and passing other arguments without an explicit keyword will result in an error or misinterpretation.\n",
      "  warnings.warn(\n"
     ]
    },
    {
     "ename": "ValueError",
     "evalue": "Could not interpret input 'similarity'",
     "output_type": "error",
     "traceback": [
      "\u001b[0;31m---------------------------------------------------------------------------\u001b[0m",
      "\u001b[0;31mValueError\u001b[0m                                Traceback (most recent call last)",
      "Input \u001b[0;32mIn [90]\u001b[0m, in \u001b[0;36m<cell line: 3>\u001b[0;34m()\u001b[0m\n\u001b[1;32m      1\u001b[0m \u001b[38;5;66;03m# Plot the boxplots for each representative n index\u001b[39;00m\n\u001b[1;32m      2\u001b[0m df_career_analysis_plot \u001b[38;5;241m=\u001b[39m df_career_analysis[df_career_analysis\u001b[38;5;241m.\u001b[39mn\u001b[38;5;241m.\u001b[39misin(to_plot_indexes_ctrl)]\n\u001b[0;32m----> 3\u001b[0m sns\u001b[38;5;241m.\u001b[39mboxplot(df_career_analysis_plot, x\u001b[38;5;241m=\u001b[39m\u001b[38;5;124m'\u001b[39m\u001b[38;5;124mn\u001b[39m\u001b[38;5;124m'\u001b[39m, y\u001b[38;5;241m=\u001b[39m\u001b[38;5;124m'\u001b[39m\u001b[38;5;124msimilarity\u001b[39m\u001b[38;5;124m'\u001b[39m, hue\u001b[38;5;241m=\u001b[39m\u001b[38;5;124m'\u001b[39m\u001b[38;5;124mbig_hit_actor\u001b[39m\u001b[38;5;124m'\u001b[39m)\n\u001b[1;32m      4\u001b[0m plt\u001b[38;5;241m.\u001b[39mtitle(\u001b[38;5;124m'\u001b[39m\u001b[38;5;124mMovie genres similarity with the two previous movies\u001b[39m\u001b[38;5;124m'\u001b[39m)\n\u001b[1;32m      5\u001b[0m plt\u001b[38;5;241m.\u001b[39mxlabel(\u001b[38;5;124m'\u001b[39m\u001b[38;5;124mMovies in chronological order centered on first big hit\u001b[39m\u001b[38;5;124m'\u001b[39m)\n",
      "File \u001b[0;32m/usr/local/lib/python3.9/site-packages/seaborn/_decorators.py:46\u001b[0m, in \u001b[0;36m_deprecate_positional_args.<locals>.inner_f\u001b[0;34m(*args, **kwargs)\u001b[0m\n\u001b[1;32m     36\u001b[0m     warnings\u001b[38;5;241m.\u001b[39mwarn(\n\u001b[1;32m     37\u001b[0m         \u001b[38;5;124m\"\u001b[39m\u001b[38;5;124mPass the following variable\u001b[39m\u001b[38;5;132;01m{}\u001b[39;00m\u001b[38;5;124m as \u001b[39m\u001b[38;5;132;01m{}\u001b[39;00m\u001b[38;5;124mkeyword arg\u001b[39m\u001b[38;5;132;01m{}\u001b[39;00m\u001b[38;5;124m: \u001b[39m\u001b[38;5;132;01m{}\u001b[39;00m\u001b[38;5;124m. \u001b[39m\u001b[38;5;124m\"\u001b[39m\n\u001b[1;32m     38\u001b[0m         \u001b[38;5;124m\"\u001b[39m\u001b[38;5;124mFrom version 0.12, the only valid positional argument \u001b[39m\u001b[38;5;124m\"\u001b[39m\n\u001b[0;32m   (...)\u001b[0m\n\u001b[1;32m     43\u001b[0m         \u001b[38;5;167;01mFutureWarning\u001b[39;00m\n\u001b[1;32m     44\u001b[0m     )\n\u001b[1;32m     45\u001b[0m kwargs\u001b[38;5;241m.\u001b[39mupdate({k: arg \u001b[38;5;28;01mfor\u001b[39;00m k, arg \u001b[38;5;129;01min\u001b[39;00m \u001b[38;5;28mzip\u001b[39m(sig\u001b[38;5;241m.\u001b[39mparameters, args)})\n\u001b[0;32m---> 46\u001b[0m \u001b[38;5;28;01mreturn\u001b[39;00m \u001b[43mf\u001b[49m\u001b[43m(\u001b[49m\u001b[38;5;241;43m*\u001b[39;49m\u001b[38;5;241;43m*\u001b[39;49m\u001b[43mkwargs\u001b[49m\u001b[43m)\u001b[49m\n",
      "File \u001b[0;32m/usr/local/lib/python3.9/site-packages/seaborn/categorical.py:2243\u001b[0m, in \u001b[0;36mboxplot\u001b[0;34m(x, y, hue, data, order, hue_order, orient, color, palette, saturation, width, dodge, fliersize, linewidth, whis, ax, **kwargs)\u001b[0m\n\u001b[1;32m   2231\u001b[0m \u001b[38;5;129m@_deprecate_positional_args\u001b[39m\n\u001b[1;32m   2232\u001b[0m \u001b[38;5;28;01mdef\u001b[39;00m \u001b[38;5;21mboxplot\u001b[39m(\n\u001b[1;32m   2233\u001b[0m     \u001b[38;5;241m*\u001b[39m,\n\u001b[0;32m   (...)\u001b[0m\n\u001b[1;32m   2240\u001b[0m     \u001b[38;5;241m*\u001b[39m\u001b[38;5;241m*\u001b[39mkwargs\n\u001b[1;32m   2241\u001b[0m ):\n\u001b[0;32m-> 2243\u001b[0m     plotter \u001b[38;5;241m=\u001b[39m \u001b[43m_BoxPlotter\u001b[49m\u001b[43m(\u001b[49m\u001b[43mx\u001b[49m\u001b[43m,\u001b[49m\u001b[43m \u001b[49m\u001b[43my\u001b[49m\u001b[43m,\u001b[49m\u001b[43m \u001b[49m\u001b[43mhue\u001b[49m\u001b[43m,\u001b[49m\u001b[43m \u001b[49m\u001b[43mdata\u001b[49m\u001b[43m,\u001b[49m\u001b[43m \u001b[49m\u001b[43morder\u001b[49m\u001b[43m,\u001b[49m\u001b[43m \u001b[49m\u001b[43mhue_order\u001b[49m\u001b[43m,\u001b[49m\n\u001b[1;32m   2244\u001b[0m \u001b[43m                          \u001b[49m\u001b[43morient\u001b[49m\u001b[43m,\u001b[49m\u001b[43m \u001b[49m\u001b[43mcolor\u001b[49m\u001b[43m,\u001b[49m\u001b[43m \u001b[49m\u001b[43mpalette\u001b[49m\u001b[43m,\u001b[49m\u001b[43m \u001b[49m\u001b[43msaturation\u001b[49m\u001b[43m,\u001b[49m\n\u001b[1;32m   2245\u001b[0m \u001b[43m                          \u001b[49m\u001b[43mwidth\u001b[49m\u001b[43m,\u001b[49m\u001b[43m \u001b[49m\u001b[43mdodge\u001b[49m\u001b[43m,\u001b[49m\u001b[43m \u001b[49m\u001b[43mfliersize\u001b[49m\u001b[43m,\u001b[49m\u001b[43m \u001b[49m\u001b[43mlinewidth\u001b[49m\u001b[43m)\u001b[49m\n\u001b[1;32m   2247\u001b[0m     \u001b[38;5;28;01mif\u001b[39;00m ax \u001b[38;5;129;01mis\u001b[39;00m \u001b[38;5;28;01mNone\u001b[39;00m:\n\u001b[1;32m   2248\u001b[0m         ax \u001b[38;5;241m=\u001b[39m plt\u001b[38;5;241m.\u001b[39mgca()\n",
      "File \u001b[0;32m/usr/local/lib/python3.9/site-packages/seaborn/categorical.py:406\u001b[0m, in \u001b[0;36m_BoxPlotter.__init__\u001b[0;34m(self, x, y, hue, data, order, hue_order, orient, color, palette, saturation, width, dodge, fliersize, linewidth)\u001b[0m\n\u001b[1;32m    402\u001b[0m \u001b[38;5;28;01mdef\u001b[39;00m \u001b[38;5;21m__init__\u001b[39m(\u001b[38;5;28mself\u001b[39m, x, y, hue, data, order, hue_order,\n\u001b[1;32m    403\u001b[0m              orient, color, palette, saturation,\n\u001b[1;32m    404\u001b[0m              width, dodge, fliersize, linewidth):\n\u001b[0;32m--> 406\u001b[0m     \u001b[38;5;28;43mself\u001b[39;49m\u001b[38;5;241;43m.\u001b[39;49m\u001b[43mestablish_variables\u001b[49m\u001b[43m(\u001b[49m\u001b[43mx\u001b[49m\u001b[43m,\u001b[49m\u001b[43m \u001b[49m\u001b[43my\u001b[49m\u001b[43m,\u001b[49m\u001b[43m \u001b[49m\u001b[43mhue\u001b[49m\u001b[43m,\u001b[49m\u001b[43m \u001b[49m\u001b[43mdata\u001b[49m\u001b[43m,\u001b[49m\u001b[43m \u001b[49m\u001b[43morient\u001b[49m\u001b[43m,\u001b[49m\u001b[43m \u001b[49m\u001b[43morder\u001b[49m\u001b[43m,\u001b[49m\u001b[43m \u001b[49m\u001b[43mhue_order\u001b[49m\u001b[43m)\u001b[49m\n\u001b[1;32m    407\u001b[0m     \u001b[38;5;28mself\u001b[39m\u001b[38;5;241m.\u001b[39mestablish_colors(color, palette, saturation)\n\u001b[1;32m    409\u001b[0m     \u001b[38;5;28mself\u001b[39m\u001b[38;5;241m.\u001b[39mdodge \u001b[38;5;241m=\u001b[39m dodge\n",
      "File \u001b[0;32m/usr/local/lib/python3.9/site-packages/seaborn/categorical.py:153\u001b[0m, in \u001b[0;36m_CategoricalPlotter.establish_variables\u001b[0;34m(self, x, y, hue, data, orient, order, hue_order, units)\u001b[0m\n\u001b[1;32m    151\u001b[0m     \u001b[38;5;28;01mif\u001b[39;00m \u001b[38;5;28misinstance\u001b[39m(var, \u001b[38;5;28mstr\u001b[39m):\n\u001b[1;32m    152\u001b[0m         err \u001b[38;5;241m=\u001b[39m \u001b[38;5;124m\"\u001b[39m\u001b[38;5;124mCould not interpret input \u001b[39m\u001b[38;5;124m'\u001b[39m\u001b[38;5;132;01m{}\u001b[39;00m\u001b[38;5;124m'\u001b[39m\u001b[38;5;124m\"\u001b[39m\u001b[38;5;241m.\u001b[39mformat(var)\n\u001b[0;32m--> 153\u001b[0m         \u001b[38;5;28;01mraise\u001b[39;00m \u001b[38;5;167;01mValueError\u001b[39;00m(err)\n\u001b[1;32m    155\u001b[0m \u001b[38;5;66;03m# Figure out the plotting orientation\u001b[39;00m\n\u001b[1;32m    156\u001b[0m orient \u001b[38;5;241m=\u001b[39m infer_orient(\n\u001b[1;32m    157\u001b[0m     x, y, orient, require_numeric\u001b[38;5;241m=\u001b[39m\u001b[38;5;28mself\u001b[39m\u001b[38;5;241m.\u001b[39mrequire_numeric\n\u001b[1;32m    158\u001b[0m )\n",
      "\u001b[0;31mValueError\u001b[0m: Could not interpret input 'similarity'"
     ]
    }
   ],
   "source": [
    "# Plot the boxplots for each representative n index\n",
    "df_career_analysis_plot = df_career_analysis[df_career_analysis.n.isin(to_plot_indexes_ctrl)]\n",
    "sns.boxplot(df_career_analysis_plot, x='n', y='similarity', hue='big_hit_actor')\n",
    "plt.title('Movie genres similarity with the two previous movies')\n",
    "plt.xlabel('Movies in chronological order centered on first big hit')\n",
    "plt.legend()\n",
    "plt.show()"
   ]
  },
  {
   "cell_type": "markdown",
   "metadata": {},
   "source": [
    "As we can clearly see from this graph there is no real difference between the treatment and control group for the similarity between genres of successive movies played by an actor. Furthermore, we cannot notice a strong difference between before and after the first big hit event."
   ]
  },
  {
   "cell_type": "markdown",
   "metadata": {},
   "source": [
    "#### 4.2.4 Role\n",
    "\n",
    "We will now focus on the data generated in the npl part of the notebook. We will first look at the role importance and its evolution before and after the big hit event. Then we will look at the evolution of the actor role compounds (active, passive, attribute) similarity of each n movie with the two previous movies."
   ]
  },
  {
   "cell_type": "markdown",
   "metadata": {},
   "source": [
    "#### Role importance\n",
    "As there as many NaNs for the role importance values we first have to filter out, for each n, the actors that are concerned by this lack of data. But we also have to remove (for the n of concern) their respective matched pair. \n",
    "\n",
    "In addition, as we did in previous analysis, we keep only the nth movies for which we have enough data (at least 1000 values)."
   ]
  },
  {
   "cell_type": "code",
   "execution_count": null,
   "metadata": {},
   "outputs": [
    {
     "data": {
      "text/plain": [
       "Index(['movieID', 'name_movie', 'releaseDate', 'genres', 'revenue', 'success',\n",
       "       'averageRating', 'is_movie_big_hit', 'name_actor', 'birth',\n",
       "       'big_hit_actor', 'role_importance', 'comp_active', 'comp_pasive',\n",
       "       'comp_attribut', 'matched_name', 'n', 'similarity'],\n",
       "      dtype='object')"
      ]
     },
     "metadata": {},
     "output_type": "display_data"
    }
   ],
   "source": [
    "df_career_analysis.columns"
   ]
  },
  {
   "cell_type": "code",
   "execution_count": null,
   "metadata": {},
   "outputs": [],
   "source": [
    "# Seperate the control and treatment group\n",
    "treat = df_career_analysis[df_career_analysis.big_hit_actor]\n",
    "ctrl = df_career_analysis[~df_career_analysis.big_hit_actor]\n",
    "\n",
    "# Group by variable n\n",
    "treat_grp = treat.groupby('n')\n",
    "ctrl_grp = ctrl.groupby('n')\n",
    "\n",
    "# Compute the index that have enough role_iportance values to be significant\n",
    "n_to_plot_treat = treat_grp.role_importance.count()[treat_grp.role_importance.count()>1000].index\n",
    "n_to_plot_ctrl = ctrl_grp.role_importance.count()[ctrl_grp.role_importance.count()>1000].index\n",
    "\n",
    "# Keep the same index for the control and the treatment group (which ever has less index so have both groups for each plotted n)\n",
    "if len(n_to_plot_treat) < len(n_to_plot_ctrl):\n",
    "    n_to_plot = n_to_plot_treat\n",
    "else: n_to_plot = n_to_plot_ctrl\n",
    "\n",
    "# Make a copy of the current dataframe and keep only relevant indexes\n",
    "df_with_role = df_career_analysis.copy()\n",
    "df_with_role = df_with_role[df_with_role.n.isin(n_to_plot)]\n",
    "\n",
    "# Remove for each n the actors and their matched pair for which we do not have information of role importance\n",
    "for i in n_to_plot:\n",
    "    df_i = df_career_analysis[df_career_analysis.n == i]\n",
    "    list_actor_no_data_ni = df_i[df_i.role_importance.isna()].name_actor.unique()\n",
    "    list_matched_no_data_ni = df_i[df_i.name_actor.isin(list_actor_no_data_ni)].matched_name.unique()\n",
    "    tot_list_no_data_ni = list_actor_no_data_ni+list_matched_no_data_ni\n",
    "    df_with_role = df_with_role[~((df_with_role.n==i) & (df_with_role.name_actor.isin(tot_list_no_data_ni)))]"
   ]
  },
  {
   "cell_type": "code",
   "execution_count": null,
   "metadata": {},
   "outputs": [
    {
     "data": {
      "image/png": "[encoded data removed]",
      "text/plain": [
       "<Figure size 640x480 with 1 Axes>"
      ]
     },
     "metadata": {},
     "output_type": "display_data"
    }
   ],
   "source": [
    "# Plot the boxplots for each representative n index\n",
    "sns.boxplot(df_with_role, x='n', y='role_importance', hue='big_hit_actor', fliersize=1)\n",
    "plt.title('Role importance per movie')\n",
    "plt.xlabel('Movies in chronological order centered on first big hit')\n",
    "plt.ylabel('Role importance')\n",
    "plt.legend(loc='upper right')\n",
    "plt.yscale('log')\n",
    "plt.show()"
   ]
  },
  {
   "cell_type": "markdown",
   "metadata": {},
   "source": [
    "From this graph we can see that most of the role importance values are equal to zero or very close to zero (note the y-axis log scale). This is because the movie summaries are quite short and lack precision. However, we can still see that in general the big hit actors seem to have a wider and more skewed distribution (toward high values) for the role importance. In addition, we see the distribution of the role importance for the control group is narrowing down to zero movie after movie. In conclusion, this graph tells us that for our dataset, more actors that are in the treatement group recieved important roles than actors in the control group."
   ]
  },
  {
   "cell_type": "markdown",
   "metadata": {},
   "source": [
    "#### Role compound similarity\n",
    "\n",
    "We will now look at the evolution of the role compound of the actors thoughout the movies they played in. Similarly as with the role importance we remove the NaN values by filtering out, for each n, the actors that are concerned by this lack of data and by also removing (for the n of concern) their respective matched pair.\n",
    "\n",
    "The role compound is a vector including all three types of compound ('comp_active', 'comp_pasive', 'comp_attribut') so we have to create a new column named 'comp' with this value. Then we computed the similarity variable 'similarity_comp' by using a cosine similarity function and computing, for each actor role, the similarity with the two previous roles the actor had."
   ]
  },
  {
   "cell_type": "code",
   "execution_count": null,
   "metadata": {},
   "outputs": [],
   "source": [
    "# Create new column with compound ('comp') variable\n",
    "df_career_analysis['comp'] = df_career_analysis.apply(lambda row: np.array([row['comp_active'], row['comp_pasive'], row['comp_attribut']]), axis=1)"
   ]
  },
  {
   "cell_type": "code",
   "execution_count": null,
   "metadata": {},
   "outputs": [],
   "source": [
    "# Seperate the control and treatment group\n",
    "treat = df_career_analysis[df_career_analysis.big_hit_actor]\n",
    "ctrl = df_career_analysis[~df_career_analysis.big_hit_actor]\n",
    "\n",
    "# Group by variable n\n",
    "treat_grp = treat.groupby('n')\n",
    "ctrl_grp = ctrl.groupby('n')\n",
    "\n",
    "# Compute the index that have enough compound values to be significant\n",
    "n_to_plot_treat = treat_grp.comp.count()[treat_grp.comp.count()>1000].index\n",
    "n_to_plot_ctrl = ctrl_grp.comp.count()[ctrl_grp.comp.count()>1000].index\n",
    "\n",
    "# Keep the same index for the control and the treatment group (which ever has less index so have both groups for each plotted n)\n",
    "if len(n_to_plot_treat) < len(n_to_plot_ctrl):\n",
    "    n_to_plot = n_to_plot_treat\n",
    "else: n_to_plot = n_to_plot_ctrl\n",
    "\n",
    "# Make a copy of the current dataframe and keep only relevant indexes\n",
    "df_with_comp = df_career_analysis.copy()\n",
    "df_with_comp = df_with_comp[df_with_comp.n.isin(n_to_plot)]\n",
    "\n",
    "# Remove for each n the actors and their matched pair for which we do not have information of compound values\n",
    "for i in n_to_plot:\n",
    "    df_i = df_career_analysis[df_career_analysis.n == i]\n",
    "    list_actor_no_data_ni = df_i[df_i.comp.isna()].name_actor.unique()\n",
    "    list_matched_no_data_ni = df_i[df_i.name_actor.isin(list_actor_no_data_ni)].matched_name.unique()\n",
    "    tot_list_no_data_ni = list_actor_no_data_ni+list_matched_no_data_ni\n",
    "    df_with_comp = df_with_comp[~((df_with_comp.n==i) & (df_with_comp.name_actor.isin(tot_list_no_data_ni)))]\n",
    "\n",
    "\n",
    "# Group our dataframe by the names of the actors\n",
    "grp = df_with_comp.groupby('name_actor')\n",
    "\n",
    "# Compute the similarity of the compound values of each movie with the compound values of the two movies that come before in chronological order\n",
    "df_with_comp['similarity_comp'] = grp.apply(lambda x: x.apply(\n",
    "     lambda row: similarity_two_prev_comp(x, row), axis=1)).reset_index(drop=True)"
   ]
  },
  {
   "cell_type": "code",
   "execution_count": null,
   "metadata": {},
   "outputs": [
    {
     "data": {
      "image/png": "[encoded data removed]",
      "text/plain": [
       "<Figure size 640x480 with 1 Axes>"
      ]
     },
     "metadata": {},
     "output_type": "display_data"
    }
   ],
   "source": [
    "# Plot the boxplots for each representative n index\n",
    "sns.boxplot(df_with_comp, x='n', y='similarity_comp', hue='big_hit_actor', fliersize=1)\n",
    "plt.title('Actor role compound similarity with the two previous movies')\n",
    "plt.xlabel('Movies in chronological order centered on first big hit')\n",
    "plt.ylabel('Actor role compound similarity')\n",
    "plt.legend(loc='upper right')\n",
    "#plt.yscale('log')\n",
    "plt.show()"
   ]
  },
  {
   "cell_type": "markdown",
   "metadata": {},
   "source": [
    "In this plot we look at the evolution of the role compound similarity through the movies ordered in chronological order. The problem is that the large majority of the compound values are equal to zero because most of the words in the summaries are neutral and because the movie summaries are quite short. This translates into compound similarities that have value zero. As we can see from this plot, all values that are not zero are considered to be outliers (because almost all other values are zero). For these reasons we cannot conclude anything from this plot."
   ]
  }
 ],
 "metadata": {
  "kernelspec": {
   "display_name": "Python 3 (ipykernel)",
   "language": "python",
   "name": "python3"
  },
  "language_info": {
   "codemirror_mode": {
    "name": "ipython",
    "version": 3
   },
   "file_extension": ".py",
   "mimetype": "text/x-python",
   "name": "python",
   "nbconvert_exporter": "python",
   "pygments_lexer": "ipython3",
   "version": "3.11.5"
  }
 },
 "nbformat": 4,
 "nbformat_minor": 4
}
