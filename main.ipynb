{
 "cells": [
  {
   "cell_type": "markdown",
   "id": "05eac20b",
   "metadata": {},
   "source": [
    "# Evolution of actors careers post-blockbuster in the film industry\n",
    "How does a significant box office success impact an actor's subsequent choices and overall career path ?\n",
    "\n",
    "##  Context\n",
    "\n",
    "Analyze career trajectories of actors following their roles in high-grossing films using the CMU Movie Dataset\n",
    "\n",
    "More specifically, explore the following research questions: \n",
    "- Does a high-grossing film consistently lead to **continued box office success** for its actors in their subsequent films?\n",
    "- Is there a noticeable **change in genre or type of characters** portrayed by actors after a significant hit?\n",
    "- What are the long-term career impacts on actors who have starred in blockbuster hits?"
   ]
  },
  {
   "cell_type": "code",
   "execution_count": 1,
   "id": "5de28eb0",
   "metadata": {},
   "outputs": [],
   "source": [
    "# External imports\n",
    "import pandas as pd\n",
    "import numpy as np\n",
    "import matplotlib.pyplot as plt\n",
    "import seaborn as sns"
   ]
  },
  {
   "cell_type": "markdown",
   "id": "4015c2e7",
   "metadata": {},
   "source": [
    "## 1) Loading data:"
   ]
  },
  {
   "cell_type": "code",
   "execution_count": 2,
   "id": "000ce76d",
   "metadata": {},
   "outputs": [],
   "source": [
    "# Load data\n",
    "DATA_FOLDER = './MovieSummaries'\n",
    "CHARACTER_DATASET = DATA_FOLDER + '/character.metadata.tsv'\n",
    "MOVIE_DATASET = DATA_FOLDER + '/movie.metadata.tsv'\n",
    "NAME_DATASET = DATA_FOLDER + '/name.clusters.txt'\n",
    "PLOT_DATASET = DATA_FOLDER + '/plot_summaries.txt'\n",
    "TVTROPES_DATASET = DATA_FOLDER + '/tvtropes.clusters.txt'\n",
    "\n",
    "characters_columns = ['wikiID', 'movieID', 'releaseDate', 'charactName', 'birth', 'gender', 'height', 'ethnicity',\n",
    "                      'name_actor', 'age', 'charActID', 'charID', 'actID']\n",
    "movies_columns = ['wikiID', 'movieID', 'name_movie', 'releaseDate', 'revenue', 'runtime', 'languages',\n",
    "                  'countries', 'genres']\n",
    "\n",
    "characters = pd.read_table(CHARACTER_DATASET, header=None, names=characters_columns)\n",
    "movies = pd.read_table(MOVIE_DATASET, header=None, names=movies_columns)\n"
   ]
  },
  {
   "cell_type": "code",
   "execution_count": 3,
   "id": "93af7b02",
   "metadata": {
    "scrolled": true
   },
   "outputs": [
    {
     "data": {
      "text/html": [
       "<div>\n",
       "<style scoped>\n",
       "    .dataframe tbody tr th:only-of-type {\n",
       "        vertical-align: middle;\n",
       "    }\n",
       "\n",
       "    .dataframe tbody tr th {\n",
       "        vertical-align: top;\n",
       "    }\n",
       "\n",
       "    .dataframe thead th {\n",
       "        text-align: right;\n",
       "    }\n",
       "</style>\n",
       "<table border=\"1\" class=\"dataframe\">\n",
       "  <thead>\n",
       "    <tr style=\"text-align: right;\">\n",
       "      <th></th>\n",
       "      <th>wikiID</th>\n",
       "      <th>movieID</th>\n",
       "      <th>releaseDate</th>\n",
       "      <th>charactName</th>\n",
       "      <th>birth</th>\n",
       "      <th>gender</th>\n",
       "      <th>height</th>\n",
       "      <th>ethnicity</th>\n",
       "      <th>name_actor</th>\n",
       "      <th>age</th>\n",
       "      <th>charActID</th>\n",
       "      <th>charID</th>\n",
       "      <th>actID</th>\n",
       "    </tr>\n",
       "  </thead>\n",
       "  <tbody>\n",
       "    <tr>\n",
       "      <th>0</th>\n",
       "      <td>975900</td>\n",
       "      <td>/m/03vyhn</td>\n",
       "      <td>2001-08-24</td>\n",
       "      <td>Akooshay</td>\n",
       "      <td>1958-08-26</td>\n",
       "      <td>F</td>\n",
       "      <td>1.620</td>\n",
       "      <td>NaN</td>\n",
       "      <td>Wanda De Jesus</td>\n",
       "      <td>42.0</td>\n",
       "      <td>/m/0bgchxw</td>\n",
       "      <td>/m/0bgcj3x</td>\n",
       "      <td>/m/03wcfv7</td>\n",
       "    </tr>\n",
       "    <tr>\n",
       "      <th>1</th>\n",
       "      <td>975900</td>\n",
       "      <td>/m/03vyhn</td>\n",
       "      <td>2001-08-24</td>\n",
       "      <td>Lieutenant Melanie Ballard</td>\n",
       "      <td>1974-08-15</td>\n",
       "      <td>F</td>\n",
       "      <td>1.780</td>\n",
       "      <td>/m/044038p</td>\n",
       "      <td>Natasha Henstridge</td>\n",
       "      <td>27.0</td>\n",
       "      <td>/m/0jys3m</td>\n",
       "      <td>/m/0bgchn4</td>\n",
       "      <td>/m/0346l4</td>\n",
       "    </tr>\n",
       "    <tr>\n",
       "      <th>2</th>\n",
       "      <td>975900</td>\n",
       "      <td>/m/03vyhn</td>\n",
       "      <td>2001-08-24</td>\n",
       "      <td>Desolation Williams</td>\n",
       "      <td>1969-06-15</td>\n",
       "      <td>M</td>\n",
       "      <td>1.727</td>\n",
       "      <td>/m/0x67</td>\n",
       "      <td>Ice Cube</td>\n",
       "      <td>32.0</td>\n",
       "      <td>/m/0jys3g</td>\n",
       "      <td>/m/0bgchn_</td>\n",
       "      <td>/m/01vw26l</td>\n",
       "    </tr>\n",
       "    <tr>\n",
       "      <th>3</th>\n",
       "      <td>975900</td>\n",
       "      <td>/m/03vyhn</td>\n",
       "      <td>2001-08-24</td>\n",
       "      <td>Sgt Jericho Butler</td>\n",
       "      <td>1967-09-12</td>\n",
       "      <td>M</td>\n",
       "      <td>1.750</td>\n",
       "      <td>NaN</td>\n",
       "      <td>Jason Statham</td>\n",
       "      <td>33.0</td>\n",
       "      <td>/m/02vchl6</td>\n",
       "      <td>/m/0bgchnq</td>\n",
       "      <td>/m/034hyc</td>\n",
       "    </tr>\n",
       "    <tr>\n",
       "      <th>4</th>\n",
       "      <td>975900</td>\n",
       "      <td>/m/03vyhn</td>\n",
       "      <td>2001-08-24</td>\n",
       "      <td>Bashira Kincaid</td>\n",
       "      <td>1977-09-25</td>\n",
       "      <td>F</td>\n",
       "      <td>1.650</td>\n",
       "      <td>NaN</td>\n",
       "      <td>Clea DuVall</td>\n",
       "      <td>23.0</td>\n",
       "      <td>/m/02vbb3r</td>\n",
       "      <td>/m/0bgchp9</td>\n",
       "      <td>/m/01y9xg</td>\n",
       "    </tr>\n",
       "  </tbody>\n",
       "</table>\n",
       "</div>"
      ],
      "text/plain": [
       "   wikiID    movieID releaseDate                 charactName       birth  \\\n",
       "0  975900  /m/03vyhn  2001-08-24                    Akooshay  1958-08-26   \n",
       "1  975900  /m/03vyhn  2001-08-24  Lieutenant Melanie Ballard  1974-08-15   \n",
       "2  975900  /m/03vyhn  2001-08-24         Desolation Williams  1969-06-15   \n",
       "3  975900  /m/03vyhn  2001-08-24          Sgt Jericho Butler  1967-09-12   \n",
       "4  975900  /m/03vyhn  2001-08-24             Bashira Kincaid  1977-09-25   \n",
       "\n",
       "  gender  height   ethnicity          name_actor   age   charActID  \\\n",
       "0      F   1.620         NaN      Wanda De Jesus  42.0  /m/0bgchxw   \n",
       "1      F   1.780  /m/044038p  Natasha Henstridge  27.0   /m/0jys3m   \n",
       "2      M   1.727     /m/0x67            Ice Cube  32.0   /m/0jys3g   \n",
       "3      M   1.750         NaN       Jason Statham  33.0  /m/02vchl6   \n",
       "4      F   1.650         NaN         Clea DuVall  23.0  /m/02vbb3r   \n",
       "\n",
       "       charID       actID  \n",
       "0  /m/0bgcj3x  /m/03wcfv7  \n",
       "1  /m/0bgchn4   /m/0346l4  \n",
       "2  /m/0bgchn_  /m/01vw26l  \n",
       "3  /m/0bgchnq   /m/034hyc  \n",
       "4  /m/0bgchp9   /m/01y9xg  "
      ]
     },
     "execution_count": 3,
     "metadata": {},
     "output_type": "execute_result"
    }
   ],
   "source": [
    "# Visualize characters data table\n",
    "characters.head()"
   ]
  },
  {
   "cell_type": "code",
   "execution_count": 4,
   "id": "3e48c693",
   "metadata": {
    "scrolled": true
   },
   "outputs": [
    {
     "data": {
      "text/html": [
       "<div>\n",
       "<style scoped>\n",
       "    .dataframe tbody tr th:only-of-type {\n",
       "        vertical-align: middle;\n",
       "    }\n",
       "\n",
       "    .dataframe tbody tr th {\n",
       "        vertical-align: top;\n",
       "    }\n",
       "\n",
       "    .dataframe thead th {\n",
       "        text-align: right;\n",
       "    }\n",
       "</style>\n",
       "<table border=\"1\" class=\"dataframe\">\n",
       "  <thead>\n",
       "    <tr style=\"text-align: right;\">\n",
       "      <th></th>\n",
       "      <th>wikiID</th>\n",
       "      <th>movieID</th>\n",
       "      <th>name_movie</th>\n",
       "      <th>releaseDate</th>\n",
       "      <th>revenue</th>\n",
       "      <th>runtime</th>\n",
       "      <th>languages</th>\n",
       "      <th>countries</th>\n",
       "      <th>genres</th>\n",
       "    </tr>\n",
       "  </thead>\n",
       "  <tbody>\n",
       "    <tr>\n",
       "      <th>0</th>\n",
       "      <td>975900</td>\n",
       "      <td>/m/03vyhn</td>\n",
       "      <td>Ghosts of Mars</td>\n",
       "      <td>2001-08-24</td>\n",
       "      <td>14010832.0</td>\n",
       "      <td>98.0</td>\n",
       "      <td>{\"/m/02h40lc\": \"English Language\"}</td>\n",
       "      <td>{\"/m/09c7w0\": \"United States of America\"}</td>\n",
       "      <td>{\"/m/01jfsb\": \"Thriller\", \"/m/06n90\": \"Science...</td>\n",
       "    </tr>\n",
       "    <tr>\n",
       "      <th>1</th>\n",
       "      <td>3196793</td>\n",
       "      <td>/m/08yl5d</td>\n",
       "      <td>Getting Away with Murder: The JonBenét Ramsey ...</td>\n",
       "      <td>2000-02-16</td>\n",
       "      <td>NaN</td>\n",
       "      <td>95.0</td>\n",
       "      <td>{\"/m/02h40lc\": \"English Language\"}</td>\n",
       "      <td>{\"/m/09c7w0\": \"United States of America\"}</td>\n",
       "      <td>{\"/m/02n4kr\": \"Mystery\", \"/m/03bxz7\": \"Biograp...</td>\n",
       "    </tr>\n",
       "    <tr>\n",
       "      <th>2</th>\n",
       "      <td>28463795</td>\n",
       "      <td>/m/0crgdbh</td>\n",
       "      <td>Brun bitter</td>\n",
       "      <td>1988</td>\n",
       "      <td>NaN</td>\n",
       "      <td>83.0</td>\n",
       "      <td>{\"/m/05f_3\": \"Norwegian Language\"}</td>\n",
       "      <td>{\"/m/05b4w\": \"Norway\"}</td>\n",
       "      <td>{\"/m/0lsxr\": \"Crime Fiction\", \"/m/07s9rl0\": \"D...</td>\n",
       "    </tr>\n",
       "    <tr>\n",
       "      <th>3</th>\n",
       "      <td>9363483</td>\n",
       "      <td>/m/0285_cd</td>\n",
       "      <td>White Of The Eye</td>\n",
       "      <td>1987</td>\n",
       "      <td>NaN</td>\n",
       "      <td>110.0</td>\n",
       "      <td>{\"/m/02h40lc\": \"English Language\"}</td>\n",
       "      <td>{\"/m/07ssc\": \"United Kingdom\"}</td>\n",
       "      <td>{\"/m/01jfsb\": \"Thriller\", \"/m/0glj9q\": \"Erotic...</td>\n",
       "    </tr>\n",
       "    <tr>\n",
       "      <th>4</th>\n",
       "      <td>261236</td>\n",
       "      <td>/m/01mrr1</td>\n",
       "      <td>A Woman in Flames</td>\n",
       "      <td>1983</td>\n",
       "      <td>NaN</td>\n",
       "      <td>106.0</td>\n",
       "      <td>{\"/m/04306rv\": \"German Language\"}</td>\n",
       "      <td>{\"/m/0345h\": \"Germany\"}</td>\n",
       "      <td>{\"/m/07s9rl0\": \"Drama\"}</td>\n",
       "    </tr>\n",
       "  </tbody>\n",
       "</table>\n",
       "</div>"
      ],
      "text/plain": [
       "     wikiID     movieID                                         name_movie  \\\n",
       "0    975900   /m/03vyhn                                     Ghosts of Mars   \n",
       "1   3196793   /m/08yl5d  Getting Away with Murder: The JonBenét Ramsey ...   \n",
       "2  28463795  /m/0crgdbh                                        Brun bitter   \n",
       "3   9363483  /m/0285_cd                                   White Of The Eye   \n",
       "4    261236   /m/01mrr1                                  A Woman in Flames   \n",
       "\n",
       "  releaseDate     revenue  runtime                           languages  \\\n",
       "0  2001-08-24  14010832.0     98.0  {\"/m/02h40lc\": \"English Language\"}   \n",
       "1  2000-02-16         NaN     95.0  {\"/m/02h40lc\": \"English Language\"}   \n",
       "2        1988         NaN     83.0  {\"/m/05f_3\": \"Norwegian Language\"}   \n",
       "3        1987         NaN    110.0  {\"/m/02h40lc\": \"English Language\"}   \n",
       "4        1983         NaN    106.0   {\"/m/04306rv\": \"German Language\"}   \n",
       "\n",
       "                                   countries  \\\n",
       "0  {\"/m/09c7w0\": \"United States of America\"}   \n",
       "1  {\"/m/09c7w0\": \"United States of America\"}   \n",
       "2                     {\"/m/05b4w\": \"Norway\"}   \n",
       "3             {\"/m/07ssc\": \"United Kingdom\"}   \n",
       "4                    {\"/m/0345h\": \"Germany\"}   \n",
       "\n",
       "                                              genres  \n",
       "0  {\"/m/01jfsb\": \"Thriller\", \"/m/06n90\": \"Science...  \n",
       "1  {\"/m/02n4kr\": \"Mystery\", \"/m/03bxz7\": \"Biograp...  \n",
       "2  {\"/m/0lsxr\": \"Crime Fiction\", \"/m/07s9rl0\": \"D...  \n",
       "3  {\"/m/01jfsb\": \"Thriller\", \"/m/0glj9q\": \"Erotic...  \n",
       "4                            {\"/m/07s9rl0\": \"Drama\"}  "
      ]
     },
     "execution_count": 4,
     "metadata": {},
     "output_type": "execute_result"
    }
   ],
   "source": [
    "# Visualize movies data table\n",
    "movies.head()"
   ]
  },
  {
   "cell_type": "markdown",
   "id": "8a658291",
   "metadata": {},
   "source": [
    "## 2) Useful data for our problematics\n",
    "\n",
    "From this dataset, we first look at the **amount of information** available for each feature. This will help us determine the feasability of our project and guide us for the selection of a relevant subset of data to work on.\n",
    "\n",
    "With such a large database, it is complex to find a model that both describes the career of an English celebrity in the 40's and that of an actor in Japan in the 2000's. Cultural and economic differences also make it difficult to find a common metric for success. Therefore, we would like to limit ourselves to a consistent and comprehensible subset of the data.\n",
    "\n",
    "#### Relevant features\n",
    "First of all, we need to select the features we are interested in in the database. We decided to define the success of an actor depending on the number of movies they played and their corresponding box office revenue. It might also be relevant to have an understanding of the time line for the description of the career of an actor. In addition we would like to have information about the actor such as age, gender and ethnicity to mitigate a possible bias comming from a diffence in population distribution in our analysis. \n",
    "\n",
    "Thus the features we want to check are:\n",
    "* Actor name\n",
    "* Actor date of birth or age at the time of the movie\n",
    "* Actor gender\n",
    "* Actor ethnicity\n",
    "* Movie box office revenue\n",
    "* Movie release date"
   ]
  },
  {
   "cell_type": "code",
   "execution_count": 5,
   "id": "23f4c28f",
   "metadata": {},
   "outputs": [],
   "source": [
    "# Make deep copies to make sure not to change original data\n",
    "characters_copy = characters.copy()\n",
    "movies_copy = movies.copy()"
   ]
  },
  {
   "cell_type": "markdown",
   "id": "30c2654c",
   "metadata": {},
   "source": [
    "We want to populate the characters data set with information on the movie in which characters appear. For this we perfom a left merge on characters_copy with movies_copy"
   ]
  },
  {
   "cell_type": "code",
   "execution_count": 6,
   "id": "e6a5e152",
   "metadata": {},
   "outputs": [],
   "source": [
    "# Populate the character dataset with infromations about the movies\n",
    "character_movies = pd.merge(characters_copy, movies_copy, on=['wikiID', 'movieID', 'releaseDate'] , how='left')"
   ]
  },
  {
   "cell_type": "markdown",
   "id": "83dd70e4",
   "metadata": {},
   "source": [
    "Let's look at the amount of data on movie revenue and movie date that is missing (remember that a movie can appear multiple times - we can have data about two different actors that appeared in the same movie)"
   ]
  },
  {
   "cell_type": "code",
   "execution_count": 7,
   "id": "deac4cbb",
   "metadata": {},
   "outputs": [
    {
     "name": "stdout",
     "output_type": "stream",
     "text": [
      "The total number of movies we have is: 64330\n",
      "The percentage of movies for which we have the revenue: 12.78%\n",
      "The percentage of movies for which we have the release date: 94.23753%\n"
     ]
    }
   ],
   "source": [
    "# Compute the total number of movies\n",
    "nb_movies = len(character_movies['movieID'].unique())\n",
    "\n",
    "# Compute the number of movies for which we have \"box office revenue\"\n",
    "character_movies_revenue = character_movies[['movieID', 'revenue']]\n",
    "character_movies_revenue = character_movies_revenue.dropna()\n",
    "nb_movies_revenue = len(character_movies_revenue['movieID'].unique())\n",
    "\n",
    "# Compute the number of movies for which we have \"release date\"\n",
    "character_movies_date = character_movies[['movieID', 'releaseDate']]\n",
    "character_movies_date = character_movies_date.dropna()\n",
    "nb_movies_date = len(character_movies_date['movieID'].unique())\n",
    "\n",
    "# Print the results\n",
    "print(f\"The total number of movies we have is: {nb_movies}\")\n",
    "print(f\"The percentage of movies for which we have the revenue: {nb_movies_revenue/nb_movies*100 :.2f}%\")\n",
    "print(f\"The percentage of movies for which we have the release date: {nb_movies_date/nb_movies*100 :.5f}%\")"
   ]
  },
  {
   "cell_type": "markdown",
   "id": "28c1655c",
   "metadata": {},
   "source": [
    "As we can see most movies have a release date but only about 13% have information about the box office revenue. Let's look at this percentage per year (with a temporal axis)."
   ]
  },
  {
   "cell_type": "code",
   "execution_count": 8,
   "id": "4182145c",
   "metadata": {},
   "outputs": [],
   "source": [
    "from helpers import complete_date\n",
    "\n",
    "# Make deep copy and keep only the movies for which we have the release date\n",
    "character_movies_filtered = character_movies.copy()\n",
    "character_movies_filtered = character_movies_filtered.dropna(subset=['releaseDate'])\n",
    "\n",
    "# Apply complete_date function to all release dates\n",
    "character_movies_filtered['releaseDate'] = character_movies_filtered['releaseDate'].apply(complete_date)\n",
    "\n",
    "# Convert to datetime format\n",
    "character_movies_filtered['releaseDate'] = pd.to_datetime(character_movies_filtered['releaseDate'], errors='coerce')"
   ]
  },
  {
   "cell_type": "code",
   "execution_count": 9,
   "id": "3e0e4b7c",
   "metadata": {
    "scrolled": false
   },
   "outputs": [
    {
     "data": {
      "image/png": "[encoded data removed]",
      "text/plain": [
       "<Figure size 720x432 with 1 Axes>"
      ]
     },
     "metadata": {
      "needs_background": "light"
     },
     "output_type": "display_data"
    }
   ],
   "source": [
    "# Add a column with the year of the release date\n",
    "character_movies_filtered['year'] = character_movies_filtered['releaseDate'].dt.year\n",
    "\n",
    "# Count the number of movies per 10 years interval\n",
    "# For the total number of movies\n",
    "intervals = pd.cut(character_movies_filtered['year'], bins=range(1880, 2016, 10), right=False)\n",
    "nb_movies_per_interval = intervals.value_counts().sort_index()\n",
    "\n",
    "# For movies with the revenue\n",
    "character_movies_filtered_revenue = character_movies_filtered.dropna(subset=['revenue'])\n",
    "intervals_revenue = pd.cut(character_movies_filtered_revenue['year'], bins=range(1880, 2016, 10), right=False)\n",
    "nb_movies_per_interval_revenue = intervals_revenue.value_counts().sort_index()\n",
    "\n",
    "plt.figure(figsize=(10, 6))\n",
    "\n",
    "# Plot bar plot of number of movies per year\n",
    "tot_bar=plt.bar([f'{b.left}-{b.right-1}' for b in nb_movies_per_interval.index], \n",
    "                nb_movies_per_interval.values, label='Total number of movies')\n",
    "revenue_bar=plt.bar([f'{b.left}-{b.right-1}' for b in nb_movies_per_interval_revenue.index],\n",
    "                    nb_movies_per_interval_revenue.values, label='Number of movies with revenue')\n",
    "\n",
    "plt.title('Number of movies over decades')\n",
    "plt.xlabel('Year')\n",
    "plt.ylabel('Number of movies')\n",
    "plt.tick_params(axis='x', rotation=45)\n",
    "plt.legend()\n",
    "\n",
    "# Add the percentage on top of each bar\n",
    "for i, tot_bar in enumerate(tot_bar):\n",
    "    height_tot_bar = tot_bar.get_height()\n",
    "    height_revenue_bar = revenue_bar[i].get_height()\n",
    "    percent = height_revenue_bar/height_tot_bar *100\n",
    "    plt.text(tot_bar.get_x() + tot_bar.get_width() / 2, height_tot_bar + 5, \n",
    "             f'{percent:.2f}%', ha='center', va='bottom')\n",
    "\n",
    "# Show graph\n",
    "plt.show()"
   ]
  },
  {
   "cell_type": "markdown",
   "id": "db4f89d0",
   "metadata": {},
   "source": [
    "From this graph we can see that the percentage of revenue data increases through the year. It might thus be more relevant to perform our analysis on a subset of the years for which the revenue information is more present. We could for example only take movies starting from 1950."
   ]
  },
  {
   "cell_type": "code",
   "execution_count": 10,
   "id": "cfc8ffa3",
   "metadata": {},
   "outputs": [
    {
     "name": "stdout",
     "output_type": "stream",
     "text": [
      "The percentage of movies for which we have the revenue after 1950: 15.99%\n"
     ]
    }
   ],
   "source": [
    "# Remove all movies that where released before 1950\n",
    "character_movies_filtered = character_movies_filtered[character_movies_filtered.year >= 1950]\n",
    "\n",
    "# Look at the percentage of revenue data in this subset:\n",
    "# Compute the total number of movies\n",
    "nb_movies_selec = len(character_movies_filtered['movieID'].unique())\n",
    "\n",
    "# Compute the number of movies for which we box office revenue\n",
    "character_movies_filtered_revenue_selec = character_movies_filtered[['movieID', 'revenue']]\n",
    "character_movies_filtered_revenue_selec = character_movies_filtered_revenue_selec.dropna()\n",
    "nb_movies_selec_revenue = len(character_movies_filtered_revenue_selec['movieID'].unique())\n",
    "\n",
    "print(f\"The percentage of movies for which we have the revenue after 1950: {nb_movies_selec_revenue/nb_movies_selec*100 :.2f}%\")"
   ]
  },
  {
   "cell_type": "markdown",
   "id": "fe0c4404",
   "metadata": {},
   "source": [
    "Let's have a look at the amount of revenue data we have per country"
   ]
  },
  {
   "cell_type": "code",
   "execution_count": 11,
   "id": "78152129",
   "metadata": {},
   "outputs": [],
   "source": [
    "from helpers import sort_words, create_words_database\n",
    "# Make deep copy for the country analysis\n",
    "df_country = character_movies_filtered.copy()\n",
    "\n",
    "# Change countries into a list of String\n",
    "df_country['countries'] = df_country['countries'].str.extract(r'\\\"([\\w\\s]+)\\\"')\n",
    "df_country['countries'] = df_country['countries'].apply(lambda x: [x] if pd.notna(x) else ['Unknown'])\n",
    "\n",
    "# Count the number of movies per country\n",
    "countries_list = df_country['countries'].tolist()\n",
    "# Flaten the list of countries and sort the resulting list\n",
    "stored_countries = sort_words(countries_list)\n",
    "# Count the number of repetition per country\n",
    "nb_movies_per_country = create_words_database(stored_countries)\n",
    "# Sort by ascending order of movies made per country\n",
    "nb_movies_per_country = dict(sorted(nb_movies_per_country.items(), key=lambda item: item[1]))\n",
    "# Remove countries that shot less than 200 movies\n",
    "nb_movies_per_country = {country: nb for country, nb in nb_movies_per_country.items() if nb >= 200}\n",
    "\n",
    "\n",
    "# Count the number of movies with known revenue per country\n",
    "countries_list = df_country.dropna(subset=['revenue'])['countries'].tolist()\n",
    "# Flaten the list of countries and sort the resulting list\n",
    "stored_countries = sort_words(countries_list)\n",
    "# Count the number of repetition per country\n",
    "nb_movies_per_country_revenue = create_words_database(stored_countries)\n",
    "# Sort by ascending order of movies made per country\n",
    "nb_movies_per_country_revenue = dict(sorted(nb_movies_per_country_revenue.items(), key=lambda item: item[1]))\n",
    "\n",
    "\n",
    "# Keep countries with more than 200 movies and add to nb_movies_per_country_revenue countries without revenue data (set their number of movies to zero)\n",
    "country_200_movie = list(nb_movies_per_country.keys())\n",
    "nb_movies_per_country_revenue = {country: nb for country, nb in nb_movies_per_country_revenue.items() if country in country_200_movie}\n",
    "nb_movies_per_country_revenue.update({country: 0 for country in country_200_movie if country not in nb_movies_per_country_revenue})\n",
    "nb_movies_per_country_revenue = {country: nb_movies_per_country_revenue[country] for country in nb_movies_per_country}\n"
   ]
  },
  {
   "cell_type": "code",
   "execution_count": 12,
   "id": "4bf9cba6",
   "metadata": {},
   "outputs": [
    {
     "data": {
      "image/png": "[encoded data removed]",
      "text/plain": [
       "<Figure size 864x432 with 1 Axes>"
      ]
     },
     "metadata": {
      "needs_background": "light"
     },
     "output_type": "display_data"
    }
   ],
   "source": [
    "# Extract the names of the countries and the value from each dictionary\n",
    "country_names = list(nb_movies_per_country.keys())\n",
    "nb_movies_tot = list(nb_movies_per_country.values())\n",
    "nb_movies_revenue = list(nb_movies_per_country_revenue.values())\n",
    "\n",
    "# Make a list of indices for the position of the bars\n",
    "indices = range(len(country_names))\n",
    "\n",
    "# Plot histogram\n",
    "plt.figure(figsize=(12, 6))\n",
    "bars_tot = plt.bar(indices, nb_movies_tot, label='Total number of movies')\n",
    "bars_revenue = plt.bar(indices, nb_movies_revenue, label='Number of movies with revenue')\n",
    "\n",
    "# Add label and title\n",
    "plt.xlabel('Country')\n",
    "plt.ylabel('Number of movies')\n",
    "plt.title('Number of movies per country')\n",
    "plt.xticks(indices, country_names, rotation=90)\n",
    "\n",
    "# Add the percentage on top of each bar\n",
    "for i, bars_tot in enumerate(bars_tot):\n",
    "    height_bars_tot = bars_tot.get_height()\n",
    "    height_bars_revenue = bars_revenue[i].get_height()\n",
    "    percent = height_bars_revenue/height_bars_tot *100\n",
    "    plt.text(bars_tot.get_x() + bars_tot.get_width() / 2, height_bars_tot + 5,\n",
    "             f'{percent:.0f}%', ha='center', va='bottom', size=7)\n",
    "\n",
    "\n",
    "# Show legend and histogram\n",
    "plt.legend()\n",
    "plt.tight_layout()\n",
    "plt.show()\n"
   ]
  },
  {
   "cell_type": "markdown",
   "id": "c918aca0",
   "metadata": {},
   "source": [
    "From this plot we can see that the majority of the movies in our dataset come from the U.S. and they also have a high percentage of revenue information. From this we decided to keep only movies that were made in the U.S."
   ]
  },
  {
   "cell_type": "code",
   "execution_count": 13,
   "id": "97842d52",
   "metadata": {},
   "outputs": [
    {
     "name": "stdout",
     "output_type": "stream",
     "text": [
      "The remaining number of movies after the filtration is: 6520.\n"
     ]
    }
   ],
   "source": [
    "# Keep only movies that where made in the U.S.\n",
    "character_movies_filtered = character_movies_filtered[\n",
    "    character_movies_filtered.countries.apply(lambda x:\"United States of America\" in x)]\n",
    "\n",
    "# Keep only movies for which we have the revenue\n",
    "character_movies_filtered = character_movies_filtered.dropna(subset=['revenue'])\n",
    "\n",
    "# Compute the number of movies left\n",
    "nb_tot_filtered_movies = len(character_movies_filtered['movieID'].unique())\n",
    "\n",
    "print(f'The remaining number of movies after the filtration is: {nb_tot_filtered_movies}.')"
   ]
  },
  {
   "cell_type": "markdown",
   "id": "6cfa1277",
   "metadata": {},
   "source": [
    "Now that we have filtered our data to have only U.S. movies which where released after and including the year 1950 and that have the revenue data we will look at the data we have on the actors."
   ]
  },
  {
   "cell_type": "code",
   "execution_count": 14,
   "id": "cd76c4c9",
   "metadata": {},
   "outputs": [
    {
     "name": "stdout",
     "output_type": "stream",
     "text": [
      "The total number of actors we have is: 29674\n",
      "The percentage of actors for which we have the name is: 99.99663\n",
      "The percentage of actors for which we have the birth date is: 63.55\n",
      "The percentage of actors for which we have the age is: 61.42\n",
      "The percentage of actors for which we have the gender is: 84.89\n",
      "The percentage of actors for which we have the ethnicity is: 14.77\n"
     ]
    }
   ],
   "source": [
    "# Compute the total number of characters and actors\n",
    "nb_actors = len(character_movies_filtered['name_actor'].unique())\n",
    "\n",
    "# Compute the number of actors for which we have the name\n",
    "character_movies_name = character_movies_filtered[['name_actor']]\n",
    "character_movies_name = character_movies_name.dropna()\n",
    "nb_actors_name = len(character_movies_name['name_actor'].unique())\n",
    "\n",
    "# Compute the number of actors for which we have the date of birth\n",
    "character_movies_birth = character_movies_filtered[['birth', 'name_actor']]\n",
    "character_movies_birth = character_movies_birth.dropna()\n",
    "nb_actors_birth = len(character_movies_birth['name_actor'].unique())\n",
    "\n",
    "# Computer the number of actors for which we have the age (positive number)\n",
    "character_movies_age = character_movies_filtered[['age', 'name_actor']]\n",
    "character_movies_age = character_movies_age.dropna()\n",
    "character_movies_age = character_movies_age[character_movies_age.age>=0]\n",
    "nb_actors_age = len(character_movies_age['name_actor'].unique())\n",
    "\n",
    "# Compute the number of actors for which we have the gender\n",
    "character_movies_gender = character_movies_filtered[['gender', 'name_actor']]\n",
    "character_movies_gender = character_movies_gender.dropna()\n",
    "nb_actors_gender = len(character_movies_gender['name_actor'].unique())\n",
    "\n",
    "\n",
    "# Compute the number of actors for which we have the ethnicity\n",
    "character_movies_ethnicity = character_movies_filtered[['ethnicity', 'name_actor']]\n",
    "character_movies_ethnicity = character_movies_ethnicity.dropna()\n",
    "nb_actors_ethnicity = len(character_movies_ethnicity['name_actor'].unique())\n",
    "\n",
    "# Print the results\n",
    "print(f\"The total number of actors we have is: {nb_actors}\")\n",
    "print(f\"The percentage of actors for which we have the name is: {nb_actors_name/nb_actors*100 :.5f}\")\n",
    "print(f\"The percentage of actors for which we have the birth date is: {nb_actors_birth/nb_actors*100 :.2f}\")\n",
    "print(f\"The percentage of actors for which we have the age is: {nb_actors_age/nb_actors*100 :.2f}\")\n",
    "print(f\"The percentage of actors for which we have the gender is: {nb_actors_gender/nb_actors*100 :.2f}\")\n",
    "print(f\"The percentage of actors for which we have the ethnicity is: {nb_actors_ethnicity/nb_actors*100 :.2f}\")"
   ]
  },
  {
   "cell_type": "markdown",
   "id": "8b9cd34d",
   "metadata": {},
   "source": [
    "From this analysis we can see that we have enough information on the gender and on the age (esp. with birth date) of the actors. However ethnicity data is often missing. Thus, it might be good to filter only for birth date and gender."
   ]
  },
  {
   "cell_type": "code",
   "execution_count": 15,
   "id": "d35c9a85",
   "metadata": {},
   "outputs": [
    {
     "name": "stdout",
     "output_type": "stream",
     "text": [
      "The remaining number of movies is: 6495.\n",
      "The remaining number of actors is: 18649.\n"
     ]
    }
   ],
   "source": [
    "# Filter for birth date\n",
    "character_movies_filtered = character_movies_filtered.dropna(subset=['birth'])\n",
    "\n",
    "# Filter for gender (NaN and aberrant values)\n",
    "character_movies_filtered = character_movies_filtered.dropna(subset=['gender'])\n",
    "character_movies_filtered = character_movies_filtered[\n",
    "    (character_movies_filtered.gender=='F') | (character_movies_filtered.gender=='M')]\n",
    "\n",
    "# Compute the remaining number of actors and movies\n",
    "nb_tot_filtered_movies = len(character_movies_filtered['movieID'].unique())\n",
    "nb_tot_filtered_actors = len(character_movies_filtered['name_actor'].unique())\n",
    "\n",
    "print(f'The remaining number of movies is: {nb_tot_filtered_movies}.')\n",
    "print(f'The remaining number of actors is: {nb_tot_filtered_actors}.')"
   ]
  },
  {
   "cell_type": "markdown",
   "id": "fc90d06f",
   "metadata": {},
   "source": [
    "Now that we have reduced our dataset to this smaller subset we can see that data handling will not be a problem.\n",
    "\n",
    "We will need to further filter our dataset to keep only actors that played at least in two movies. Let's first look at the distribution of the number of movies played by actor."
   ]
  },
  {
   "cell_type": "code",
   "execution_count": 16,
   "id": "f73576a9",
   "metadata": {},
   "outputs": [
    {
     "data": {
      "image/png": "[encoded data removed]",
      "text/plain": [
       "<Figure size 432x288 with 1 Axes>"
      ]
     },
     "metadata": {
      "needs_background": "light"
     },
     "output_type": "display_data"
    }
   ],
   "source": [
    "# List all actors name (for filtered data)\n",
    "actors_names = character_movies_filtered['name_actor'].tolist()\n",
    "\n",
    "#count the repertition number of each actor name\n",
    "nb_mov_actor = create_words_database(sorted(actors_names))\n",
    "\n",
    "# Sort the actors by ascending order of movies played\n",
    "nb_mov_actor = dict(sorted(nb_mov_actor.items(), key=lambda item: item[1]))\n",
    "\n",
    "# Define intervals\n",
    "intervals = [1, 3, 6, 9, 12, 15, 18, 21]\n",
    "\n",
    "# Initialize a dictionary to stock the number of actors in each interval\n",
    "actors_per_interval = {i: 0 for i in range(len(intervals) + 1)}\n",
    "\n",
    "# Count the number of actors in each interval\n",
    "for actor, index in nb_mov_actor.items():\n",
    "    for i, threshold in enumerate(intervals):\n",
    "        if index <= threshold:\n",
    "            actors_per_interval[i] += 1\n",
    "            break\n",
    "    else:\n",
    "        actors_per_interval[len(intervals)] += 1\n",
    "\n",
    "# Plot histogram\n",
    "plt.bar(actors_per_interval.keys(), actors_per_interval.values(), align='center', alpha=0.7)\n",
    "plt.xticks(list(actors_per_interval.keys()), [f\"{i+1}-{j}\" for i, j in zip([0] + intervals, intervals + [float('inf')])])\n",
    "plt.xlabel('Number of movies played')\n",
    "plt.ylabel(\"Number of actors\")\n",
    "plt.title('Histogram of the distribution of the number of movies played per actor')\n",
    "plt.show()"
   ]
  },
  {
   "cell_type": "markdown",
   "id": "7de6d167",
   "metadata": {},
   "source": [
    "From this histogram we see that many actors played in only one movie so we will further decrease the size of our dataset to only keep actors that played in at least two movies."
   ]
  },
  {
   "cell_type": "code",
   "execution_count": 17,
   "id": "39a9386b",
   "metadata": {
    "scrolled": true
   },
   "outputs": [
    {
     "name": "stdout",
     "output_type": "stream",
     "text": [
      "The remaining number of movies is: 6443.\n",
      "The remaining number of actors is: 10008.\n"
     ]
    }
   ],
   "source": [
    "from helpers import at_least_2_movies\n",
    "\n",
    "# Apply filtering function to actor dictionary\n",
    "filtered_actors = dict(filter(at_least_2_movies, nb_mov_actor.items()))\n",
    "\n",
    "# Filter dataset\n",
    "character_movies_filtered = character_movies_filtered[character_movies_filtered['name_actor'].isin(filtered_actors.keys())]\n",
    "\n",
    "# Compute the remaining number of actors and movies\n",
    "nb_tot_filtered_movies = len(character_movies_filtered['movieID'].unique())\n",
    "nb_tot_filtered_actors = len(character_movies_filtered['name_actor'].unique())\n",
    "\n",
    "print(f'The remaining number of movies is: {nb_tot_filtered_movies}.')\n",
    "print(f'The remaining number of actors is: {nb_tot_filtered_actors}.')"
   ]
  },
  {
   "cell_type": "markdown",
   "id": "81b7f55f",
   "metadata": {},
   "source": [
    "## 3) What is a big hit? :\n",
    "We now have to define what makes a movie a big hit? We will focus on revenue as mentioned eariler but we still have to find define how much revenue leads to calling a movie a big hit.\n",
    "\n",
    "For this, let's look at the distribution of revenue amoung our filtered movie dataset (movies that have revenue information, that come from the US and that were made after 1950). Because of inflation I will probably be required to perform some kind of normalization over the years to make sure we do not have a year bias.\n",
    "\n",
    "Let's thus look at the average revenue of movies over the years"
   ]
  },
  {
   "cell_type": "code",
   "execution_count": 18,
   "id": "4059f817",
   "metadata": {
    "scrolled": false
   },
   "outputs": [
    {
     "data": {
      "text/plain": [
       "[]"
      ]
     },
     "execution_count": 18,
     "metadata": {},
     "output_type": "execute_result"
    },
    {
     "data": {
      "image/png": "[encoded data removed]",
      "text/plain": [
       "<Figure size 432x288 with 1 Axes>"
      ]
     },
     "metadata": {
      "needs_background": "light"
     },
     "output_type": "display_data"
    }
   ],
   "source": [
    "# Get the mean and standard deviation of the box office revenue for each year\n",
    "unique_movies = character_movies_filtered.drop_duplicates(subset = 'movieID')\n",
    "rev_per_year = unique_movies.groupby(by = 'year')['revenue']\n",
    "avg_revenue_per_year = rev_per_year.mean()\n",
    "std_revenue_per_year = rev_per_year.std()\n",
    "\n",
    "# Plot the results\n",
    "plt.plot(avg_revenue_per_year)\n",
    "#plt.fill_between(avg_revenue_per_year.index, (avg_revenue_per_year+std_revenue_per_year).values,\n",
    "#                 (avg_revenue_per_year-std_revenue_per_year).values, color='lightblue')\n",
    "plt.title('Average movie revenue per year')\n",
    "plt.ylabel('Average movie revenue')\n",
    "plt.xlabel('Year of release')\n",
    "plt.plot()"
   ]
  },
  {
   "cell_type": "markdown",
   "id": "bc28ea5d",
   "metadata": {},
   "source": [
    "From this graph we can see a certain fluctuation in the average movie revenue per year.\n",
    "\n",
    "To keep things simple we will assume that for a movie to be a big hit it has to be an outliner with respect to box office revenue. We will pick only the outlines (for box office revenue) each year as label them as big hits. We define an outliner as: outlier's revenue > Q3 + 1.5*(IQR) where Q1, Q3 and IQR are respectively the first quantile, the third quantile and the interquantile range."
   ]
  },
  {
   "cell_type": "code",
   "execution_count": 19,
   "id": "5e227d15",
   "metadata": {
    "scrolled": false
   },
   "outputs": [
    {
     "name": "stdout",
     "output_type": "stream",
     "text": [
      "The number of big hits is: 677\n"
     ]
    },
    {
     "data": {
      "image/png": "[encoded data removed]",
      "text/plain": [
       "<Figure size 432x288 with 1 Axes>"
      ]
     },
     "metadata": {
      "needs_background": "light"
     },
     "output_type": "display_data"
    }
   ],
   "source": [
    "# Compute the first and the third quantile for each year\n",
    "Q1 = rev_per_year.quantile(q=0.25)\n",
    "Q3 = rev_per_year.quantile(q=0.75)\n",
    "\n",
    "# Compute our ouliner threshold value for each year\n",
    "outliner_thresh = Q3 + 1.5 *(Q3-Q1)\n",
    "outliner_thresh.name = 'threshold'\n",
    "\n",
    "# Filter movie dataset to keep only the big hits\n",
    "movies_merged = pd.merge(character_movies_filtered, outliner_thresh, left_on='year', right_index=True)\n",
    "big_hits = movies_merged[movies_merged['revenue'] > movies_merged['threshold']]\n",
    "\n",
    "# Plot the mean revenue for big hits compaired to the mean revenue for all movies per year\n",
    "unique_movie_hits = big_hits.drop_duplicates(subset = 'movieID')\n",
    "rev_hits_per_year = unique_movie_hits.groupby(by = 'year')['revenue'].mean()\n",
    "\n",
    "plt.plot(avg_revenue_per_year, label = 'all movies')\n",
    "plt.plot(rev_hits_per_year, label = 'big hits')\n",
    "\n",
    "# Add labels\n",
    "plt.title('Mean revenue per year')\n",
    "plt.ylabel('Average movie revenue')\n",
    "plt.xlabel('Year of release')\n",
    "plt.legend()\n",
    "plt.plot()\n",
    "\n",
    "# How many big hits do we have?\n",
    "print(f'The number of big hits is: {len(unique_movie_hits)}')"
   ]
  },
  {
   "cell_type": "markdown",
   "id": "cd182d26",
   "metadata": {},
   "source": [
    "Do we have enough data? If not: change the ouliner definition or change big hit definition\n",
    "\n",
    "Now let's divide our actors dataset into the ones that have played in one of those big hits (treatement group) and the ones that did not (control)"
   ]
  },
  {
   "cell_type": "code",
   "execution_count": 20,
   "id": "3cf97180",
   "metadata": {},
   "outputs": [
    {
     "name": "stdout",
     "output_type": "stream",
     "text": [
      "The number of actors that played in a big hit is: 4477 (treatement group)\n",
      "The number of actors that did not play in a big hit is: 5531 (control group)\n"
     ]
    }
   ],
   "source": [
    "# Get a set with the names of the actors that played in a big hit\n",
    "unique_actor_hits = big_hits.drop_duplicates(subset = 'name_actor').name_actor\n",
    "\n",
    "# Creat a new column on our main dataframe, a bool for wheter the actors played in a big hit or not\n",
    "character_movies_filtered['big_hit_actor'] = character_movies_filtered.name_actor.isin(unique_actor_hits)\n",
    "\n",
    "# Get a dataframe of actors that played in a big hit (treatement group)\n",
    "actors_big_hit = character_movies_filtered[character_movies_filtered.big_hit_actor]\n",
    "# Get a dataframe of actors that did not play in a big hit (control group)\n",
    "actors_no_big_hit = character_movies_filtered[~character_movies_filtered.big_hit_actor]\n",
    "\n",
    "# Print the number of actors in each group\n",
    "nb_big_hit_actors = len(unique_actor_hits)\n",
    "\n",
    "print(f'The number of actors that played in a big hit is: {nb_big_hit_actors} (treatement group)')\n",
    "print(f'The number of actors that did not play in a big hit is: {nb_tot_filtered_actors-nb_big_hit_actors} (control group)')"
   ]
  },
  {
   "cell_type": "markdown",
   "id": "a2391db9",
   "metadata": {},
   "source": [
    "Now that we have our two groups let's look at the distribution of different variables for which we have information.\n",
    "\n",
    "We can first look at gender."
   ]
  },
  {
   "cell_type": "code",
   "execution_count": 31,
   "id": "0d04102b",
   "metadata": {},
   "outputs": [
    {
     "data": {
      "image/png": "[encoded data removed]",
      "text/plain": [
       "<Figure size 504x360 with 1 Axes>"
      ]
     },
     "metadata": {
      "needs_background": "light"
     },
     "output_type": "display_data"
    }
   ],
   "source": [
    "# Gender\n",
    "group = character_movies_filtered.groupby(['big_hit_actor', 'gender'])['gender'].count()\n",
    "group = group.unstack()\n",
    "group = group.div(group.sum(axis=1), axis=0)\n",
    "\n",
    "pl = group.plot(kind='bar', figsize=[7,5], rot=0)\n",
    "pl.set_title('Gender')\n",
    "pl.set_ylabel('Participants')\n",
    "pl.set_xlabel('Group')\n",
    "plt.show()"
   ]
  },
  {
   "cell_type": "markdown",
   "id": "e8f9d610",
   "metadata": {},
   "source": [
    "Now let's have look at the repartition of the age at the peak of the acotrs carrier (good?). We define the peak of one actor's carrier by the year where the product of the number of movies played in with their respective box office revenue is the highest.\n",
    "\n",
    "\n",
    "REMARQUE: si on veut etre encore plus precis, on peut ici reprendre le dataset avant d'avoir filter les films sur la presence de revenue. Comme ca on compte aussi ces films la et pour notre calcul on pourrait p.ex. choisir la valeur moyenne de revenue pour l'annee du films (pour lequel il manque le revenue justement)."
   ]
  },
  {
   "cell_type": "code",
   "execution_count": 22,
   "id": "474fe0b9",
   "metadata": {},
   "outputs": [],
   "source": [
    "# TODO: do this earlier?\n",
    "# Get the birthdate of the actors in the correct format\n",
    "character_movies_filtered['birth'] = character_movies_filtered['birth'].apply(complete_date)\n",
    "character_movies_filtered['birth'] = pd.to_datetime(character_movies_filtered['birth'], format='%Y-%m-%d')"
   ]
  },
  {
   "cell_type": "code",
   "execution_count": 23,
   "id": "e4f34cba",
   "metadata": {},
   "outputs": [
    {
     "data": {
      "image/png": "[encoded data removed]",
      "text/plain": [
       "<Figure size 360x360 with 1 Axes>"
      ]
     },
     "metadata": {
      "needs_background": "light"
     },
     "output_type": "display_data"
    }
   ],
   "source": [
    "# Calculate the product of the number of movies and respective box office revenue for each actor and year\n",
    "character_movies_filtered['product'] = character_movies_filtered.groupby(['name_actor', 'year']).movieID.transform('count') * character_movies_filtered.revenue\n",
    "\n",
    "# Find the row with the maximum product for each actor\n",
    "max_product_rows = character_movies_filtered.loc[character_movies_filtered.groupby('name_actor')['product'].idxmax()]\n",
    "\n",
    "# Extract the actor and the corresponding year for the maximum product\n",
    "result = max_product_rows.loc[:, ['name_actor', 'year', 'birth']]\n",
    "\n",
    "# Create a column in the dataframe with the age of the actors at their carrier peak:\n",
    "result['age_at_peak'] = result['year'] - result['birth'].dt.year\n",
    "character_movies_filtered = pd.merge(character_movies_filtered, result[['name_actor', 'age_at_peak']], on='name_actor', how='left')\n",
    "\n",
    "\n",
    "# Remove the product column\n",
    "character_movies_filtered = character_movies_filtered.drop(columns = 'product')\n",
    "\n",
    "# Visualize distribution\n",
    "\n",
    "character_movies_filtered.boxplot(by='big_hit_actor', column='age_at_peak', figsize = [5, 5], grid=True)\n",
    "plt.show()"
   ]
  },
  {
   "cell_type": "markdown",
   "id": "017dc525",
   "metadata": {},
   "source": [
    "The two groups are actually pretty much balanced on the two variables we looked at. We should probably still perform a matching (exact matching might take too long? propensity score matching good enough? look at other variable distributions?)"
   ]
  },
  {
   "cell_type": "markdown",
   "metadata": {},
   "source": [
    "Now, we want to compare the carrer longevity"
   ]
  },
  {
   "cell_type": "code",
   "execution_count": 38,
   "metadata": {},
   "outputs": [],
   "source": [
    "# Convert releaseDate to DateTime\n",
    "character_movies_filtered['releaseDate'] = pd.to_datetime(character_movies_filtered['releaseDate'], errors='coerce')\n",
    "\n",
    "# Drop eventual Nan Values for releaseDate\n",
    "character_movies_filtered.dropna(subset=['releaseDate'], inplace=True)\n",
    "\n",
    "# Calculate Last and First Apparence\n",
    "career_start = character_movies_filtered.groupby('name_actor')['releaseDate'].min()\n",
    "career_end = character_movies_filtered.groupby('name_actor')['releaseDate'].max()\n",
    "\n",
    "career_duration = (career_end - career_start).dt.days / 365.25  # Convert days to years\n",
    "career_duration_df = career_duration.reset_index()\n",
    "career_duration_df.rename(columns={'releaseDate': 'career_length_in_years'}, inplace=True)\n"
   ]
  },
  {
   "cell_type": "code",
   "execution_count": 40,
   "metadata": {},
   "outputs": [],
   "source": [
    "#TODO: give better name to this variable\n",
    "merged_df = pd.merge(character_movies_filtered, career_duration_df, on='name_actor')\n"
   ]
  },
  {
   "cell_type": "code",
   "execution_count": 45,
   "metadata": {},
   "outputs": [
    {
     "name": "stdout",
     "output_type": "stream",
     "text": [
      "The mean carrer longevity of actors that played in a big hit is: 21.800166192944015 (treatement group)\n",
      "The mean carrer longevity of actors that did not play in a big hit is: 13.374571377354878 (control group)\n"
     ]
    }
   ],
   "source": [
    "# Analysis\n",
    "treatment_group = merged_df[merged_df['big_hit_actor'] == True]\n",
    "control_group = merged_df[merged_df['big_hit_actor'] == False]\n",
    "\n",
    "mean_career_length_treatment = treatment_group['career_length_in_years'].mean()\n",
    "mean_career_length_control = control_group['career_length_in_years'].mean()\n",
    "\n",
    "print(f'The mean carrer longevity of actors that played in a big hit is: {mean_career_length_treatment} (treatement group)')\n",
    "print(f'The mean carrer longevity of actors that did not play in a big hit is: {mean_career_length_control} (control group)')\n"
   ]
  },
  {
   "cell_type": "code",
   "execution_count": 48,
   "metadata": {},
   "outputs": [
    {
     "data": {
      "image/png": "[encoded data removed]",
      "text/plain": [
       "<Figure size 864x432 with 1 Axes>"
      ]
     },
     "metadata": {},
     "output_type": "display_data"
    }
   ],
   "source": [
    "# Histogram\n",
    "\n",
    "# Set the style\n",
    "sns.set(style=\"whitegrid\")\n",
    "\n",
    "# Plot histograms\n",
    "plt.figure(figsize=(12, 6))\n",
    "sns.histplot(treatment_group['career_length_in_years'], color=\"blue\", label='Treatment Group')\n",
    "sns.histplot(control_group['career_length_in_years'], color=\"red\", label='Control Group')\n",
    "\n",
    "plt.title('Distribution of Career Longevity')\n",
    "plt.xlabel('Career Length (Years)')\n",
    "plt.ylabel('Number of Actors')\n",
    "plt.legend()\n",
    "plt.show()"
   ]
  },
  {
   "cell_type": "markdown",
   "metadata": {},
   "source": [
    "The control group appears to have more actors in the shorter career span categories (less than 10 years), whereas the treatment group has a more evenly distributed frequency across different career lengths. The treatment group has more actors with longer careers, indicated by the bars extending further to the right (beyond 30 years), compared to the control group. This suggests that actors who have been in a big hit may have longer-lasting careers."
   ]
  },
  {
   "cell_type": "code",
   "execution_count": 49,
   "metadata": {},
   "outputs": [
    {
     "data": {
      "image/png": "[encoded data removed]",
      "text/plain": [
       "<Figure size 576x432 with 1 Axes>"
      ]
     },
     "metadata": {},
     "output_type": "display_data"
    }
   ],
   "source": [
    "# Box plot\n",
    "plt.figure(figsize=(8, 6))\n",
    "sns.boxplot(x='big_hit_actor', y='career_length_in_years', data=merged_df)\n",
    "plt.title('Career Longevity Comparison')\n",
    "plt.xlabel('Big Hit Actor')\n",
    "plt.ylabel('Career Length (Years)')\n",
    "plt.xticks([0, 1], ['Control Group', 'Treatment Group'])\n",
    "plt.show()"
   ]
  },
  {
   "cell_type": "markdown",
   "metadata": {},
   "source": [
    "Comparing the two boxes, we can see that not only is the median of the treatment group higher (indicating longer average career lengths), but the box and whiskers are also generally higher on the scale. This implies that actors in the treatment group not only have a tendency towards longer careers on average but also include more actors with very long careers."
   ]
  },
  {
   "cell_type": "markdown",
   "metadata": {},
   "source": [
    "Next, we will look to the number of unique movieIDs associated with each actor to see if actors in big hits tend to appear in more movies overall"
   ]
  },
  {
   "cell_type": "code",
   "execution_count": null,
   "metadata": {},
   "outputs": [],
   "source": []
  },
  {
   "cell_type": "markdown",
   "id": "0215b6f9",
   "metadata": {},
   "source": [
    "## 4) Relating movie genres and actor's careers :\n",
    "\n",
    "In order to observe the career of actors in movie production, we thought it would be interessant to look at the genres of the movies they were playing in. "
   ]
  },
  {
   "cell_type": "code",
   "execution_count": 24,
   "id": "aa5d3515",
   "metadata": {},
   "outputs": [
    {
     "name": "stdout",
     "output_type": "stream",
     "text": [
      "The DataFrame has 63120 rows.\n"
     ]
    }
   ],
   "source": [
    "# Get the number of rows\n",
    "num_rows = character_movies_filtered.shape[0]\n",
    "\n",
    "# Print the number of rows\n",
    "print(f\"The DataFrame has {num_rows} rows.\")"
   ]
  },
  {
   "cell_type": "code",
   "execution_count": 25,
   "id": "424cc97f",
   "metadata": {},
   "outputs": [
    {
     "data": {
      "text/html": [
       "<div>\n",
       "<style scoped>\n",
       "    .dataframe tbody tr th:only-of-type {\n",
       "        vertical-align: middle;\n",
       "    }\n",
       "\n",
       "    .dataframe tbody tr th {\n",
       "        vertical-align: top;\n",
       "    }\n",
       "\n",
       "    .dataframe thead th {\n",
       "        text-align: right;\n",
       "    }\n",
       "</style>\n",
       "<table border=\"1\" class=\"dataframe\">\n",
       "  <thead>\n",
       "    <tr style=\"text-align: right;\">\n",
       "      <th></th>\n",
       "      <th>wikiID</th>\n",
       "      <th>movieID</th>\n",
       "      <th>releaseDate</th>\n",
       "      <th>charactName</th>\n",
       "      <th>birth</th>\n",
       "      <th>gender</th>\n",
       "      <th>height</th>\n",
       "      <th>ethnicity</th>\n",
       "      <th>name_actor</th>\n",
       "      <th>age</th>\n",
       "      <th>...</th>\n",
       "      <th>actID</th>\n",
       "      <th>name_movie</th>\n",
       "      <th>revenue</th>\n",
       "      <th>runtime</th>\n",
       "      <th>languages</th>\n",
       "      <th>countries</th>\n",
       "      <th>genres</th>\n",
       "      <th>year</th>\n",
       "      <th>big_hit_actor</th>\n",
       "      <th>age_at_peak</th>\n",
       "    </tr>\n",
       "  </thead>\n",
       "  <tbody>\n",
       "    <tr>\n",
       "      <th>0</th>\n",
       "      <td>975900</td>\n",
       "      <td>/m/03vyhn</td>\n",
       "      <td>2001-08-24</td>\n",
       "      <td>Akooshay</td>\n",
       "      <td>1958-08-26</td>\n",
       "      <td>F</td>\n",
       "      <td>1.620</td>\n",
       "      <td>NaN</td>\n",
       "      <td>Wanda De Jesus</td>\n",
       "      <td>42.0</td>\n",
       "      <td>...</td>\n",
       "      <td>/m/03wcfv7</td>\n",
       "      <td>Ghosts of Mars</td>\n",
       "      <td>14010832.0</td>\n",
       "      <td>98.0</td>\n",
       "      <td>{\"/m/02h40lc\": \"English Language\"}</td>\n",
       "      <td>{\"/m/09c7w0\": \"United States of America\"}</td>\n",
       "      <td>[Thriller, Science Fiction, Horror, Adventure,...</td>\n",
       "      <td>2001.0</td>\n",
       "      <td>False</td>\n",
       "      <td>32.0</td>\n",
       "    </tr>\n",
       "    <tr>\n",
       "      <th>1</th>\n",
       "      <td>975900</td>\n",
       "      <td>/m/03vyhn</td>\n",
       "      <td>2001-08-24</td>\n",
       "      <td>Lieutenant Melanie Ballard</td>\n",
       "      <td>1974-08-15</td>\n",
       "      <td>F</td>\n",
       "      <td>1.780</td>\n",
       "      <td>/m/044038p</td>\n",
       "      <td>Natasha Henstridge</td>\n",
       "      <td>27.0</td>\n",
       "      <td>...</td>\n",
       "      <td>/m/0346l4</td>\n",
       "      <td>Ghosts of Mars</td>\n",
       "      <td>14010832.0</td>\n",
       "      <td>98.0</td>\n",
       "      <td>{\"/m/02h40lc\": \"English Language\"}</td>\n",
       "      <td>{\"/m/09c7w0\": \"United States of America\"}</td>\n",
       "      <td>[Thriller, Science Fiction, Horror, Adventure,...</td>\n",
       "      <td>2001.0</td>\n",
       "      <td>False</td>\n",
       "      <td>21.0</td>\n",
       "    </tr>\n",
       "    <tr>\n",
       "      <th>2</th>\n",
       "      <td>975900</td>\n",
       "      <td>/m/03vyhn</td>\n",
       "      <td>2001-08-24</td>\n",
       "      <td>Desolation Williams</td>\n",
       "      <td>1969-06-15</td>\n",
       "      <td>M</td>\n",
       "      <td>1.727</td>\n",
       "      <td>/m/0x67</td>\n",
       "      <td>Ice Cube</td>\n",
       "      <td>32.0</td>\n",
       "      <td>...</td>\n",
       "      <td>/m/01vw26l</td>\n",
       "      <td>Ghosts of Mars</td>\n",
       "      <td>14010832.0</td>\n",
       "      <td>98.0</td>\n",
       "      <td>{\"/m/02h40lc\": \"English Language\"}</td>\n",
       "      <td>{\"/m/09c7w0\": \"United States of America\"}</td>\n",
       "      <td>[Thriller, Science Fiction, Horror, Adventure,...</td>\n",
       "      <td>2001.0</td>\n",
       "      <td>False</td>\n",
       "      <td>33.0</td>\n",
       "    </tr>\n",
       "    <tr>\n",
       "      <th>3</th>\n",
       "      <td>975900</td>\n",
       "      <td>/m/03vyhn</td>\n",
       "      <td>2001-08-24</td>\n",
       "      <td>Sgt Jericho Butler</td>\n",
       "      <td>1967-09-12</td>\n",
       "      <td>M</td>\n",
       "      <td>1.750</td>\n",
       "      <td>NaN</td>\n",
       "      <td>Jason Statham</td>\n",
       "      <td>33.0</td>\n",
       "      <td>...</td>\n",
       "      <td>/m/034hyc</td>\n",
       "      <td>Ghosts of Mars</td>\n",
       "      <td>14010832.0</td>\n",
       "      <td>98.0</td>\n",
       "      <td>{\"/m/02h40lc\": \"English Language\"}</td>\n",
       "      <td>{\"/m/09c7w0\": \"United States of America\"}</td>\n",
       "      <td>[Thriller, Science Fiction, Horror, Adventure,...</td>\n",
       "      <td>2001.0</td>\n",
       "      <td>False</td>\n",
       "      <td>44.0</td>\n",
       "    </tr>\n",
       "    <tr>\n",
       "      <th>4</th>\n",
       "      <td>975900</td>\n",
       "      <td>/m/03vyhn</td>\n",
       "      <td>2001-08-24</td>\n",
       "      <td>Bashira Kincaid</td>\n",
       "      <td>1977-09-25</td>\n",
       "      <td>F</td>\n",
       "      <td>1.650</td>\n",
       "      <td>NaN</td>\n",
       "      <td>Clea DuVall</td>\n",
       "      <td>23.0</td>\n",
       "      <td>...</td>\n",
       "      <td>/m/01y9xg</td>\n",
       "      <td>Ghosts of Mars</td>\n",
       "      <td>14010832.0</td>\n",
       "      <td>98.0</td>\n",
       "      <td>{\"/m/02h40lc\": \"English Language\"}</td>\n",
       "      <td>{\"/m/09c7w0\": \"United States of America\"}</td>\n",
       "      <td>[Thriller, Science Fiction, Horror, Adventure,...</td>\n",
       "      <td>2001.0</td>\n",
       "      <td>False</td>\n",
       "      <td>22.0</td>\n",
       "    </tr>\n",
       "  </tbody>\n",
       "</table>\n",
       "<p>5 rows × 22 columns</p>\n",
       "</div>"
      ],
      "text/plain": [
       "   wikiID    movieID releaseDate                 charactName      birth  \\\n",
       "0  975900  /m/03vyhn  2001-08-24                    Akooshay 1958-08-26   \n",
       "1  975900  /m/03vyhn  2001-08-24  Lieutenant Melanie Ballard 1974-08-15   \n",
       "2  975900  /m/03vyhn  2001-08-24         Desolation Williams 1969-06-15   \n",
       "3  975900  /m/03vyhn  2001-08-24          Sgt Jericho Butler 1967-09-12   \n",
       "4  975900  /m/03vyhn  2001-08-24             Bashira Kincaid 1977-09-25   \n",
       "\n",
       "  gender  height   ethnicity          name_actor   age  ...       actID  \\\n",
       "0      F   1.620         NaN      Wanda De Jesus  42.0  ...  /m/03wcfv7   \n",
       "1      F   1.780  /m/044038p  Natasha Henstridge  27.0  ...   /m/0346l4   \n",
       "2      M   1.727     /m/0x67            Ice Cube  32.0  ...  /m/01vw26l   \n",
       "3      M   1.750         NaN       Jason Statham  33.0  ...   /m/034hyc   \n",
       "4      F   1.650         NaN         Clea DuVall  23.0  ...   /m/01y9xg   \n",
       "\n",
       "       name_movie     revenue runtime                           languages  \\\n",
       "0  Ghosts of Mars  14010832.0    98.0  {\"/m/02h40lc\": \"English Language\"}   \n",
       "1  Ghosts of Mars  14010832.0    98.0  {\"/m/02h40lc\": \"English Language\"}   \n",
       "2  Ghosts of Mars  14010832.0    98.0  {\"/m/02h40lc\": \"English Language\"}   \n",
       "3  Ghosts of Mars  14010832.0    98.0  {\"/m/02h40lc\": \"English Language\"}   \n",
       "4  Ghosts of Mars  14010832.0    98.0  {\"/m/02h40lc\": \"English Language\"}   \n",
       "\n",
       "                                   countries  \\\n",
       "0  {\"/m/09c7w0\": \"United States of America\"}   \n",
       "1  {\"/m/09c7w0\": \"United States of America\"}   \n",
       "2  {\"/m/09c7w0\": \"United States of America\"}   \n",
       "3  {\"/m/09c7w0\": \"United States of America\"}   \n",
       "4  {\"/m/09c7w0\": \"United States of America\"}   \n",
       "\n",
       "                                              genres    year big_hit_actor  \\\n",
       "0  [Thriller, Science Fiction, Horror, Adventure,...  2001.0         False   \n",
       "1  [Thriller, Science Fiction, Horror, Adventure,...  2001.0         False   \n",
       "2  [Thriller, Science Fiction, Horror, Adventure,...  2001.0         False   \n",
       "3  [Thriller, Science Fiction, Horror, Adventure,...  2001.0         False   \n",
       "4  [Thriller, Science Fiction, Horror, Adventure,...  2001.0         False   \n",
       "\n",
       "   age_at_peak  \n",
       "0         32.0  \n",
       "1         21.0  \n",
       "2         33.0  \n",
       "3         44.0  \n",
       "4         22.0  \n",
       "\n",
       "[5 rows x 22 columns]"
      ]
     },
     "execution_count": 25,
     "metadata": {},
     "output_type": "execute_result"
    }
   ],
   "source": [
    "from helpers import extract_genre_names\n",
    "\n",
    "# Apply the function to the \"genres\" column\n",
    "character_movies_filtered['genres'] = character_movies_filtered['genres'].apply(extract_genre_names)\n",
    "\n",
    "character_movies_filtered.head(5)"
   ]
  },
  {
   "cell_type": "code",
   "execution_count": 26,
   "id": "fb37706c",
   "metadata": {},
   "outputs": [],
   "source": [
    "# Group all the genres of movies to see how many remain and which genres exist\n",
    "movie_genres = character_movies_filtered['genres'].tolist()\n",
    "all_genres = sorted(list(set([genre for liste_genres in movie_genres for genre in liste_genres])))"
   ]
  },
  {
   "cell_type": "code",
   "execution_count": 27,
   "id": "3416a211",
   "metadata": {
    "scrolled": true
   },
   "outputs": [
    {
     "name": "stdout",
     "output_type": "stream",
     "text": [
      "In the remaining dataset we have 295 movie genres as we can see in the following list : \n",
      " ## Absurdism\n",
      " ## Acid western\n",
      " ## Action\n",
      " ## Action Comedy\n",
      " ## Action Thrillers\n",
      " ## Action/Adventure\n",
      " ## Addiction Drama\n",
      " ## Adult\n",
      " ## Adventure\n",
      " ## Adventure Comedy\n",
      " ## Airplanes and airports\n",
      " ## Albino bias\n",
      " ## Alien Film\n",
      " ## Alien invasion\n",
      " ## Americana\n",
      " ## Animal Picture\n",
      " ## Animals\n",
      " ## Animated Musical\n",
      " ## Animated cartoon\n",
      " ## Animation\n",
      " ## Anime\n",
      " ## Anthology\n",
      " ## Anti-war\n",
      " ## Anti-war film\n",
      " ## Apocalyptic and post-apocalyptic fiction\n",
      " ## Archaeology\n",
      " ## Archives and records\n",
      " ## Art film\n",
      " ## Auto racing\n",
      " ## Avant-garde\n",
      " ## B-Western\n",
      " ## B-movie\n",
      " ## Backstage Musical\n",
      " ## Baseball\n",
      " ## Beach Film\n",
      " ## Biker Film\n",
      " ## Biographical film\n",
      " ## Biography\n",
      " ## Biopic [feature]\n",
      " ## Black comedy\n",
      " ## Black-and-white\n",
      " ## Blaxploitation\n",
      " ## Bloopers & Candid Camera\n",
      " ## Bollywood\n",
      " ## Boxing\n",
      " ## Breakdance\n",
      " ## British Empire Film\n",
      " ## British New Wave\n",
      " ## Buddy cop\n",
      " ## Buddy film\n",
      " ## Business\n",
      " ## Camp\n",
      " ## Caper story\n",
      " ## Cavalry Film\n",
      " ## Chase Movie\n",
      " ## Childhood Drama\n",
      " ## Children's\n",
      " ## Children's Fantasy\n",
      " ## Children's/Family\n",
      " ## Chinese Movies\n",
      " ## Christian film\n",
      " ## Christmas movie\n",
      " ## Cold War\n",
      " ## Combat Films\n",
      " ## Comedy\n",
      " ## Comedy Thriller\n",
      " ## Comedy Western\n",
      " ## Comedy film\n",
      " ## Comedy horror\n",
      " ## Comedy of Errors\n",
      " ## Comedy of manners\n",
      " ## Comedy-drama\n",
      " ## Coming of age\n",
      " ## Coming-of-age film\n",
      " ## Computer Animation\n",
      " ## Concert film\n",
      " ## Costume Adventure\n",
      " ## Costume Horror\n",
      " ## Costume drama\n",
      " ## Courtroom Comedy\n",
      " ## Courtroom Drama\n",
      " ## Creature Film\n",
      " ## Crime\n",
      " ## Crime Comedy\n",
      " ## Crime Drama\n",
      " ## Crime Fiction\n",
      " ## Crime Thriller\n",
      " ## Cult\n",
      " ## Culture & Society\n",
      " ## Cyberpunk\n",
      " ## Dance\n",
      " ## Demonic child\n",
      " ## Detective\n",
      " ## Detective fiction\n",
      " ## Disaster\n",
      " ## Docudrama\n",
      " ## Documentary\n",
      " ## Dogme 95\n",
      " ## Domestic Comedy\n",
      " ## Doomsday film\n",
      " ## Drama\n",
      " ## Dystopia\n",
      " ## Educational\n",
      " ## Ensemble Film\n",
      " ## Environmental Science\n",
      " ## Epic\n",
      " ## Epic Western\n",
      " ## Erotic Drama\n",
      " ## Erotic thriller\n",
      " ## Erotica\n",
      " ## Escape Film\n",
      " ## Existentialism\n",
      " ## Experimental film\n",
      " ## Extreme Sports\n",
      " ## Fairy tale\n",
      " ## Family Drama\n",
      " ## Family Film\n",
      " ## Family-Oriented Adventure\n",
      " ## Fantasy\n",
      " ## Fantasy Adventure\n",
      " ## Fantasy Comedy\n",
      " ## Fantasy Drama\n",
      " ## Feature film\n",
      " ## Female buddy film\n",
      " ## Feminist Film\n",
      " ## Fictional film\n",
      " ## Filipino Movies\n",
      " ## Film\n",
      " ## Film & Television History\n",
      " ## Film adaptation\n",
      " ## Film noir\n",
      " ## Film à clef\n",
      " ## Filmed Play\n",
      " ## Finance & Investing\n",
      " ## Future noir\n",
      " ## Gangster Film\n",
      " ## Gay\n",
      " ## Gay Interest\n",
      " ## Gay Themed\n",
      " ## Gender Issues\n",
      " ## Glamorized Spy Film\n",
      " ## Gothic Film\n",
      " ## Graphic & Applied Arts\n",
      " ## Gross out\n",
      " ## Gross-out film\n",
      " ## Gulf War\n",
      " ## Hagiography\n",
      " ## Hardcore pornography\n",
      " ## Haunted House Film\n",
      " ## Heaven-Can-Wait Fantasies\n",
      " ## Heavenly Comedy\n",
      " ## Heist\n",
      " ## Hip hop movies\n",
      " ## Historical Epic\n",
      " ## Historical drama\n",
      " ## Historical fiction\n",
      " ## History\n",
      " ## Holiday Film\n",
      " ## Horror\n",
      " ## Horror Comedy\n",
      " ## Horse racing\n",
      " ## Humour\n",
      " ## Hybrid Western\n",
      " ## Indian Western\n",
      " ## Indie\n",
      " ## Inspirational Drama\n",
      " ## Instrumental Music\n",
      " ## Interpersonal Relationships\n",
      " ## Inventions & Innovations\n",
      " ## Japanese Movies\n",
      " ## Jukebox musical\n",
      " ## Jungle Film\n",
      " ## Juvenile Delinquency Film\n",
      " ## Kafkaesque\n",
      " ## LGBT\n",
      " ## Law & Crime\n",
      " ## Legal drama\n",
      " ## Libraries and librarians\n",
      " ## Live action\n",
      " ## Marriage Drama\n",
      " ## Martial Arts Film\n",
      " ## Master Criminal Films\n",
      " ## Media Satire\n",
      " ## Media Studies\n",
      " ## Medical fiction\n",
      " ## Melodrama\n",
      " ## Mockumentary\n",
      " ## Monster\n",
      " ## Monster movie\n",
      " ## Movies About Gladiators\n",
      " ## Mumblecore\n",
      " ## Music\n",
      " ## Musical\n",
      " ## Musical Drama\n",
      " ## Musical comedy\n",
      " ## Mystery\n",
      " ## Mythological Fantasy\n",
      " ## Natural disaster\n",
      " ## Natural horror films\n",
      " ## Nature\n",
      " ## Neo-noir\n",
      " ## New Hollywood\n",
      " ## News\n",
      " ## Ninja movie\n",
      " ## Northern\n",
      " ## Outlaw\n",
      " ## Outlaw biker film\n",
      " ## Parkour in popular culture\n",
      " ## Parody\n",
      " ## Period Horror\n",
      " ## Period piece\n",
      " ## Plague\n",
      " ## Point of view shot\n",
      " ## Political cinema\n",
      " ## Political drama\n",
      " ## Political satire\n",
      " ## Political thriller\n",
      " ## Pornographic movie\n",
      " ## Prison\n",
      " ## Prison film\n",
      " ## Private military company\n",
      " ## Psycho-biddy\n",
      " ## Psychological horror\n",
      " ## Psychological thriller\n",
      " ## Punk rock\n",
      " ## Reboot\n",
      " ## Religious Film\n",
      " ## Remake\n",
      " ## Revisionist Fairy Tale\n",
      " ## Revisionist Western\n",
      " ## Road movie\n",
      " ## Road-Horror\n",
      " ## Roadshow theatrical release\n",
      " ## Rockumentary\n",
      " ## Romance Film\n",
      " ## Romantic comedy\n",
      " ## Romantic drama\n",
      " ## Romantic fantasy\n",
      " ## Satire\n",
      " ## School story\n",
      " ## Sci-Fi Adventure\n",
      " ## Sci-Fi Horror\n",
      " ## Sci-Fi Thriller\n",
      " ## Science Fiction\n",
      " ## Science fiction Western\n",
      " ## Screwball comedy\n",
      " ## Sex comedy\n",
      " ## Sexploitation\n",
      " ## Short Film\n",
      " ## Silent film\n",
      " ## Slapstick\n",
      " ## Slasher\n",
      " ## Slice of life story\n",
      " ## Social issues\n",
      " ## Social problem film\n",
      " ## Softcore Porn\n",
      " ## Space opera\n",
      " ## Space western\n",
      " ## Spaghetti Western\n",
      " ## Splatter film\n",
      " ## Sports\n",
      " ## Spy\n",
      " ## Stand-up comedy\n",
      " ## Steampunk\n",
      " ## Stoner film\n",
      " ## Stop motion\n",
      " ## Superhero\n",
      " ## Superhero movie\n",
      " ## Supermarionation\n",
      " ## Supernatural\n",
      " ## Surrealism\n",
      " ## Suspense\n",
      " ## Swashbuckler films\n",
      " ## Sword and Sandal\n",
      " ## Sword and sorcery\n",
      " ## Sword and sorcery films\n",
      " ## Teen\n",
      " ## Television movie\n",
      " ## The Netherlands in World War II\n",
      " ## Therimin music\n",
      " ## Thriller\n",
      " ## Time travel\n",
      " ## Tragedy\n",
      " ## Tragicomedy\n",
      " ## Travel\n",
      " ## Vampire movies\n",
      " ## War film\n",
      " ## Werewolf fiction\n",
      " ## Western\n",
      " ## Whodunit\n",
      " ## Women in prison films\n",
      " ## Workplace Comedy\n",
      " ## World cinema\n",
      " ## Wuxia\n",
      " ## Zombie Film\n"
     ]
    }
   ],
   "source": [
    "print(f\"In the remaining dataset we have {len(all_genres)} movie genres as we can see in the following list : \")\n",
    "\n",
    "for genre in all_genres :\n",
    "    print(f\" ## {genre}\")"
   ]
  },
  {
   "cell_type": "code",
   "execution_count": 28,
   "id": "3d56cc4d",
   "metadata": {},
   "outputs": [
    {
     "data": {
      "image/png": "[encoded data removed]",
      "text/plain": [
       "<Figure size 864x576 with 1 Axes>"
      ]
     },
     "metadata": {
      "needs_background": "light"
     },
     "output_type": "display_data"
    }
   ],
   "source": [
    "# Create an empty dictionary to track genre occurrences\n",
    "genre_occurrences = {}\n",
    "\n",
    "# Iterate through each row\n",
    "for i, row in character_movies_filtered.iterrows():\n",
    "    current_genres = row['genres']\n",
    "    \n",
    "    # Update the occurrences for each genre\n",
    "    for genre in current_genres:\n",
    "        genre_occurrences[genre] = genre_occurrences.get(genre, 0) + 1\n",
    "\n",
    "# Convert the dictionary to a DataFrame\n",
    "genre_occurrences_df = pd.DataFrame(list(genre_occurrences.items()), columns=['Genre', 'Occurrence'])\n",
    "\n",
    "# Sort the DataFrame by occurrence\n",
    "genre_occurrences_df = genre_occurrences_df.sort_values(by='Occurrence', ascending=False)\n",
    "\n",
    "# Select the top 50 genres\n",
    "top_50_genres = genre_occurrences_df.head(50)\n",
    "\n",
    "# Plot the occurrences of each genre\n",
    "plt.figure(figsize=(12, 8))\n",
    "plt.barh(top_50_genres['Genre'], top_50_genres['Occurrence'], color='skyblue')\n",
    "plt.xlabel('Occurrences')\n",
    "plt.ylabel('Genre')\n",
    "plt.title('Top 50 Genre Occurrences Across Rows')\n",
    "plt.show()\n"
   ]
  },
  {
   "cell_type": "code",
   "execution_count": 29,
   "id": "9f5097f2",
   "metadata": {},
   "outputs": [
    {
     "name": "stdout",
     "output_type": "stream",
     "text": [
      "Top 8 genres with the most occurrences:\n",
      "               Genre  Occurrence\n",
      "11             Drama       31299\n",
      "12            Comedy       29101\n",
      "0           Thriller       16826\n",
      "5             Action       15908\n",
      "14      Romance Film       15398\n",
      "21  Action/Adventure       12231\n",
      "19     Crime Fiction       10956\n",
      "3          Adventure       10864\n"
     ]
    }
   ],
   "source": [
    "# Print the top 8 genres with the most occurrences\n",
    "top_8_genres = genre_occurrences_df.head(8)\n",
    "print(\"Top 8 genres with the most occurrences:\")\n",
    "print(top_8_genres)\n"
   ]
  },
  {
   "cell_type": "markdown",
   "id": "5e864d75",
   "metadata": {},
   "source": [
    "As we just saw before the most represented genres in blockbuster movies are : Drama, Comedy, Thriller, Action, Romance Film, Action/Adventure, Crime Fiction and Adventure. So we can suppose that successful actors act more in movies of those genres.\n",
    "\n",
    "Analyzing an actor's career becomes particularly insightful when examining their involvement in similar types of movies. The key determinant of similarity among movies lies in their respective genres.\n",
    "\n",
    "Given the extensive number of movies within our dataset, it becomes prudent to gauge the similarity of each film in which an actor has participated. Consequently, for every actor, we can establish pairwise similarities among the films they've been a part of. A higher similarity value indicates a greater resemblance between two movies. For further informations regarding charachter types, we will analyse plot summaries to extract additional informations on types. This approach allows us to discern whether an actor consistently gravitates towards a specific genre or demonstrates versatility by engaging in various genres."
   ]
  }
 ],
 "metadata": {
  "kernelspec": {
   "display_name": "Python 3 (ipykernel)",
   "language": "python",
   "name": "python3"
  },
  "language_info": {
   "codemirror_mode": {
    "name": "ipython",
    "version": 3
   },
   "file_extension": ".py",
   "mimetype": "text/x-python",
   "name": "python",
   "nbconvert_exporter": "python",
   "pygments_lexer": "ipython3",
   "version": "3.9.18"
  }
 },
 "nbformat": 4,
 "nbformat_minor": 5
}
