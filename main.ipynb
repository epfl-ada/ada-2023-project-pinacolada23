{
 "cells": [
  {
   "cell_type": "markdown",
   "id": "05eac20b",
   "metadata": {},
   "source": [
    "# Evolution of actors careers post-blockbuster in the film industry\n",
    "How does a significant box office success impact an actor's subsequent choices and overall career path ?\n",
    "\n",
    "##  Context\n",
    "\n",
    "Analyze career trajectories of actors following their roles in high-grossing films using the CMU Movie Dataset\n",
    "\n",
    "More specifically, explore the following research questions: \n",
    "- Does a high-grossing film consistently lead to **continued box office success** for its actors in their subsequent films?\n",
    "- Is there a noticeable **change in genre or type of characters** portrayed by actors after a significant hit?\n",
    "- What are the long-term career impacts on actors who have starred in blockbuster hits?"
   ]
  },
  {
   "cell_type": "code",
   "execution_count": null,
   "id": "5de28eb0",
   "metadata": {},
   "outputs": [],
   "source": [
    "# External imports\n",
    "import pandas as pd\n",
    "import numpy as np\n",
    "import matplotlib.pyplot as plt\n",
    "import seaborn as sns"
   ]
  },
  {
   "cell_type": "markdown",
   "id": "4015c2e7",
   "metadata": {},
   "source": [
    "## 1) Loading data:"
   ]
  },
  {
   "cell_type": "code",
   "execution_count": null,
   "id": "000ce76d",
   "metadata": {},
   "outputs": [],
   "source": [
    "# Load data\n",
    "DATA_FOLDER = './MovieSummaries'\n",
    "CHARACTER_DATASET = DATA_FOLDER + '/character.metadata.tsv'\n",
    "MOVIE_DATASET = DATA_FOLDER + '/movie.metadata.tsv'\n",
    "NAME_DATASET = DATA_FOLDER + '/name.clusters.txt'\n",
    "PLOT_DATASET = DATA_FOLDER + '/plot_summaries.txt'\n",
    "TVTROPES_DATASET = DATA_FOLDER + '/tvtropes.clusters.txt'\n",
    "\n",
    "characters_columns = ['wikiID', 'movieID', 'releaseDate', 'charactName', 'birth', 'gender', 'height', 'ethnicity',\n",
    "                      'name_actor', 'age', 'charActID', 'charID', 'actID']\n",
    "movies_columns = ['wikiID', 'movieID', 'name_movie', 'releaseDate', 'revenue', 'runtime', 'languages',\n",
    "                  'countries', 'genres']\n",
    "\n",
    "characters = pd.read_table(CHARACTER_DATASET, header=None, names=characters_columns)\n",
    "movies = pd.read_table(MOVIE_DATASET, header=None, names=movies_columns)\n"
   ]
  },
  {
   "cell_type": "code",
   "execution_count": null,
   "id": "93af7b02",
   "metadata": {
    "scrolled": true
   },
   "outputs": [],
   "source": [
    "# Visualize characters data table\n",
    "characters.head()"
   ]
  },
  {
   "cell_type": "code",
   "execution_count": null,
   "id": "3e48c693",
   "metadata": {
    "scrolled": true
   },
   "outputs": [],
   "source": [
    "# Visualize movies data table\n",
    "movies.head()"
   ]
  },
  {
   "cell_type": "markdown",
   "id": "8a658291",
   "metadata": {},
   "source": [
    "## 2) Useful data for our problematics\n",
    "\n",
    "From this dataset, we first look at the **amount of information** available for each feature. This will help us determine the feasability of our project and guide us for the selection of a relevant subset of data to work on.\n",
    "\n",
    "With such a large database, it is complex to find a model that both describes the career of an English celebrity in the 40's and that of an actor in Japan in the 2000's. Cultural and economic differences also make it difficult to find a common metric for success. Therefore, we would like to limit ourselves to a consistent and comprehensible subset of the data.\n",
    "\n",
    "#### Relevant features\n",
    "First of all, we need to select the features we are interested in in the database. We decided to define the success of an actor depending on the number of movies they played and their corresponding box office revenue. It might also be relevant to have an understanding of the time line for the description of the career of an actor. In addition we would like to have information about the actor such as age, gender and ethnicity to mitigate a possible bias comming from a diffence in population distribution in our analysis. \n",
    "\n",
    "Thus the features we want to check are:\n",
    "* Actor name\n",
    "* Actor date of birth or age at the time of the movie\n",
    "* Actor gender\n",
    "* Actor ethnicity\n",
    "* Movie box office revenue\n",
    "* Movie release date"
   ]
  },
  {
   "cell_type": "code",
   "execution_count": null,
   "id": "23f4c28f",
   "metadata": {},
   "outputs": [],
   "source": [
    "# Make deep copies to make sure not to change original data\n",
    "characters_copy = characters.copy()\n",
    "movies_copy = movies.copy()"
   ]
  },
  {
   "cell_type": "markdown",
   "id": "30c2654c",
   "metadata": {},
   "source": [
    "We want to populate the characters data set with information on the movie in which characters appear. For this we perfom a left merge on characters_copy with movies_copy"
   ]
  },
  {
   "cell_type": "code",
   "execution_count": null,
   "id": "e6a5e152",
   "metadata": {},
   "outputs": [],
   "source": [
    "# Populate the character dataset with infromations about the movies\n",
    "character_movies = pd.merge(characters_copy, movies_copy, on=['wikiID', 'movieID', 'releaseDate'] , how='left')"
   ]
  },
  {
   "cell_type": "markdown",
   "id": "83dd70e4",
   "metadata": {},
   "source": [
    "Let's look at the amount of data on movie revenue and movie date that is missing (remember that a movie can appear multiple times - we can have data about two different actors that appeared in the same movie)"
   ]
  },
  {
   "cell_type": "code",
   "execution_count": null,
   "id": "deac4cbb",
   "metadata": {},
   "outputs": [],
   "source": [
    "# Compute the total number of movies\n",
    "nb_movies = len(character_movies['movieID'].unique())\n",
    "\n",
    "# Compute the number of movies for which we have \"box office revenue\"\n",
    "character_movies_revenue = character_movies[['movieID', 'revenue']]\n",
    "character_movies_revenue = character_movies_revenue.dropna()\n",
    "nb_movies_revenue = len(character_movies_revenue['movieID'].unique())\n",
    "\n",
    "# Compute the number of movies for which we have \"release date\"\n",
    "character_movies_date = character_movies[['movieID', 'releaseDate']]\n",
    "character_movies_date = character_movies_date.dropna()\n",
    "nb_movies_date = len(character_movies_date['movieID'].unique())\n",
    "\n",
    "# Print the results\n",
    "print(f\"The total number of movies we have is: {nb_movies}\")\n",
    "print(f\"The percentage of movies for which we have the revenue: {nb_movies_revenue/nb_movies*100 :.2f}%\")\n",
    "print(f\"The percentage of movies for which we have the release date: {nb_movies_date/nb_movies*100 :.5f}%\")"
   ]
  },
  {
   "cell_type": "markdown",
   "id": "28c1655c",
   "metadata": {},
   "source": [
    "As we can see most movies have a release date but only about 13% have information about the box office revenue. Let's look at this percentage per year (with a temporal axis)."
   ]
  },
  {
   "cell_type": "code",
   "execution_count": null,
   "id": "4182145c",
   "metadata": {},
   "outputs": [],
   "source": [
    "from helpers import complete_date\n",
    "\n",
    "# Make deep copy and keep only the movies for which we have the release date\n",
    "character_movies_filtered = character_movies.copy()\n",
    "character_movies_filtered = character_movies_filtered.dropna(subset=['releaseDate'])\n",
    "\n",
    "# Apply complete_date function to all release dates\n",
    "character_movies_filtered['releaseDate'] = character_movies_filtered['releaseDate'].apply(complete_date)\n",
    "\n",
    "# Convert to datetime format\n",
    "character_movies_filtered['releaseDate'] = pd.to_datetime(character_movies_filtered['releaseDate'], errors='coerce')"
   ]
  },
  {
   "cell_type": "code",
   "execution_count": null,
   "id": "3e0e4b7c",
   "metadata": {
    "scrolled": false
   },
   "outputs": [],
   "source": [
    "# Add a column with the year of the release date\n",
    "character_movies_filtered['year'] = character_movies_filtered['releaseDate'].dt.year\n",
    "\n",
    "# Count the number of movies per 10 years interval\n",
    "# For the total number of movies\n",
    "intervals = pd.cut(character_movies_filtered['year'], bins=range(1880, 2016, 10), right=False)\n",
    "nb_movies_per_interval = intervals.value_counts().sort_index()\n",
    "\n",
    "# For movies with the revenue\n",
    "character_movies_filtered_revenue = character_movies_filtered.dropna(subset=['revenue'])\n",
    "intervals_revenue = pd.cut(character_movies_filtered_revenue['year'], bins=range(1880, 2016, 10), right=False)\n",
    "nb_movies_per_interval_revenue = intervals_revenue.value_counts().sort_index()\n",
    "\n",
    "plt.figure(figsize=(10, 6))\n",
    "\n",
    "# Plot bar plot of number of movies per year\n",
    "tot_bar=plt.bar([f'{b.left}-{b.right-1}' for b in nb_movies_per_interval.index], \n",
    "                nb_movies_per_interval.values, label='Total number of movies')\n",
    "revenue_bar=plt.bar([f'{b.left}-{b.right-1}' for b in nb_movies_per_interval_revenue.index],\n",
    "                    nb_movies_per_interval_revenue.values, label='Number of movies with revenue')\n",
    "\n",
    "plt.title('Number of movies over decades')\n",
    "plt.xlabel('Year')\n",
    "plt.ylabel('Number of movies')\n",
    "plt.tick_params(axis='x', rotation=45)\n",
    "plt.legend()\n",
    "\n",
    "# Add the percentage on top of each bar\n",
    "for i, tot_bar in enumerate(tot_bar):\n",
    "    height_tot_bar = tot_bar.get_height()\n",
    "    height_revenue_bar = revenue_bar[i].get_height()\n",
    "    percent = height_revenue_bar/height_tot_bar *100\n",
    "    plt.text(tot_bar.get_x() + tot_bar.get_width() / 2, height_tot_bar + 5, \n",
    "             f'{percent:.2f}%', ha='center', va='bottom')\n",
    "\n",
    "# Show graph\n",
    "plt.show()"
   ]
  },
  {
   "cell_type": "markdown",
   "id": "db4f89d0",
   "metadata": {},
   "source": [
    "From this graph we can see that the percentage of revenue data increases through the year. It might thus be more relevant to perform our analysis on a subset of the years for which the revenue information is more present. We could for example only take movies starting from 1980."
   ]
  },
  {
   "cell_type": "code",
   "execution_count": null,
   "id": "cfc8ffa3",
   "metadata": {},
   "outputs": [],
   "source": [
    "# Remove all movies that where released before 1980\n",
    "character_movies_filtered = character_movies_filtered[character_movies_filtered.year >= 1980]\n",
    "\n",
    "# Look at the percentage of revenue data in this subset:\n",
    "# Compute the total number of movies\n",
    "nb_movies_1980 = len(character_movies_filtered['movieID'].unique())\n",
    "\n",
    "# Compute the number of movies for which we box office revenue\n",
    "character_movies_filtered_revenue_1980 = character_movies_filtered[['movieID', 'revenue']]\n",
    "character_movies_filtered_revenue_1980 = character_movies_filtered_revenue_1980.dropna()\n",
    "nb_movies_1980_revenue = len(character_movies_filtered_revenue_1980['movieID'].unique())\n",
    "\n",
    "print(f\"The percentage of movies for which we have the revenue after 1980: {nb_movies_1980_revenue/nb_movies_1980*100 :.2f}%\")"
   ]
  },
  {
   "cell_type": "markdown",
   "id": "fe0c4404",
   "metadata": {},
   "source": [
    "Let's have a look at the amount of revenue data we have per country"
   ]
  },
  {
   "cell_type": "code",
   "execution_count": null,
   "id": "78152129",
   "metadata": {},
   "outputs": [],
   "source": [
    "from helpers import sort_words, create_words_database\n",
    "# Make deep copy for the country analysis\n",
    "df_country = character_movies_filtered.copy()\n",
    "\n",
    "# Change countries into a list of String\n",
    "df_country['countries'] = df_country['countries'].str.extract(r'\\\"([\\w\\s]+)\\\"')\n",
    "df_country['countries'] = df_country['countries'].apply(lambda x: [x] if pd.notna(x) else ['Unknown'])\n",
    "\n",
    "# Count the number of movies per country\n",
    "countries_list = df_country['countries'].tolist()\n",
    "# Flaten the list of countries and sort the resulting list\n",
    "stored_countries = sort_words(countries_list)\n",
    "# Count the number of repetition per country\n",
    "nb_movies_per_country = create_words_database(stored_countries)\n",
    "# Sort by ascending order of movies made per country\n",
    "nb_movies_per_country = dict(sorted(nb_movies_per_country.items(), key=lambda item: item[1]))\n",
    "# Remove countries that shot less than 200 movies\n",
    "nb_movies_per_country = {country: nb for country, nb in nb_movies_per_country.items() if nb >= 200}\n",
    "\n",
    "\n",
    "# Count the number of movies with known revenue per country\n",
    "countries_list = df_country.dropna(subset=['revenue'])['countries'].tolist()\n",
    "# Flaten the list of countries and sort the resulting list\n",
    "stored_countries = sort_words(countries_list)\n",
    "# Count the number of repetition per country\n",
    "nb_movies_per_country_revenue = create_words_database(stored_countries)\n",
    "# Sort by ascending order of movies made per country\n",
    "nb_movies_per_country_revenue = dict(sorted(nb_movies_per_country_revenue.items(), key=lambda item: item[1]))\n",
    "\n",
    "\n",
    "# Keep countries with more than 200 movies and add to nb_movies_per_country_revenue countries without revenue data (set their number of movies to zero)\n",
    "country_200_movie = list(nb_movies_per_country.keys())\n",
    "nb_movies_per_country_revenue = {country: nb for country, nb in nb_movies_per_country_revenue.items() if country in country_200_movie}\n",
    "nb_movies_per_country_revenue.update({country: 0 for country in country_200_movie if country not in nb_movies_per_country_revenue})\n",
    "nb_movies_per_country_revenue = {country: nb_movies_per_country_revenue[country] for country in nb_movies_per_country}\n"
   ]
  },
  {
   "cell_type": "code",
   "execution_count": null,
   "id": "4bf9cba6",
   "metadata": {},
   "outputs": [],
   "source": [
    "# Extract the names of the countries and the value from each dictionary\n",
    "country_names = list(nb_movies_per_country.keys())\n",
    "nb_movies_tot = list(nb_movies_per_country.values())\n",
    "nb_movies_revenue = list(nb_movies_per_country_revenue.values())\n",
    "\n",
    "# Make a list of indices for the position of the bars\n",
    "indices = range(len(country_names))\n",
    "\n",
    "# Plot histogram\n",
    "plt.figure(figsize=(12, 6))\n",
    "bars_tot = plt.bar(indices, nb_movies_tot, label='Total number of movies')\n",
    "bars_revenue = plt.bar(indices, nb_movies_revenue, label='Number of movies with revenue')\n",
    "\n",
    "# Add label and title\n",
    "plt.xlabel('Country')\n",
    "plt.ylabel('Number of movies')\n",
    "plt.title('Number of movies per country')\n",
    "plt.xticks(indices, country_names, rotation=90)\n",
    "\n",
    "# Add the percentage on top of each bar\n",
    "for i, bars_tot in enumerate(bars_tot):\n",
    "    height_bars_tot = bars_tot.get_height()\n",
    "    height_bars_revenue = bars_revenue[i].get_height()\n",
    "    percent = height_bars_revenue/height_bars_tot *100\n",
    "    plt.text(bars_tot.get_x() + bars_tot.get_width() / 2, height_bars_tot + 5,\n",
    "             f'{percent:.0f}%', ha='center', va='bottom', size=7)\n",
    "\n",
    "\n",
    "# Show legend and histogram\n",
    "plt.legend()\n",
    "plt.tight_layout()\n",
    "plt.show()\n"
   ]
  },
  {
   "cell_type": "markdown",
   "id": "c918aca0",
   "metadata": {},
   "source": [
    "From this plot we can see that the majority of the movies in our dataset come from the U.S. and they also have a high percentage of revenue information. From this we decided to keep only movies that were made in the U.S."
   ]
  },
  {
   "cell_type": "code",
   "execution_count": null,
   "id": "97842d52",
   "metadata": {},
   "outputs": [],
   "source": [
    "# Keep only movies that where made in the U.S.\n",
    "character_movies_filtered = character_movies_filtered[\n",
    "    character_movies_filtered.countries.apply(lambda x:\"United States of America\" in x)]\n",
    "\n",
    "# Keep only movies for which we have the revenue\n",
    "character_movies_filtered = character_movies_filtered.dropna(subset=['revenue'])\n",
    "\n",
    "# Compute the number of movies left\n",
    "nb_tot_filtered_movies = len(character_movies_filtered['movieID'].unique())\n",
    "\n",
    "print(f'The remaining number of movies after the filtration is: {nb_tot_filtered_movies}.')"
   ]
  },
  {
   "cell_type": "markdown",
   "id": "6cfa1277",
   "metadata": {},
   "source": [
    "Now that we have filtered our data to have only U.S. movies which where released after and including the year 1980 and that have the revenue data we will look at the data we have on the actors."
   ]
  },
  {
   "cell_type": "code",
   "execution_count": null,
   "id": "cd76c4c9",
   "metadata": {},
   "outputs": [],
   "source": [
    "# Compute the total number of characters and actors\n",
    "nb_actors = len(character_movies_filtered['name_actor'].unique())\n",
    "\n",
    "# Compute the number of actors for which we have the name\n",
    "character_movies_name = character_movies_filtered[['name_actor']]\n",
    "character_movies_name = character_movies_name.dropna()\n",
    "nb_actors_name = len(character_movies_name['name_actor'].unique())\n",
    "\n",
    "# Compute the number of actors for which we have the date of birth\n",
    "character_movies_birth = character_movies_filtered[['birth', 'name_actor']]\n",
    "character_movies_birth = character_movies_birth.dropna()\n",
    "nb_actors_birth = len(character_movies_birth['name_actor'].unique())\n",
    "\n",
    "# Computer the number of actors for which we have the age (positive number)\n",
    "character_movies_age = character_movies_filtered[['age', 'name_actor']]\n",
    "character_movies_age = character_movies_age.dropna()\n",
    "character_movies_age = character_movies_age[character_movies_age.age>=0]\n",
    "nb_actors_age = len(character_movies_age['name_actor'].unique())\n",
    "\n",
    "# Compute the number of actors for which we have the gender\n",
    "character_movies_gender = character_movies_filtered[['gender', 'name_actor']]\n",
    "character_movies_gender = character_movies_gender.dropna()\n",
    "nb_actors_gender = len(character_movies_gender['name_actor'].unique())\n",
    "\n",
    "\n",
    "# Compute the number of actors for which we have the ethnicity\n",
    "character_movies_ethnicity = character_movies_filtered[['ethnicity', 'name_actor']]\n",
    "character_movies_ethnicity = character_movies_ethnicity.dropna()\n",
    "nb_actors_ethnicity = len(character_movies_ethnicity['name_actor'].unique())\n",
    "\n",
    "# Print the results\n",
    "print(f\"The total number of actors we have is: {nb_actors}\")\n",
    "print(f\"The percentage of actors for which we have the name is: {nb_actors_name/nb_actors*100 :.5f}\")\n",
    "print(f\"The percentage of actors for which we have the birth date is: {nb_actors_birth/nb_actors*100 :.2f}\")\n",
    "print(f\"The percentage of actors for which we have the age is: {nb_actors_age/nb_actors*100 :.2f}\")\n",
    "print(f\"The percentage of actors for which we have the gender is: {nb_actors_gender/nb_actors*100 :.2f}\")\n",
    "print(f\"The percentage of actors for which we have the ethnicity is: {nb_actors_ethnicity/nb_actors*100 :.2f}\")"
   ]
  },
  {
   "cell_type": "markdown",
   "id": "8b9cd34d",
   "metadata": {},
   "source": [
    "From this analysis we can see that we have enough information on the gender and on the age (esp. with birth date) of the actors. However ethnicity data is often missing. Thus, it might be good to filter only for birth date and gender."
   ]
  },
  {
   "cell_type": "code",
   "execution_count": null,
   "id": "d35c9a85",
   "metadata": {},
   "outputs": [],
   "source": [
    "# Filter for birth date\n",
    "character_movies_filtered = character_movies_filtered.dropna(subset=['birth'])\n",
    "\n",
    "# Filter for gender (NaN and aberrant values)\n",
    "character_movies_filtered = character_movies_filtered.dropna(subset=['gender'])\n",
    "character_movies_filtered = character_movies_filtered[\n",
    "    (character_movies_filtered.gender=='F') | (character_movies_filtered.gender=='M')]\n",
    "\n",
    "# Compute the remaining number of actors and movies\n",
    "nb_tot_filtered_movies = len(character_movies_filtered['movieID'].unique())\n",
    "nb_tot_filtered_actors = len(character_movies_filtered['name_actor'].unique())\n",
    "\n",
    "print(f'The remaining number of movies is: {nb_tot_filtered_movies}.')\n",
    "print(f'The remaining number of actors is: {nb_tot_filtered_actors}.')"
   ]
  },
  {
   "cell_type": "markdown",
   "id": "fc90d06f",
   "metadata": {},
   "source": [
    "Now that we have reduced our dataset to this smaller subset we can see that data handling will not be a problem.\n",
    "\n",
    "We will need to further filter our dataset to keep only actors that played at least in two movies. Let's first look at the distribution of the number of movies played by actor."
   ]
  },
  {
   "cell_type": "code",
   "execution_count": null,
   "id": "f73576a9",
   "metadata": {},
   "outputs": [],
   "source": [
    "# List all actors name (for filtered data)\n",
    "actors_names = character_movies_filtered['name_actor'].tolist()\n",
    "\n",
    "#count the repertition number of each actor name\n",
    "nb_mov_actor = create_words_database(sorted(actors_names))\n",
    "\n",
    "# Sort the actors by ascending order of movies played\n",
    "nb_mov_actor = dict(sorted(nb_mov_actor.items(), key=lambda item: item[1]))\n",
    "\n",
    "# Define intervals\n",
    "intervals = [1, 3, 6, 9, 12, 15, 18, 21]\n",
    "\n",
    "# Initialize a dictionary to stock the number of actors in each interval\n",
    "actors_per_interval = {i: 0 for i in range(len(intervals) + 1)}\n",
    "\n",
    "# Count the number of actors in each interval\n",
    "for actor, index in nb_mov_actor.items():\n",
    "    for i, threshold in enumerate(intervals):\n",
    "        if index <= threshold:\n",
    "            actors_per_interval[i] += 1\n",
    "            break\n",
    "    else:\n",
    "        actors_per_interval[len(intervals)] += 1\n",
    "\n",
    "# Plot histogram\n",
    "plt.bar(actors_per_interval.keys(), actors_per_interval.values(), align='center', alpha=0.7)\n",
    "# TODO \n",
    "plt.xticks(list(actors_per_interval.keys()), [f\"{i+1}-{j}\" for i, j in zip([0] + intervals, intervals + [float('inf')])])\n",
    "plt.xlabel('Number of movies played')\n",
    "plt.ylabel(\"Number of actors\")\n",
    "plt.title('Histogram of the distribution of the number of movies played per actor')\n",
    "plt.show()"
   ]
  },
  {
   "cell_type": "markdown",
   "id": "7de6d167",
   "metadata": {},
   "source": [
    "From this histogram we see that many actors played in only one movie so we will further decrease the size of our dataset to only keep actors that played in at least two movies."
   ]
  },
  {
   "cell_type": "code",
   "execution_count": null,
   "id": "39a9386b",
   "metadata": {},
   "outputs": [],
   "source": [
    "from helpers import at_least_2_movies\n",
    "\n",
    "# Apply filtering function to actor dictionary\n",
    "filtered_actors = dict(filter(at_least_2_movies, nb_mov_actor.items()))\n",
    "\n",
    "# Filter dataset\n",
    "character_movies_filtered = character_movies_filtered[character_movies_filtered['name_actor'].isin(filtered_actors.keys())]\n",
    "\n",
    "# Compute the remaining number of actors and movies\n",
    "nb_tot_filtered_movies = len(character_movies_filtered['movieID'].unique())\n",
    "nb_tot_filtered_actors = len(character_movies_filtered['name_actor'].unique())\n",
    "\n",
    "print(f'The remaining number of movies is: {nb_tot_filtered_movies}.')\n",
    "print(f'The remaining number of actors is: {nb_tot_filtered_actors}.')"
   ]
  },
  {
   "cell_type": "markdown",
   "id": "0215b6f9",
   "metadata": {},
   "source": [
    "## 3) Relating movie genres and actor's careers :\n",
    "\n",
    "In order to observe the career of actors in movie production, we thought it would be interessant to look at the genres of the movies they were playing in. "
   ]
  },
  {
   "cell_type": "code",
   "execution_count": null,
   "id": "aa5d3515",
   "metadata": {},
   "outputs": [],
   "source": [
    "# Get the number of rows\n",
    "num_rows = character_movies_filtered.shape[0]\n",
    "\n",
    "# Print the number of rows\n",
    "print(f\"The DataFrame has {num_rows} rows.\")"
   ]
  },
  {
   "cell_type": "code",
   "execution_count": null,
   "id": "424cc97f",
   "metadata": {},
   "outputs": [],
   "source": [
    "from helpers import extract_genre_names\n",
    "\n",
    "# Apply the function to the \"genres\" column\n",
    "character_movies_filtered['genres'] = character_movies_filtered['genres'].apply(extract_genre_names)\n",
    "\n",
    "character_movies_filtered.head(5)"
   ]
  },
  {
   "cell_type": "code",
   "execution_count": null,
   "id": "fb37706c",
   "metadata": {},
   "outputs": [],
   "source": [
    "# Group all the genres of movies to see how many remain and which genres exist\n",
    "movie_genres = character_movies_filtered['genres'].tolist()\n",
    "all_genres = sorted(list(set([genre for liste_genres in movie_genres for genre in liste_genres])))"
   ]
  },
  {
   "cell_type": "code",
   "execution_count": null,
   "id": "3416a211",
   "metadata": {
    "scrolled": true
   },
   "outputs": [],
   "source": [
    "print(f\"In the remaining dataset we have {len(all_genres)} movie genres as we can see in the following list : \")\n",
    "\n",
    "for genre in all_genres :\n",
    "    print(f\" ## {genre}\")"
   ]
  },
  {
   "cell_type": "code",
   "execution_count": null,
   "id": "3d56cc4d",
   "metadata": {},
   "outputs": [],
   "source": [
    "# Create an empty dictionary to track genre occurrences\n",
    "genre_occurrences = {}\n",
    "\n",
    "# Iterate through each row\n",
    "for i, row in character_movies_filtered.iterrows():\n",
    "    current_genres = row['genres']\n",
    "    \n",
    "    # Update the occurrences for each genre\n",
    "    for genre in current_genres:\n",
    "        genre_occurrences[genre] = genre_occurrences.get(genre, 0) + 1\n",
    "\n",
    "# Convert the dictionary to a DataFrame\n",
    "genre_occurrences_df = pd.DataFrame(list(genre_occurrences.items()), columns=['Genre', 'Occurrence'])\n",
    "\n",
    "# Sort the DataFrame by occurrence\n",
    "genre_occurrences_df = genre_occurrences_df.sort_values(by='Occurrence', ascending=False)\n",
    "\n",
    "# Select the top 50 genres\n",
    "top_50_genres = genre_occurrences_df.head(50)\n",
    "\n",
    "# Plot the occurrences of each genre\n",
    "plt.figure(figsize=(12, 8))\n",
    "plt.barh(top_50_genres['Genre'], top_50_genres['Occurrence'], color='skyblue')\n",
    "plt.xlabel('Occurrences')\n",
    "plt.ylabel('Genre')\n",
    "plt.title('Top 50 Genre Occurrences Across Rows')\n",
    "plt.show()\n"
   ]
  },
  {
   "cell_type": "code",
   "execution_count": null,
   "id": "9f5097f2",
   "metadata": {},
   "outputs": [],
   "source": [
    "# Print the top 8 genres with the most occurrences\n",
    "top_8_genres = genre_occurrences_df.head(8)\n",
    "print(\"Top 8 genres with the most occurrences:\")\n",
    "print(top_8_genres)\n"
   ]
  },
  {
   "cell_type": "markdown",
   "id": "5e864d75",
   "metadata": {},
   "source": [
    "As we just saw before the most represented genres in blockbuster movies are : Drama, Comedy, Thriller, Action, Romance Film, Action/Adventure, Crime Fiction and Adventure. So we can suppose that successful actors act more in movies of those genres.\n",
    "\n",
    "Analyzing an actor's career becomes particularly insightful when examining their involvement in similar types of movies. The key determinant of similarity among movies lies in their respective genres.\n",
    "\n",
    "Given the extensive number of movies within our dataset, it becomes prudent to gauge the similarity of each film in which an actor has participated. Consequently, for every actor, we can establish pairwise similarities among the films they've been a part of. A higher similarity value indicates a greater resemblance between two movies. For further informations regarding charachter types, we will analyse plot summaries to extract additional informations on types. This approach allows us to discern whether an actor consistently gravitates towards a specific genre or demonstrates versatility by engaging in various genres."
   ]
  }
 ],
 "metadata": {
  "kernelspec": {
   "display_name": "Python 3 (ipykernel)",
   "language": "python",
   "name": "python3"
  },
  "language_info": {
   "codemirror_mode": {
    "name": "ipython",
    "version": 3
   },
   "file_extension": ".py",
   "mimetype": "text/x-python",
   "name": "python",
   "nbconvert_exporter": "python",
   "pygments_lexer": "ipython3",
   "version": "3.11.4"
  }
 },
 "nbformat": 4,
 "nbformat_minor": 5
}
